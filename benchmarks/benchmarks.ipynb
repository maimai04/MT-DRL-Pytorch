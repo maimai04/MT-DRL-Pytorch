{
 "cells": [
  {
   "cell_type": "code",
   "execution_count": 12,
   "metadata": {},
   "outputs": [],
   "source": [
    "import numpy as np\n",
    "import pandas as pd\n",
    "import os\n",
    "import zipfile\n",
    "import matplotlib.pyplot as plt\n",
    "import glob\n",
    "\n",
    "from config.config import *\n",
    "#from analysis.analysis_functions import *\n",
    "import re"
   ]
  },
  {
   "cell_type": "code",
   "execution_count": 13,
   "metadata": {},
   "outputs": [
    {
     "data": {
      "text/plain": [
       "'C:\\\\Users\\\\Andy\\\\PycharmProjects\\\\finrlpaper2\\\\MT-DRL-Pytorch'"
      ]
     },
     "execution_count": 13,
     "metadata": {},
     "output_type": "execute_result"
    }
   ],
   "source": [
    "abspath = r\"C:\\Users\\Andy\\PycharmProjects\\finrlpaper2\\MT-DRL-Pytorch\"\n",
    "os.chdir(abspath)\n",
    "cwd_ = os.getcwd() # get current working directory\n",
    "cwd_\n",
    "# todo: rm"
   ]
  },
  {
   "cell_type": "code",
   "execution_count": 15,
   "metadata": {
    "pycharm": {
     "name": "#%%\n"
    }
   },
   "outputs": [
    {
     "data": {
      "text/html": [
       "<div>\n",
       "<style scoped>\n",
       "    .dataframe tbody tr th:only-of-type {\n",
       "        vertical-align: middle;\n",
       "    }\n",
       "\n",
       "    .dataframe tbody tr th {\n",
       "        vertical-align: top;\n",
       "    }\n",
       "\n",
       "    .dataframe thead th {\n",
       "        text-align: right;\n",
       "    }\n",
       "</style>\n",
       "<table border=\"1\" class=\"dataframe\">\n",
       "  <thead>\n",
       "    <tr style=\"text-align: right;\">\n",
       "      <th></th>\n",
       "      <th>datadate</th>\n",
       "      <th>tic</th>\n",
       "      <th>adjcp</th>\n",
       "      <th>high</th>\n",
       "      <th>low</th>\n",
       "      <th>volume</th>\n",
       "      <th>macd</th>\n",
       "      <th>rsi_30</th>\n",
       "      <th>cci_30</th>\n",
       "      <th>dx_30</th>\n",
       "      <th>ret_vola_7d</th>\n",
       "      <th>return_daily</th>\n",
       "      <th>log_return_daily</th>\n",
       "      <th>ret_vola_21d</th>\n",
       "      <th>ret_vola_63d</th>\n",
       "    </tr>\n",
       "  </thead>\n",
       "  <tbody>\n",
       "    <tr>\n",
       "      <th>1263</th>\n",
       "      <td>20000103</td>\n",
       "      <td>AAPL</td>\n",
       "      <td>0.999442</td>\n",
       "      <td>1.004464</td>\n",
       "      <td>0.907924</td>\n",
       "      <td>4783300.0</td>\n",
       "      <td>0.020676</td>\n",
       "      <td>61.890875</td>\n",
       "      <td>96.374508</td>\n",
       "      <td>29.030634</td>\n",
       "      <td>0.041159</td>\n",
       "      <td>0.088754</td>\n",
       "      <td>0.085034</td>\n",
       "      <td>0.037706</td>\n",
       "      <td>0.039918</td>\n",
       "    </tr>\n",
       "    <tr>\n",
       "      <th>7921</th>\n",
       "      <td>20000103</td>\n",
       "      <td>AMGN</td>\n",
       "      <td>62.937500</td>\n",
       "      <td>70.000000</td>\n",
       "      <td>62.875000</td>\n",
       "      <td>22916100.0</td>\n",
       "      <td>4.433505</td>\n",
       "      <td>67.222606</td>\n",
       "      <td>219.105316</td>\n",
       "      <td>48.280407</td>\n",
       "      <td>0.055611</td>\n",
       "      <td>0.047867</td>\n",
       "      <td>0.046756</td>\n",
       "      <td>0.040388</td>\n",
       "      <td>0.033829</td>\n",
       "    </tr>\n",
       "  </tbody>\n",
       "</table>\n",
       "</div>"
      ],
      "text/plain": [
       "      datadate   tic      adjcp       high        low      volume      macd  \\\n",
       "1263  20000103  AAPL   0.999442   1.004464   0.907924   4783300.0  0.020676   \n",
       "7921  20000103  AMGN  62.937500  70.000000  62.875000  22916100.0  4.433505   \n",
       "\n",
       "         rsi_30      cci_30      dx_30  ret_vola_7d  return_daily  \\\n",
       "1263  61.890875   96.374508  29.030634     0.041159      0.088754   \n",
       "7921  67.222606  219.105316  48.280407     0.055611      0.047867   \n",
       "\n",
       "      log_return_daily  ret_vola_21d  ret_vola_63d  \n",
       "1263          0.085034      0.037706      0.039918  \n",
       "7921          0.046756      0.040388      0.033829  "
      ]
     },
     "execution_count": 15,
     "metadata": {},
     "output_type": "execute_result"
    }
   ],
   "source": [
    "# paths to DATAFILE\n",
    "data_path = os.path.join(\"data\", \"preprocessed\", \"US_stocks_WDB.csv\")\n",
    "\n",
    "# import data\n",
    "data = pd.read_csv(data_path, index_col=0)\n",
    "data.head(2)"
   ]
  },
  {
   "cell_type": "code",
   "execution_count": null,
   "metadata": {
    "pycharm": {
     "name": "#%%\n"
    }
   },
   "outputs": [],
   "source": [
    "# create equally weighted portfolio"
   ]
  }
 ],
 "metadata": {
  "kernelspec": {
   "display_name": "Python 3",
   "language": "python",
   "name": "python3"
  },
  "language_info": {
   "codemirror_mode": {
    "name": "ipython",
    "version": 3
   },
   "file_extension": ".py",
   "mimetype": "text/x-python",
   "name": "python",
   "nbconvert_exporter": "python",
   "pygments_lexer": "ipython3",
   "version": "3.7.7"
  }
 },
 "nbformat": 4,
 "nbformat_minor": 1
}