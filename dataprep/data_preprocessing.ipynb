{
 "cells": [
  {
   "cell_type": "code",
   "execution_count": 1,
   "metadata": {},
   "outputs": [],
   "source": [
    "import numpy as np\n",
    "import pandas as pd\n",
    "import matplotlib\n",
    "import matplotlib.pyplot as plt\n",
    "import seaborn as sns\n",
    "import os\n",
    "\n",
    "# own code library\n",
    "from config.config import *\n",
    "from config.dataprep_config import *\n",
    "from plotting import *\n",
    "from dataprep.preprocessors import *"
   ]
  },
  {
   "cell_type": "code",
   "execution_count": 2,
   "metadata": {},
   "outputs": [],
   "source": [
    "abspath = r\"C:\\Users\\Andy\\PycharmProjects\\finrlpaper2\\MT-DRL-Pytorch\""
   ]
  },
  {
   "cell_type": "markdown",
   "metadata": {},
   "source": [
    "# Preprocessing US stock dataset\n",
    "Using intermediate dataset, where unfit company tics have already been removed."
   ]
  },
  {
   "cell_type": "code",
   "execution_count": 3,
   "metadata": {
    "pycharm": {
     "is_executing": true
    }
   },
   "outputs": [
    {
     "data": {
      "text/html": [
       "<div>\n",
       "<style scoped>\n",
       "    .dataframe tbody tr th:only-of-type {\n",
       "        vertical-align: middle;\n",
       "    }\n",
       "\n",
       "    .dataframe tbody tr th {\n",
       "        vertical-align: top;\n",
       "    }\n",
       "\n",
       "    .dataframe thead th {\n",
       "        text-align: right;\n",
       "    }\n",
       "</style>\n",
       "<table border=\"1\" class=\"dataframe\">\n",
       "  <thead>\n",
       "    <tr style=\"text-align: right;\">\n",
       "      <th></th>\n",
       "      <th>iid</th>\n",
       "      <th>datadate</th>\n",
       "      <th>tic</th>\n",
       "      <th>conm</th>\n",
       "      <th>ajexdi</th>\n",
       "      <th>cshoc</th>\n",
       "      <th>cshtrd</th>\n",
       "      <th>eps</th>\n",
       "      <th>prccd</th>\n",
       "      <th>prchd</th>\n",
       "      <th>prcld</th>\n",
       "      <th>prcod</th>\n",
       "      <th>prcstd</th>\n",
       "      <th>trfd</th>\n",
       "      <th>log_prccd</th>\n",
       "    </tr>\n",
       "    <tr>\n",
       "      <th>gvkey</th>\n",
       "      <th></th>\n",
       "      <th></th>\n",
       "      <th></th>\n",
       "      <th></th>\n",
       "      <th></th>\n",
       "      <th></th>\n",
       "      <th></th>\n",
       "      <th></th>\n",
       "      <th></th>\n",
       "      <th></th>\n",
       "      <th></th>\n",
       "      <th></th>\n",
       "      <th></th>\n",
       "      <th></th>\n",
       "      <th></th>\n",
       "    </tr>\n",
       "  </thead>\n",
       "  <tbody>\n",
       "    <tr>\n",
       "      <th>1690</th>\n",
       "      <td>1</td>\n",
       "      <td>19950103</td>\n",
       "      <td>AAPL</td>\n",
       "      <td>APPLE INC</td>\n",
       "      <td>112.0</td>\n",
       "      <td>NaN</td>\n",
       "      <td>927400.0</td>\n",
       "      <td>NaN</td>\n",
       "      <td>38.375</td>\n",
       "      <td>38.875</td>\n",
       "      <td>37.875</td>\n",
       "      <td>NaN</td>\n",
       "      <td>3.0</td>\n",
       "      <td>1.083307</td>\n",
       "      <td>3.647406</td>\n",
       "    </tr>\n",
       "    <tr>\n",
       "      <th>1690</th>\n",
       "      <td>1</td>\n",
       "      <td>19950104</td>\n",
       "      <td>AAPL</td>\n",
       "      <td>APPLE INC</td>\n",
       "      <td>112.0</td>\n",
       "      <td>NaN</td>\n",
       "      <td>1416800.0</td>\n",
       "      <td>NaN</td>\n",
       "      <td>39.375</td>\n",
       "      <td>39.625</td>\n",
       "      <td>38.625</td>\n",
       "      <td>NaN</td>\n",
       "      <td>3.0</td>\n",
       "      <td>1.083307</td>\n",
       "      <td>3.673131</td>\n",
       "    </tr>\n",
       "    <tr>\n",
       "      <th>1690</th>\n",
       "      <td>1</td>\n",
       "      <td>19950105</td>\n",
       "      <td>AAPL</td>\n",
       "      <td>APPLE INC</td>\n",
       "      <td>112.0</td>\n",
       "      <td>NaN</td>\n",
       "      <td>657500.0</td>\n",
       "      <td>NaN</td>\n",
       "      <td>38.875</td>\n",
       "      <td>39.375</td>\n",
       "      <td>38.750</td>\n",
       "      <td>NaN</td>\n",
       "      <td>3.0</td>\n",
       "      <td>1.083307</td>\n",
       "      <td>3.660351</td>\n",
       "    </tr>\n",
       "    <tr>\n",
       "      <th>1690</th>\n",
       "      <td>1</td>\n",
       "      <td>19950106</td>\n",
       "      <td>AAPL</td>\n",
       "      <td>APPLE INC</td>\n",
       "      <td>112.0</td>\n",
       "      <td>NaN</td>\n",
       "      <td>9613000.0</td>\n",
       "      <td>NaN</td>\n",
       "      <td>42.000</td>\n",
       "      <td>43.125</td>\n",
       "      <td>41.125</td>\n",
       "      <td>NaN</td>\n",
       "      <td>3.0</td>\n",
       "      <td>1.083307</td>\n",
       "      <td>3.737670</td>\n",
       "    </tr>\n",
       "    <tr>\n",
       "      <th>1690</th>\n",
       "      <td>1</td>\n",
       "      <td>19950109</td>\n",
       "      <td>AAPL</td>\n",
       "      <td>APPLE INC</td>\n",
       "      <td>112.0</td>\n",
       "      <td>NaN</td>\n",
       "      <td>2447000.0</td>\n",
       "      <td>NaN</td>\n",
       "      <td>41.203</td>\n",
       "      <td>41.875</td>\n",
       "      <td>41.000</td>\n",
       "      <td>NaN</td>\n",
       "      <td>3.0</td>\n",
       "      <td>1.083307</td>\n",
       "      <td>3.718511</td>\n",
       "    </tr>\n",
       "  </tbody>\n",
       "</table>\n",
       "</div>"
      ],
      "text/plain": [
       "       iid  datadate   tic       conm  ajexdi  cshoc     cshtrd  eps   prccd  \\\n",
       "gvkey                                                                          \n",
       "1690     1  19950103  AAPL  APPLE INC   112.0    NaN   927400.0  NaN  38.375   \n",
       "1690     1  19950104  AAPL  APPLE INC   112.0    NaN  1416800.0  NaN  39.375   \n",
       "1690     1  19950105  AAPL  APPLE INC   112.0    NaN   657500.0  NaN  38.875   \n",
       "1690     1  19950106  AAPL  APPLE INC   112.0    NaN  9613000.0  NaN  42.000   \n",
       "1690     1  19950109  AAPL  APPLE INC   112.0    NaN  2447000.0  NaN  41.203   \n",
       "\n",
       "        prchd   prcld  prcod  prcstd      trfd  log_prccd  \n",
       "gvkey                                                      \n",
       "1690   38.875  37.875    NaN     3.0  1.083307   3.647406  \n",
       "1690   39.625  38.625    NaN     3.0  1.083307   3.673131  \n",
       "1690   39.375  38.750    NaN     3.0  1.083307   3.660351  \n",
       "1690   43.125  41.125    NaN     3.0  1.083307   3.737670  \n",
       "1690   41.875  41.000    NaN     3.0  1.083307   3.718511  "
      ]
     },
     "execution_count": 3,
     "metadata": {},
     "output_type": "execute_result"
    }
   ],
   "source": [
    "df_us = pd.read_csv(os.path.join(abspath, \"data\", \"intermediate\", \"US_stocks_WDB_a.csv\"), index_col=0)\n",
    "df_us.head()"
   ]
  },
  {
   "cell_type": "markdown",
   "metadata": {},
   "source": [
    "#### Calculate: adjcp (adjusted clising price), open, high, low, volume"
   ]
  },
  {
   "cell_type": "code",
   "execution_count": 4,
   "metadata": {
    "pycharm": {
     "is_executing": true
    }
   },
   "outputs": [
    {
     "data": {
      "text/html": [
       "<div>\n",
       "<style scoped>\n",
       "    .dataframe tbody tr th:only-of-type {\n",
       "        vertical-align: middle;\n",
       "    }\n",
       "\n",
       "    .dataframe tbody tr th {\n",
       "        vertical-align: top;\n",
       "    }\n",
       "\n",
       "    .dataframe thead th {\n",
       "        text-align: right;\n",
       "    }\n",
       "</style>\n",
       "<table border=\"1\" class=\"dataframe\">\n",
       "  <thead>\n",
       "    <tr style=\"text-align: right;\">\n",
       "      <th></th>\n",
       "      <th>iid</th>\n",
       "      <th>datadate</th>\n",
       "      <th>tic</th>\n",
       "      <th>conm</th>\n",
       "      <th>ajexdi</th>\n",
       "      <th>cshoc</th>\n",
       "      <th>cshtrd</th>\n",
       "      <th>eps</th>\n",
       "      <th>prccd</th>\n",
       "      <th>prchd</th>\n",
       "      <th>prcld</th>\n",
       "      <th>prcod</th>\n",
       "      <th>prcstd</th>\n",
       "      <th>trfd</th>\n",
       "      <th>log_prccd</th>\n",
       "      <th>adjcp</th>\n",
       "      <th>open</th>\n",
       "      <th>high</th>\n",
       "      <th>low</th>\n",
       "      <th>volume</th>\n",
       "    </tr>\n",
       "  </thead>\n",
       "  <tbody>\n",
       "    <tr>\n",
       "      <th>0</th>\n",
       "      <td>1</td>\n",
       "      <td>19950103</td>\n",
       "      <td>AAPL</td>\n",
       "      <td>APPLE INC</td>\n",
       "      <td>112.0</td>\n",
       "      <td>NaN</td>\n",
       "      <td>927400.0</td>\n",
       "      <td>NaN</td>\n",
       "      <td>38.375</td>\n",
       "      <td>38.875</td>\n",
       "      <td>37.875</td>\n",
       "      <td>NaN</td>\n",
       "      <td>3.0</td>\n",
       "      <td>1.083307</td>\n",
       "      <td>3.647406</td>\n",
       "      <td>0.342634</td>\n",
       "      <td>NaN</td>\n",
       "      <td>0.347098</td>\n",
       "      <td>0.338170</td>\n",
       "      <td>927400.0</td>\n",
       "    </tr>\n",
       "    <tr>\n",
       "      <th>1</th>\n",
       "      <td>1</td>\n",
       "      <td>19950104</td>\n",
       "      <td>AAPL</td>\n",
       "      <td>APPLE INC</td>\n",
       "      <td>112.0</td>\n",
       "      <td>NaN</td>\n",
       "      <td>1416800.0</td>\n",
       "      <td>NaN</td>\n",
       "      <td>39.375</td>\n",
       "      <td>39.625</td>\n",
       "      <td>38.625</td>\n",
       "      <td>NaN</td>\n",
       "      <td>3.0</td>\n",
       "      <td>1.083307</td>\n",
       "      <td>3.673131</td>\n",
       "      <td>0.351562</td>\n",
       "      <td>NaN</td>\n",
       "      <td>0.353795</td>\n",
       "      <td>0.344866</td>\n",
       "      <td>1416800.0</td>\n",
       "    </tr>\n",
       "    <tr>\n",
       "      <th>2</th>\n",
       "      <td>1</td>\n",
       "      <td>19950105</td>\n",
       "      <td>AAPL</td>\n",
       "      <td>APPLE INC</td>\n",
       "      <td>112.0</td>\n",
       "      <td>NaN</td>\n",
       "      <td>657500.0</td>\n",
       "      <td>NaN</td>\n",
       "      <td>38.875</td>\n",
       "      <td>39.375</td>\n",
       "      <td>38.750</td>\n",
       "      <td>NaN</td>\n",
       "      <td>3.0</td>\n",
       "      <td>1.083307</td>\n",
       "      <td>3.660351</td>\n",
       "      <td>0.347098</td>\n",
       "      <td>NaN</td>\n",
       "      <td>0.351562</td>\n",
       "      <td>0.345982</td>\n",
       "      <td>657500.0</td>\n",
       "    </tr>\n",
       "  </tbody>\n",
       "</table>\n",
       "</div>"
      ],
      "text/plain": [
       "   iid  datadate   tic       conm  ajexdi  cshoc     cshtrd  eps   prccd  \\\n",
       "0    1  19950103  AAPL  APPLE INC   112.0    NaN   927400.0  NaN  38.375   \n",
       "1    1  19950104  AAPL  APPLE INC   112.0    NaN  1416800.0  NaN  39.375   \n",
       "2    1  19950105  AAPL  APPLE INC   112.0    NaN   657500.0  NaN  38.875   \n",
       "\n",
       "    prchd   prcld  prcod  prcstd      trfd  log_prccd     adjcp  open  \\\n",
       "0  38.875  37.875    NaN     3.0  1.083307   3.647406  0.342634   NaN   \n",
       "1  39.625  38.625    NaN     3.0  1.083307   3.673131  0.351562   NaN   \n",
       "2  39.375  38.750    NaN     3.0  1.083307   3.660351  0.347098   NaN   \n",
       "\n",
       "       high       low     volume  \n",
       "0  0.347098  0.338170   927400.0  \n",
       "1  0.353795  0.344866  1416800.0  \n",
       "2  0.351562  0.345982   657500.0  "
      ]
     },
     "execution_count": 4,
     "metadata": {},
     "output_type": "execute_result"
    }
   ],
   "source": [
    "# function from preprocessors.py\n",
    "df_us = calculate_price_volume_WhartonData(df=df_us.copy(), \n",
    "                                   new_cols_subset=data_settings.NEW_COLS_SUBSET, \n",
    "                                   target_subset=None)\n",
    "df_us.head(3)"
   ]
  },
  {
   "cell_type": "markdown",
   "metadata": {},
   "source": [
    "#### Calculate: technical indicators\n"
   ]
  },
  {
   "cell_type": "code",
   "execution_count": 5,
   "metadata": {
    "pycharm": {
     "is_executing": true,
     "name": "#%%\n"
    }
   },
   "outputs": [
    {
     "data": {
      "text/html": [
       "<div>\n",
       "<style scoped>\n",
       "    .dataframe tbody tr th:only-of-type {\n",
       "        vertical-align: middle;\n",
       "    }\n",
       "\n",
       "    .dataframe tbody tr th {\n",
       "        vertical-align: top;\n",
       "    }\n",
       "\n",
       "    .dataframe thead th {\n",
       "        text-align: right;\n",
       "    }\n",
       "</style>\n",
       "<table border=\"1\" class=\"dataframe\">\n",
       "  <thead>\n",
       "    <tr style=\"text-align: right;\">\n",
       "      <th></th>\n",
       "      <th>iid</th>\n",
       "      <th>datadate</th>\n",
       "      <th>tic</th>\n",
       "      <th>conm</th>\n",
       "      <th>ajexdi</th>\n",
       "      <th>cshoc</th>\n",
       "      <th>cshtrd</th>\n",
       "      <th>eps</th>\n",
       "      <th>prccd</th>\n",
       "      <th>prchd</th>\n",
       "      <th>...</th>\n",
       "      <th>log_prccd</th>\n",
       "      <th>adjcp</th>\n",
       "      <th>open</th>\n",
       "      <th>high</th>\n",
       "      <th>low</th>\n",
       "      <th>volume</th>\n",
       "      <th>macd</th>\n",
       "      <th>rsi_21</th>\n",
       "      <th>cci_21</th>\n",
       "      <th>dx_21</th>\n",
       "    </tr>\n",
       "  </thead>\n",
       "  <tbody>\n",
       "    <tr>\n",
       "      <th>0</th>\n",
       "      <td>1</td>\n",
       "      <td>19950103</td>\n",
       "      <td>AAPL</td>\n",
       "      <td>APPLE INC</td>\n",
       "      <td>112.0</td>\n",
       "      <td>NaN</td>\n",
       "      <td>927400.0</td>\n",
       "      <td>NaN</td>\n",
       "      <td>38.375</td>\n",
       "      <td>38.875</td>\n",
       "      <td>...</td>\n",
       "      <td>3.647406</td>\n",
       "      <td>0.342634</td>\n",
       "      <td>NaN</td>\n",
       "      <td>0.347098</td>\n",
       "      <td>0.338170</td>\n",
       "      <td>927400.0</td>\n",
       "      <td>0.000000</td>\n",
       "      <td>NaN</td>\n",
       "      <td>NaN</td>\n",
       "      <td>NaN</td>\n",
       "    </tr>\n",
       "    <tr>\n",
       "      <th>1</th>\n",
       "      <td>1</td>\n",
       "      <td>19950104</td>\n",
       "      <td>AAPL</td>\n",
       "      <td>APPLE INC</td>\n",
       "      <td>112.0</td>\n",
       "      <td>NaN</td>\n",
       "      <td>1416800.0</td>\n",
       "      <td>NaN</td>\n",
       "      <td>39.375</td>\n",
       "      <td>39.625</td>\n",
       "      <td>...</td>\n",
       "      <td>3.673131</td>\n",
       "      <td>0.351562</td>\n",
       "      <td>NaN</td>\n",
       "      <td>0.353795</td>\n",
       "      <td>0.344866</td>\n",
       "      <td>1416800.0</td>\n",
       "      <td>0.000200</td>\n",
       "      <td>100.00000</td>\n",
       "      <td>66.666667</td>\n",
       "      <td>100.0</td>\n",
       "    </tr>\n",
       "    <tr>\n",
       "      <th>2</th>\n",
       "      <td>1</td>\n",
       "      <td>19950105</td>\n",
       "      <td>AAPL</td>\n",
       "      <td>APPLE INC</td>\n",
       "      <td>112.0</td>\n",
       "      <td>NaN</td>\n",
       "      <td>657500.0</td>\n",
       "      <td>NaN</td>\n",
       "      <td>38.875</td>\n",
       "      <td>39.375</td>\n",
       "      <td>...</td>\n",
       "      <td>3.660351</td>\n",
       "      <td>0.347098</td>\n",
       "      <td>NaN</td>\n",
       "      <td>0.351562</td>\n",
       "      <td>0.345982</td>\n",
       "      <td>657500.0</td>\n",
       "      <td>0.000117</td>\n",
       "      <td>65.57377</td>\n",
       "      <td>28.571429</td>\n",
       "      <td>100.0</td>\n",
       "    </tr>\n",
       "  </tbody>\n",
       "</table>\n",
       "<p>3 rows × 24 columns</p>\n",
       "</div>"
      ],
      "text/plain": [
       "   iid  datadate   tic       conm  ajexdi  cshoc     cshtrd  eps   prccd  \\\n",
       "0    1  19950103  AAPL  APPLE INC   112.0    NaN   927400.0  NaN  38.375   \n",
       "1    1  19950104  AAPL  APPLE INC   112.0    NaN  1416800.0  NaN  39.375   \n",
       "2    1  19950105  AAPL  APPLE INC   112.0    NaN   657500.0  NaN  38.875   \n",
       "\n",
       "    prchd  ...  log_prccd     adjcp  open      high       low     volume  \\\n",
       "0  38.875  ...   3.647406  0.342634   NaN  0.347098  0.338170   927400.0   \n",
       "1  39.625  ...   3.673131  0.351562   NaN  0.353795  0.344866  1416800.0   \n",
       "2  39.375  ...   3.660351  0.347098   NaN  0.351562  0.345982   657500.0   \n",
       "\n",
       "       macd     rsi_21     cci_21  dx_21  \n",
       "0  0.000000        NaN        NaN    NaN  \n",
       "1  0.000200  100.00000  66.666667  100.0  \n",
       "2  0.000117   65.57377  28.571429  100.0  \n",
       "\n",
       "[3 rows x 24 columns]"
      ]
     },
     "execution_count": 5,
     "metadata": {},
     "output_type": "execute_result"
    }
   ],
   "source": [
    "# note: this usually takes up to 5 min on my laptop\n",
    "df_us = add_technical_indicator_with_StockStats(df=df_us, \n",
    "                                                technical_indicators_list=[\"macd\", \"rsi_21\", \"cci_21\", \"dx_21\"])\n",
    "df_us.head(3)"
   ]
  },
  {
   "cell_type": "markdown",
   "metadata": {},
   "source": [
    "#### Calculate: other features, such as trading volume, volatility, return"
   ]
  },
  {
   "cell_type": "code",
   "execution_count": 6,
   "metadata": {
    "pycharm": {
     "is_executing": true
    }
   },
   "outputs": [],
   "source": [
    "df_us = add_other_features(df=df_us,\n",
    "                       features=[\"returns_volatility\", \"return_daily\", \"log_return_daily\"],\n",
    "                       window_days_vola=7, # window is only relevant for volatility, as returns are always daily here\n",
    "                       min_periods_vola=7, # min periods to be in window for calculatiom, otherwise NaN calculated\n",
    "                       price_colum=data_settings.MAIN_PRICE_COLUMN,\n",
    "                       asset_name_column=data_settings.ASSET_NAME_COLUMN)\n",
    "df_us.rename(columns={\"returns_volatility\":\"ret_vola_7d\"}, inplace=True)"
   ]
  },
  {
   "cell_type": "code",
   "execution_count": 7,
   "metadata": {
    "pycharm": {
     "is_executing": true
    }
   },
   "outputs": [
    {
     "name": "stdout",
     "output_type": "stream",
     "text": [
      "0         NaN\n",
      "1         NaN\n",
      "2         NaN\n",
      "3         NaN\n",
      "4         NaN\n",
      "5         NaN\n",
      "6         NaN\n",
      "7    0.045942\n",
      "8    0.047910\n",
      "9    0.047445\n",
      "Name: ret_vola_7d, dtype: float64\n"
     ]
    },
    {
     "data": {
      "text/plain": [
       "7.0"
      ]
     },
     "execution_count": 7,
     "metadata": {},
     "output_type": "execute_result"
    }
   ],
   "source": [
    "print(df_us[\"ret_vola_7d\"].head(10))\n",
    "df_us[\"ret_vola_7d\"].isna().sum()/29 # for each of the 29 tickers"
   ]
  },
  {
   "cell_type": "code",
   "execution_count": 8,
   "metadata": {
    "pycharm": {
     "is_executing": true
    }
   },
   "outputs": [],
   "source": [
    "df_us = add_other_features(df=df_us,\n",
    "                       features=[\"returns_volatility\"],\n",
    "                       window_days_vola=21, # 21 trading days in a month, usually\n",
    "                       min_periods_vola=21,\n",
    "                       price_colum=data_settings.MAIN_PRICE_COLUMN,\n",
    "                       asset_name_column=data_settings.ASSET_NAME_COLUMN)\n",
    "df_us.rename(columns={\"returns_volatility\":\"ret_vola_21d\"}, inplace=True)"
   ]
  },
  {
   "cell_type": "code",
   "execution_count": 9,
   "metadata": {
    "pycharm": {
     "is_executing": true
    }
   },
   "outputs": [
    {
     "data": {
      "text/plain": [
       "21.0"
      ]
     },
     "execution_count": 9,
     "metadata": {},
     "output_type": "execute_result"
    }
   ],
   "source": [
    "df_us[\"ret_vola_21d\"].head(100)\n",
    "df_us[\"ret_vola_21d\"].isna().sum()/29 "
   ]
  },
  {
   "cell_type": "code",
   "execution_count": null,
   "metadata": {
    "pycharm": {
     "is_executing": true
    }
   },
   "outputs": [],
   "source": [
    "df_us = add_other_features(df=df_us,\n",
    "                       features=[\"returns_volatility\"],\n",
    "                       window_days_vola=63, # 63 trading days in a quarter, usually\n",
    "                       min_periods_vola=63,\n",
    "                       price_colum=data_settings.MAIN_PRICE_COLUMN,\n",
    "                       asset_name_column=data_settings.ASSET_NAME_COLUMN)\n",
    "df_us.rename(columns={\"returns_volatility\":\"ret_vola_63d\"}, inplace=True)"
   ]
  },
  {
   "cell_type": "code",
   "execution_count": null,
   "metadata": {
    "pycharm": {
     "is_executing": true
    }
   },
   "outputs": [],
   "source": [
    "df_us.head(100)"
   ]
  },
  {
   "cell_type": "code",
   "execution_count": null,
   "metadata": {
    "pycharm": {
     "is_executing": true
    }
   },
   "outputs": [],
   "source": [
    "df_us.sort_values(by=[\"datadate\", \"tic\"], inplace=True)\n",
    "df_us[\"adjcp\"].tail()"
   ]
  },
  {
   "cell_type": "code",
   "execution_count": null,
   "metadata": {
    "pycharm": {
     "is_executing": true
    }
   },
   "outputs": [],
   "source": [
    "df_us.loc[df_us[\"datadate\"]>=20210611, [\"datadate\", \"tic\", \"adjcp\"]]\n",
    "### TODO: remove Nan, especially after date 14.6.2021: df[df[\"datadate\"]>=20210614] (last load was on 13.6.2021)"
   ]
  },
  {
   "cell_type": "code",
   "execution_count": null,
   "metadata": {
    "pycharm": {
     "is_executing": true
    }
   },
   "outputs": [],
   "source": [
    "# removing data that goes beyond the latest fetching date (20210611)\n",
    "df_us = df_us[df_us[\"datadate\"]<=20210611]"
   ]
  },
  {
   "cell_type": "code",
   "execution_count": null,
   "metadata": {
    "pycharm": {
     "is_executing": true
    }
   },
   "outputs": [],
   "source": [
    "df_us[\"adjcp\"].tail()"
   ]
  },
  {
   "cell_type": "code",
   "execution_count": null,
   "metadata": {
    "pycharm": {
     "is_executing": true
    }
   },
   "outputs": [],
   "source": [
    "df_us.columns"
   ]
  },
  {
   "cell_type": "code",
   "execution_count": null,
   "metadata": {
    "pycharm": {
     "is_executing": true
    }
   },
   "outputs": [],
   "source": [
    "relevant_cols = ['datadate', 'tic','eps','adjcp', 'open', 'high', 'low', 'volume', 'macd', 'rsi_21', 'cci_21',\n",
    "                 'dx_21', 'ret_vola_7d', 'return_daily', 'log_return_daily','ret_vola_21d', 'ret_vola_63d']"
   ]
  },
  {
   "cell_type": "code",
   "execution_count": null,
   "metadata": {
    "pycharm": {
     "is_executing": true
    }
   },
   "outputs": [],
   "source": [
    "df_us = df_us[relevant_cols]\n",
    "df_us.head()"
   ]
  },
  {
   "cell_type": "code",
   "execution_count": null,
   "metadata": {
    "pycharm": {
     "is_executing": true
    }
   },
   "outputs": [],
   "source": [
    "print(f\"dataset length: {len(df_us)}\")\n",
    "df_us[df_us.datadate>=20000101].isna().sum() #eps and open have many missing values, even from 2000 on\n",
    "# hence we drop them"
   ]
  },
  {
   "cell_type": "code",
   "execution_count": null,
   "metadata": {
    "pycharm": {
     "is_executing": true
    }
   },
   "outputs": [],
   "source": [
    "df_us.drop(columns=[\"eps\", \"open\"], inplace=True)"
   ]
  },
  {
   "cell_type": "code",
   "execution_count": null,
   "metadata": {
    "pycharm": {
     "is_executing": true
    }
   },
   "outputs": [],
   "source": [
    "########TODO\n",
    "df_us = df_us[df_us.datadate>=20000101]"
   ]
  },
  {
   "cell_type": "code",
   "execution_count": null,
   "metadata": {
    "pycharm": {
     "is_executing": true
    }
   },
   "outputs": [],
   "source": [
    "df_us[df_us.datadate>=20000101].isna().sum()"
   ]
  },
  {
   "cell_type": "code",
   "execution_count": null,
   "metadata": {
    "pycharm": {
     "is_executing": true
    }
   },
   "outputs": [],
   "source": [
    "df_us[df_us['adjcp'].isna()] # can look up in another data bank or impute, since only one value per ticker missing\n",
    "# stock: KO, NKE"
   ]
  },
  {
   "cell_type": "code",
   "execution_count": null,
   "metadata": {
    "pycharm": {
     "is_executing": true
    }
   },
   "outputs": [],
   "source": [
    "df_us[df_us[\"high\"].isna()] # can lok up in another data bank or impute, since only one value per ticker missing\n",
    "# stock: KO, NKE"
   ]
  },
  {
   "cell_type": "code",
   "execution_count": null,
   "metadata": {
    "pycharm": {
     "is_executing": true
    }
   },
   "outputs": [],
   "source": [
    "df_us[df_us[\"low\"].isna()] # can lok up in another data bank or impute, since only one value per ticker missing\n",
    "# stock: KO, NKE"
   ]
  },
  {
   "cell_type": "code",
   "execution_count": null,
   "metadata": {
    "pycharm": {
     "is_executing": true
    }
   },
   "outputs": [],
   "source": [
    "df_us[df_us[\"volume\"].isna()] # can lok up in another data bank or impute, since only one value per ticker missing\n",
    "# stock: KO, NKE"
   ]
  },
  {
   "cell_type": "code",
   "execution_count": null,
   "metadata": {
    "pycharm": {
     "is_executing": true
    }
   },
   "outputs": [],
   "source": [
    "df_us[df_us[\"log_return_daily\"].isna()] # can lok up in another data bank or impute, since only one value per ticker missing\n",
    "# stock: KO, NKE"
   ]
  },
  {
   "cell_type": "code",
   "execution_count": null,
   "metadata": {
    "pycharm": {
     "is_executing": true
    }
   },
   "outputs": [],
   "source": [
    "### Let us drop KO and NKE, since they have missing values and we already have a lot of stocks in the portfolio\n",
    "# anyways so it might be better to reduce the number of stocks\n",
    "df_us = df_us[~df_us[\"tic\"].isin([\"KO\", \"NKE\"])]\n",
    "df_us.tic.unique()"
   ]
  },
  {
   "cell_type": "code",
   "execution_count": null,
   "metadata": {
    "pycharm": {
     "is_executing": true
    }
   },
   "outputs": [],
   "source": [
    "df_us[df_us.datadate>=20000101].isna().sum() # no missing values anymore, hence we can save it"
   ]
  },
  {
   "cell_type": "markdown",
   "metadata": {
    "pycharm": {
     "name": "#%% md\n"
    }
   },
   "source": [
    "#### VIX (Volatility index)"
   ]
  },
  {
   "cell_type": "code",
   "execution_count": null,
   "metadata": {
    "pycharm": {
     "is_executing": true,
     "name": "#%%\n"
    }
   },
   "outputs": [],
   "source": [
    "# add volatility index\n",
    "vix = pd.read_csv(os.path.join(abspath, \"data\", \"raw\", \"VIX.csv\"), index_col = 0)\n",
    "vix"
   ]
  },
  {
   "cell_type": "code",
   "execution_count": null,
   "metadata": {
    "pycharm": {
     "is_executing": true
    }
   },
   "outputs": [],
   "source": [
    "# luckily, there are no missing values\n",
    "vix.isna().sum()"
   ]
  },
  {
   "cell_type": "code",
   "execution_count": null,
   "metadata": {
    "pycharm": {
     "is_executing": true,
     "name": "#%%\n"
    }
   },
   "outputs": [],
   "source": [
    "# let's plot it\n",
    "plt.plot(vix[\"Adj Close\"])\n",
    "plt.show()\n",
    "#plt.savefig(\"vix_adjclose\") # in case it doesn't show, just save and open\n",
    "plt.clf() # tell matplotlib we are done with this plot so it doesn't append subsqeuent plots"
   ]
  },
  {
   "cell_type": "code",
   "execution_count": null,
   "metadata": {
    "pycharm": {
     "is_executing": true,
     "name": "#%%\n"
    }
   },
   "outputs": [],
   "source": [
    "# let's plot it\n",
    "#np.log(df.price) - np.log(df.price.shift(1))\n",
    "plt.plot(vix[\"Adj Close\"].pct_change(1))\n",
    "plt.show()\n",
    "plt.savefig(\"vix_change\") # in case it doesn't show, just save and open\n",
    "plt.clf() # tell matplotlib we are done with this plot so it doesn't append subsqeuent plots\n",
    "\n",
    "# we see that the change in VIX is not a good proxy for the VIX value, \n",
    "# because there are no distinct peaks during crisis in VIX change, while the VIX value peaks\n",
    "# but we should still somehow bring this value down a little so it is not so large compared to the other values"
   ]
  },
  {
   "cell_type": "code",
   "execution_count": null,
   "metadata": {
    "pycharm": {
     "is_executing": true,
     "name": "#%%\n"
    }
   },
   "outputs": [],
   "source": [
    "d = vix[\"Adj Close\"].rolling(window=21).mean()\n",
    "st = vix[\"Adj Close\"].rolling(window=21).std()\n",
    "vix[\"AdjStdroll21\"] = vix[\"Adj Close\"] / st\n",
    "vix[\"AdjMeanroll21\"] = vix[\"Adj Close\"] / d\n",
    "vix[\"Adj100\"] = vix[\"Adj Close\"] /100"
   ]
  },
  {
   "cell_type": "code",
   "execution_count": null,
   "metadata": {
    "pycharm": {
     "is_executing": true,
     "name": "#%%\n"
    }
   },
   "outputs": [],
   "source": [
    "# Note: after plotting all of the above, it becomes apparent that the best way to bring down the VIX to \n",
    "# decimals while not changing the nature of the time series is simply dividing by 100; then\n",
    "# the vix is varying between 0.1 and 0.8 (latter in crisis times)"
   ]
  },
  {
   "cell_type": "code",
   "execution_count": null,
   "metadata": {
    "pycharm": {
     "is_executing": true,
     "name": "#%%\n"
    }
   },
   "outputs": [],
   "source": [
    "#plt.plot(vix[\"Ad1001\"])\n",
    "#plt.show()\n",
    "#plt.savefig(\"vix_adj100\") # in case it doesn't show, just save and open\n",
    "#plt.clf() # tell matplotlib we are done with this plot so it doesn't append subsqeuent plots"
   ]
  },
  {
   "cell_type": "code",
   "execution_count": null,
   "metadata": {
    "pycharm": {
     "is_executing": true,
     "name": "#%%\n"
    }
   },
   "outputs": [],
   "source": [
    "# let's plot it\n",
    "#np.log(df.price) - np.log(df.price.shift(1))\n",
    "#plt.plot(vix[\"AdjMeanroll21\"])\n",
    "#plt.show()\n",
    "#plt.savefig(\"vix_stdadj\") # in case it doesn't show, just save and open\n",
    "#plt.clf() # tell matplotlib we are done with this plot so it doesn't append subsqeuent plots"
   ]
  },
  {
   "cell_type": "code",
   "execution_count": null,
   "metadata": {
    "pycharm": {
     "is_executing": true,
     "name": "#%%\n"
    }
   },
   "outputs": [],
   "source": [
    "vix = pd.DataFrame(vix[\"Adj100\"])\n",
    "vix"
   ]
  },
  {
   "cell_type": "code",
   "execution_count": null,
   "metadata": {
    "pycharm": {
     "is_executing": true,
     "name": "#%%\n"
    }
   },
   "outputs": [],
   "source": [
    "type(vix)"
   ]
  },
  {
   "cell_type": "code",
   "execution_count": null,
   "metadata": {
    "pycharm": {
     "is_executing": true,
     "name": "#%%\n"
    }
   },
   "outputs": [],
   "source": [
    "# need to convert string dates to datetime format to be compatible with the format we have in \n",
    "# the other data set\n",
    "vix = vix.reset_index()\n",
    "vix[\"Date\"] = pd.to_datetime(vix[\"Date\"], format='%m/%d/%Y')\n",
    "vix[\"Date\"] = vix[\"Date\"].dt.strftime('%Y%m%d')\n",
    "vix[\"Date\"]"
   ]
  },
  {
   "cell_type": "code",
   "execution_count": null,
   "metadata": {
    "pycharm": {
     "is_executing": true,
     "name": "#%%\n"
    }
   },
   "outputs": [],
   "source": [
    "# now we renamce the columns\n",
    "vix.columns = [\"datadate\", \"adjDiv100\"]\n",
    "vix.head(3)"
   ]
  },
  {
   "cell_type": "code",
   "execution_count": null,
   "metadata": {
    "pycharm": {
     "is_executing": true,
     "name": "#%%\n"
    }
   },
   "outputs": [],
   "source": [
    "# now we want to merge this data set with our US data set"
   ]
  },
  {
   "cell_type": "code",
   "execution_count": null,
   "metadata": {
    "pycharm": {
     "is_executing": true,
     "name": "#%%\n"
    }
   },
   "outputs": [],
   "source": []
  },
  {
   "cell_type": "code",
   "execution_count": null,
   "metadata": {
    "pycharm": {
     "is_executing": true,
     "name": "#%%\n"
    }
   },
   "outputs": [],
   "source": [
    "df_us.to_csv(os.path.join(abspath, \"data\", \"preprocessed\", \"US_stocks_WDB_try.csv\"))"
   ]
  },
  {
   "cell_type": "code",
   "execution_count": null,
   "metadata": {
    "pycharm": {
     "is_executing": true,
     "name": "#%%\n"
    }
   },
   "outputs": [],
   "source": []
  },
  {
   "cell_type": "code",
   "execution_count": null,
   "metadata": {
    "pycharm": {
     "is_executing": true,
     "name": "#%%\n"
    }
   },
   "outputs": [],
   "source": []
  },
  {
   "cell_type": "code",
   "execution_count": null,
   "metadata": {
    "pycharm": {
     "is_executing": true,
     "name": "#%%\n"
    }
   },
   "outputs": [],
   "source": []
  },
  {
   "cell_type": "code",
   "execution_count": null,
   "metadata": {
    "pycharm": {
     "is_executing": true,
     "name": "#%%\n"
    }
   },
   "outputs": [],
   "source": [
    "vix"
   ]
  },
  {
   "cell_type": "code",
   "execution_count": null,
   "metadata": {
    "pycharm": {
     "is_executing": true,
     "name": "#%%\n"
    }
   },
   "outputs": [],
   "source": [
    "d[0:10]"
   ]
  },
  {
   "cell_type": "code",
   "execution_count": null,
   "metadata": {
    "pycharm": {
     "is_executing": true
    }
   },
   "outputs": [],
   "source": []
  },
  {
   "cell_type": "code",
   "execution_count": null,
   "metadata": {},
   "outputs": [],
   "source": [
    "# let's plot it\n",
    "#np.log(df.price) - np.log(df.price.shift(1))\n",
    "plt.plot(vix[\"Adj Close\"].pct_change(1))\n",
    "plt.show()\n",
    "plt.savefig(\"vix_change\") # in case it doesn't show, just save and open\n",
    "plt.clf() # tell matplotlib we are done with this plot so it doesn't append subsqeuent plots\n",
    "\n",
    "# we see that the change in VIX is not a good proxy for the VIX value, \n",
    "# because there are no distinct peaks during crisis in VIX change, while the VIX value peaks\n",
    "# but we should still somehow bring this value down a little so it is not so large compared to the other values"
   ]
  },
  {
   "cell_type": "code",
   "execution_count": null,
   "metadata": {},
   "outputs": [],
   "source": [
    "d = vix[\"Adj Close\"].rolling(window=21).mean()\n",
    "st = vix[\"Adj Close\"].rolling(window=21).std()\n",
    "vix[\"AdjStdroll21\"] = vix[\"Adj Close\"] / st\n",
    "vix[\"AdjMeanroll21\"] = vix[\"Adj Close\"] / d\n",
    "vix[\"Adj100\"] = vix[\"Adj Close\"] /100"
   ]
  },
  {
   "cell_type": "code",
   "execution_count": null,
   "metadata": {},
   "outputs": [],
   "source": [
    "# Note: after plotting all of the above, it becomes apparent that the best way to bring down the VIX to \n",
    "# decimals while not changing the nature of the time series is simply dividing by 100; then\n",
    "# the vix is varying between 0.1 and 0.8 (latter in crisis times)"
   ]
  },
  {
   "cell_type": "code",
   "execution_count": null,
   "metadata": {},
   "outputs": [],
   "source": [
    "#plt.plot(vix[\"Ad1001\"])\n",
    "#plt.show()\n",
    "#plt.savefig(\"vix_adj100\") # in case it doesn't show, just save and open\n",
    "#plt.clf() # tell matplotlib we are done with this plot so it doesn't append subsqeuent plots"
   ]
  },
  {
   "cell_type": "code",
   "execution_count": null,
   "metadata": {},
   "outputs": [],
   "source": [
    "# let's plot it\n",
    "#np.log(df.price) - np.log(df.price.shift(1))\n",
    "#plt.plot(vix[\"AdjMeanroll21\"])\n",
    "#plt.show()\n",
    "#plt.savefig(\"vix_stdadj\") # in case it doesn't show, just save and open\n",
    "#plt.clf() # tell matplotlib we are done with this plot so it doesn't append subsqeuent plots"
   ]
  },
  {
   "cell_type": "code",
   "execution_count": null,
   "metadata": {},
   "outputs": [],
   "source": [
    "vix = pd.DataFrame(vix[\"Adj100\"])\n",
    "vix"
   ]
  },
  {
   "cell_type": "code",
   "execution_count": null,
   "metadata": {},
   "outputs": [],
   "source": [
    "type(vix)"
   ]
  },
  {
   "cell_type": "code",
   "execution_count": null,
   "metadata": {},
   "outputs": [],
   "source": [
    "# need to convert string dates to datetime format to be compatible with the format we have in \n",
    "# the other data set\n",
    "vix = vix.reset_index()\n",
    "vix[\"Date\"] = pd.to_datetime(vix[\"Date\"], format='%m/%d/%Y')\n",
    "vix[\"Date\"] = vix[\"Date\"].dt.strftime('%Y%m%d')\n",
    "vix[\"Date\"]"
   ]
  },
  {
   "cell_type": "code",
   "execution_count": null,
   "metadata": {},
   "outputs": [],
   "source": [
    "# now we renamce the columns\n",
    "vix.columns = [\"datadate\", \"adjDiv100\"]\n",
    "vix.head(3)"
   ]
  },
  {
   "cell_type": "code",
   "execution_count": null,
   "metadata": {},
   "outputs": [],
   "source": [
    "# now we want to merge this data set with our US data set"
   ]
  },
  {
   "cell_type": "code",
   "execution_count": null,
   "metadata": {},
   "outputs": [],
   "source": []
  },
  {
   "cell_type": "code",
   "execution_count": null,
   "metadata": {},
   "outputs": [],
   "source": [
    "df_us.to_csv(os.path.join(abspath, \"data\", \"preprocessed\", \"US_stocks_WDB_try.csv\"))"
   ]
  },
  {
   "cell_type": "code",
   "execution_count": null,
   "metadata": {},
   "outputs": [],
   "source": []
  },
  {
   "cell_type": "code",
   "execution_count": null,
   "metadata": {},
   "outputs": [],
   "source": []
  },
  {
   "cell_type": "code",
   "execution_count": null,
   "metadata": {},
   "outputs": [],
   "source": []
  },
  {
   "cell_type": "code",
   "execution_count": null,
   "metadata": {},
   "outputs": [],
   "source": [
    "vix"
   ]
  },
  {
   "cell_type": "code",
   "execution_count": null,
   "metadata": {},
   "outputs": [],
   "source": [
    "d[0:10]"
   ]
  },
  {
   "cell_type": "code",
   "execution_count": null,
   "metadata": {},
   "outputs": [],
   "source": []
  }
 ],
 "metadata": {
  "kernelspec": {
   "display_name": "Python 3",
   "language": "python",
   "name": "python3"
  },
  "language_info": {
   "codemirror_mode": {
    "name": "ipython",
    "version": 3
   },
   "file_extension": ".py",
   "mimetype": "text/x-python",
   "name": "python",
   "nbconvert_exporter": "python",
   "pygments_lexer": "ipython3",
   "version": "3.7.7"
  }
 },
 "nbformat": 4,
 "nbformat_minor": 1
}