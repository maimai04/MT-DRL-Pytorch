{
 "cells": [
  {
   "cell_type": "code",
   "execution_count": 1,
   "metadata": {},
   "outputs": [],
   "source": [
    "import numpy as np\n",
    "import pandas as pd\n",
    "import os\n",
    "import matplotlib.pyplot as plt\n",
    "import glob\n",
    "import re"
   ]
  },
  {
   "cell_type": "code",
   "execution_count": 2,
   "metadata": {
    "pycharm": {
     "name": "#%%\n"
    }
   },
   "outputs": [
    {
     "data": {
      "text/plain": "'C:\\\\Users\\\\Andy\\\\PycharmProjects\\\\finrlpaper2\\\\MT-DRL-Pytorch'"
     },
     "execution_count": 2,
     "metadata": {},
     "output_type": "execute_result"
    }
   ],
   "source": [
    "abspath = r'C:\\Users\\Andy\\PycharmProjects\\finrlpaper2\\MT-DRL-Pytorch'\n",
    "os.chdir(abspath)\n",
    "cwd_ = os.getcwd() # get current working directory\n",
    "cwd_"
   ]
  },
  {
   "cell_type": "code",
   "execution_count": 3,
   "metadata": {},
   "outputs": [],
   "source": [
    "results_path = \"results\""
   ]
  },
  {
   "cell_type": "code",
   "execution_count": 4,
   "metadata": {},
   "outputs": [],
   "source": [
    "# results \"07-18-2021_02-09-48_ppoCustomBase_logU_mlp_shared_paper_fm3_st_detFalse\"\n",
    "results_folder_path =  os.path.join(abspath, results_path, \"07-18-2021_02-09-48_ppoCustomBase_logU_mlp_shared_paper_fm3_st_detFalse\")\n",
    "\n",
    "seed1 = \"randomSeed0\"\n",
    "seed2 = \"randomSeed5\"\n",
    "seed3 = \"randomSeed23\"\n",
    "seed4 = \"randomSeed7774\"\n",
    "seedlist = [seed1, seed2, seed3, seed4]"
   ]
  },
  {
   "cell_type": "code",
   "execution_count": 5,
   "metadata": {},
   "outputs": [
    {
     "data": {
      "text/plain": "[1, 2, 3, 4, 5, 6, 7, 8, 9, 10, 11, 12, 13, 14, 15, 16, 17, 18, 19, 20, 21, 22]"
     },
     "execution_count": 5,
     "metadata": {},
     "output_type": "execute_result"
    }
   ],
   "source": [
    "list(range(1,23))"
   ]
  },
  {
   "cell_type": "code",
   "execution_count": 6,
   "metadata": {},
   "outputs": [
    {
     "ename": "SyntaxError",
     "evalue": "invalid syntax (<ipython-input-6-2af6835bae6a>, line 3)",
     "output_type": "error",
     "traceback": [
      "\u001B[1;36m  File \u001B[1;32m\"<ipython-input-6-2af6835bae6a>\"\u001B[1;36m, line \u001B[1;32m3\u001B[0m\n\u001B[1;33m    rewards_dict_ep.update({f\"ep{episode}\": })\u001B[0m\n\u001B[1;37m                                            ^\u001B[0m\n\u001B[1;31mSyntaxError\u001B[0m\u001B[1;31m:\u001B[0m invalid syntax\n"
     ]
    }
   ],
   "source": [
    "rewards_dict_ep = {}\n",
    "for episode in range(1,23):\n",
    "    rewards_dict_ep.update({f\"ep{episode}\": })"
   ]
  },
  {
   "cell_type": "code",
   "execution_count": null,
   "metadata": {},
   "outputs": [],
   "source": [
    "# one plot for each seed, all episodes combined, over all timesteps, cumulative reward on validation set\n",
    "for seednum, seed in enumerate(seedlist):\n",
    "    all_li = []\n",
    "    for ep in range(1,23):\n",
    "        li=[]\n",
    "        for i in range(1,53):\n",
    "            filepath = glob.glob(os.path.join(results_folder_path, seed, \"rewards\", f\"*validation*ep{ep}_*er_{i}.csv\"))[0]\n",
    "            df = pd.read_csv(filepath, index_col=0)\n",
    "            df.rename(columns={df.columns[1]: \"reward\"}, inplace=True)\n",
    "            li.append(df)\n",
    "        df = pd.concat(li, axis=0, ignore_index=True)\n",
    "        df.rename(columns={df.columns[0]: \"datadate\"}, inplace=True)\n",
    "        df[\"datadate\"] = pd.to_datetime(df[\"datadate\"], format='%Y%m%d')\n",
    "        all_li.append(df)\n",
    "    final_df = pd.concat(all_li, axis=0, ignore_index=True)\n",
    "    plt.plot(final_df.index, final_df.reward.cumsum())\n",
    "    plt.title(f\"Seed {seednum}, all Episodes: cumulative validation rewards over all 52 training iterations per episode\")\n",
    "    plt.show()\n",
    "    # TODO: need to have same axis and axis labels. make randomseed names as numbers (enumaerate)"
   ]
  },
  {
   "cell_type": "code",
   "execution_count": null,
   "metadata": {},
   "outputs": [],
   "source": [
    "# cum rewards fo rone seed over all timesteps but only 1 seed; we see that in certain episodes we\n",
    "# are not getting better but worse\n",
    "for ep in range(1,23):\n",
    "    li=[]\n",
    "    for i in range(1,53):\n",
    "        filepath = glob.glob(os.path.join(results_folder_path, seed1, \"rewards\", f\"*validation*ep{ep}_*er_{i}.csv\"))[0]\n",
    "        df = pd.read_csv(filepath, index_col=0)\n",
    "        df.rename(columns={df.columns[1]: \"reward\"}, inplace=True)\n",
    "        li.append(df)\n",
    "    df = pd.concat(li, axis=0, ignore_index=True)\n",
    "    df.rename(columns={df.columns[0]: \"datadate\"}, inplace=True)\n",
    "    df[\"datadate\"] = pd.to_datetime(df[\"datadate\"], format='%Y%m%d')\n",
    "    plt.plot(df.index, df.reward.cumsum())\n",
    "    plt.title(f\"Episode {ep}: cumulative validtaion rewards over all 52 training iterations\")\n",
    "    plt.show()\n",
    "    plt.clf()"
   ]
  },
  {
   "cell_type": "code",
   "execution_count": null,
   "metadata": {},
   "outputs": [],
   "source": [
    "### TRAINING PERFORMANCE"
   ]
  },
  {
   "cell_type": "code",
   "execution_count": null,
   "metadata": {},
   "outputs": [],
   "source": [
    "# EXPLAINED VARIANCE (train set, over all training iterations)\n"
   ]
  },
  {
   "cell_type": "code",
   "execution_count": null,
   "metadata": {},
   "outputs": [],
   "source": [
    "# one plot for each seed, all episodes combined, over all timesteps, cumulative reward on validation set\n",
    "for seednum, seed in enumerate(seedlist):\n",
    "    li = []\n",
    "    for ep in range(1,23):\n",
    "        filepath = glob.glob(os.path.join(results_folder_path, seed, \"training_performance\", \n",
    "                                          f\"explained_variance_*ep{ep}*.csv\"))[0]\n",
    "        df = pd.read_csv(filepath, index_col=0)\n",
    "        df.rename(columns={df.columns[0]: \"explained_variance\"}, inplace=True)\n",
    "        #plt.plot(final_df.index, final_df.explained_variance)\n",
    "        #plt.title(f\"Seed {seednum}, Episode {ep}: Explained Variance over training iterations\")\n",
    "        #plt.show()\n",
    "        #plt.clf()\n",
    "        li.append(df)\n",
    "    df = pd.concat(li, axis=0, ignore_index=True)\n",
    "    all_li.append(df)\n",
    "    plt.plot(df.index, df.explained_variance)\n",
    "    plt.title(f\"Seed {seednum}, all episode: explained variance\")\n",
    "    plt.show()\n",
    "    plt.clf()\n",
    "    # TODO: need to have same axis and axis labels. make randomseed names as numbers (enumaerate)\n",
    "    # note: ue episode name in different conext like this is wrong\n",
    "final_df = pd.concat(all_li, axis=0, ignore_index=True)\n",
    "plt.plot(final_df.index, final_df.explained_variance)\n",
    "plt.title(f\"All seeds, all episodes: explained variance\")\n",
    "plt.show()\n",
    "plt.clf()"
   ]
  },
  {
   "cell_type": "code",
   "execution_count": null,
   "metadata": {},
   "outputs": [],
   "source": [
    "### TRAIN PERFORMANCES: COMBINED LOSS\n",
    "# one plot for each seed, all episodes combined, over all timesteps, cumulative reward on validation set\n",
    "for seednum, seed in enumerate(seedlist):\n",
    "    li = []\n",
    "    for ep in range(1,23):\n",
    "        filepath = glob.glob(os.path.join(results_folder_path, seed, \"training_performance\", \n",
    "                                          f\"train_performances_ep{ep}*.csv\"))[0]\n",
    "        df = pd.read_csv(filepath, index_col=0)\n",
    "        # plot\n",
    "        #plt.plot(df.index, df.actor_loss)\n",
    "        #plt.axvline(x=epwindow_end)\n",
    "        #plt.title(f\"Seed {seednum}, Episode {ep}: Explained Variance over training iterations\")\n",
    "        #plt.show()\n",
    "        #plt.clf()\n",
    "        li.append(df)\n",
    "    epwindow_end = 0 \n",
    "    df_all = pd.concat(li, axis=0, ignore_index=True)\n",
    "    all_li.append(df)\n",
    "    plt.figure(figsize=(17,4))\n",
    "    plt.xlim(left=df_all.index[0], right=df_all.index[-1])\n",
    "    plt.plot(df_all.index, df_all.combined_loss)\n",
    "    for ep in range(1,23):\n",
    "        epwindow_end += df.index[-1]\n",
    "        plt.axvline(x=epwindow_end,  color='black')\n",
    "    plt.axhline(y=0, color=\"r\")\n",
    "    plt.title(f\"Seed {seednum+1}, all episodes: combined loss\")\n",
    "    plt.show()\n",
    "    plt.clf()\n",
    "    # TODO: need to have same axis and axis labels. make randomseed names as numbers (enumaerate)\n",
    "    # note: ue episode name in different conext like this is wrong"
   ]
  },
  {
   "cell_type": "code",
   "execution_count": null,
   "metadata": {},
   "outputs": [],
   "source": [
    "### TRAIN PERFORMANCES: ACTOR LOSS (POLICY LOSS)\n",
    "# one plot for each seed, all episodes combined, over all timesteps, cumulative reward on validation set\n",
    "for seednum, seed in enumerate(seedlist):\n",
    "    epwindow_end = 0 \n",
    "    df_all = pd.concat(li, axis=0, ignore_index=True)\n",
    "    all_li.append(df)\n",
    "    plt.figure(figsize=(17,4))\n",
    "    plt.xlim(left=df_all.index[0], right=df_all.index[-1])\n",
    "    plt.plot(df_all.index, df_all.actor_loss)\n",
    "    for ep in range(1,23):\n",
    "        epwindow_end += df.index[-1]\n",
    "        plt.axvline(x=epwindow_end,  color='black')\n",
    "    plt.axhline(y=0, color=\"r\")\n",
    "    plt.title(f\"Seed {seednum+1}, all episodes: policy loss\")\n",
    "    plt.show()\n",
    "    plt.clf()\n",
    "    # TODO: need to have same axis and axis labels. make randomseed names as numbers (enumaerate)\n",
    "    # note: ue episode name in different conext like this is wrong"
   ]
  },
  {
   "cell_type": "code",
   "execution_count": null,
   "metadata": {},
   "outputs": [],
   "source": [
    "### TRAIN PERFORMANCES: CRITIC LOSS (VALUE LOSS)\n",
    "# one plot for each seed, all episodes combined, over all timesteps, cumulative reward on validation set\n",
    "for seednum, seed in enumerate(seedlist):\n",
    "    epwindow_end = 0 \n",
    "    df_all = pd.concat(li, axis=0, ignore_index=True)\n",
    "    all_li.append(df)\n",
    "    plt.figure(figsize=(17,4))\n",
    "    plt.xlim(left=df_all.index[0], right=df_all.index[-1])\n",
    "    plt.plot(df_all.index, df_all.critic_loss)\n",
    "    for ep in range(1,23):\n",
    "        epwindow_end += df.index[-1]\n",
    "        plt.axvline(x=epwindow_end,  color='black')\n",
    "    plt.axhline(y=0, color=\"r\")\n",
    "    plt.title(f\"Seed {seednum+1}, all episodes: value loss\")\n",
    "    plt.show()\n",
    "    plt.clf()\n",
    "    # TODO: need to have same axis and axis labels. make randomseed names as numbers (enumaerate)\n",
    "    # note: ue episode name in different conext like this is wrong"
   ]
  },
  {
   "cell_type": "code",
   "execution_count": null,
   "metadata": {},
   "outputs": [],
   "source": [
    "### TRAIN PERFORMANCES: MEAN ENTROPY (-MEAN ENTROPY LOSS)\n",
    "# one plot for each seed, all episodes combined, over all timesteps, cumulative reward on validation set\n",
    "for seednum, seed in enumerate(seedlist):\n",
    "    epwindow_end = 0 \n",
    "    df_all = pd.concat(li, axis=0, ignore_index=True)\n",
    "    all_li.append(df)\n",
    "    plt.figure(figsize=(17,4))\n",
    "    plt.xlim(left=df_all.index[0], right=df_all.index[-1])\n",
    "    plt.plot(df_all.index, (-1)*df_all.entropy_loss)\n",
    "    for ep in range(1,23):\n",
    "        epwindow_end += df.index[-1]\n",
    "        plt.axvline(x=epwindow_end,  color='black')\n",
    "    plt.axhline(y=0, color=\"r\")\n",
    "    plt.title(f\"Seed {seednum+1}, all episodes: mean entropy (over minibatch)\")\n",
    "    plt.show()\n",
    "    plt.clf()\n",
    "    # TODO: need to have same axis and axis labels. make randomseed names as numbers (enumaerate)\n",
    "    # note: ue episode name in different conext like this is wrong\n",
    "    \n",
    "# entropy loss starts high at the beginning of each episode and then drops\n",
    "# https://medium.com/aureliantactics/understanding-ppo-plots-in-tensorboard-cbc3199b9ba2\n",
    "# shows how random actions are. Should decrease steadily during training process. Here looks ok.\n",
    "# Entropy: \"the higher the more bonus\" => to max.\n",
    "# Entropy loss = neg. Entropy => to min. => \"the lower, the better\"\n",
    "# idea is that in the beginning, we get a bonus for more exploration\n",
    "\n",
    "# about losses: \n",
    "# https://www.reddit.com/r/reinforcementlearning/comments/bse7l5/rl_ppo_alrorithm_understanding_value_loss_and/"
   ]
  },
  {
   "cell_type": "code",
   "execution_count": null,
   "metadata": {},
   "outputs": [],
   "source": [
    "### TRAIN PERFORMANCES: STANDARD DEVIATIONS\n",
    "# one plot for each seed, all episodes combined, over all timesteps, cumulative reward on validation set\n",
    "for seednum, seed in enumerate(seedlist):\n",
    "    li = []\n",
    "    for ep in range(1,23):\n",
    "        filepath = glob.glob(os.path.join(results_folder_path, seed, \"training_performance\", \n",
    "                                          f\"standard_deviations*{ep}*.csv\"))[0]\n",
    "        df = pd.read_csv(filepath, index_col=0)\n",
    "        df.rename(columns={df.columns[0]: \"standard_deviation\"}, inplace=True)\n",
    "        # plot\n",
    "        #plt.plot(df.index, df.actor_loss)\n",
    "        #plt.axvline(x=epwindow_end)\n",
    "        #plt.title(f\"Seed {seednum}, Episode {ep}: Explained Variance over training iterations\")\n",
    "        #plt.show()\n",
    "        #plt.clf()\n",
    "        li.append(df)\n",
    "    epwindow_end = 0 \n",
    "    df_all = pd.concat(li, axis=0, ignore_index=True)\n",
    "    all_li.append(df)\n",
    "    plt.figure(figsize=(17,4))\n",
    "    plt.xlim(left=df_all.index[0], right=df_all.index[-1])\n",
    "    plt.plot(df_all.index, df_all.standard_deviation)\n",
    "    for ep in range(1,23):\n",
    "        epwindow_end += df.index[-1]\n",
    "        plt.axvline(x=epwindow_end,  color='black')\n",
    "    plt.axhline(y=0, color=\"r\")\n",
    "    plt.title(f\"Seed {seednum+1}, all episodes: combined loss\")\n",
    "    plt.show()\n",
    "    plt.clf()\n",
    "    # TODO: need to have same axis and axis labels. make randomseed names as numbers (enumaerate)\n",
    "    # note: ue episode name in different conext like this is wrong"
   ]
  },
  {
   "cell_type": "code",
   "execution_count": null,
   "metadata": {},
   "outputs": [],
   "source": []
  }
 ],
 "metadata": {
  "kernelspec": {
   "display_name": "Python 3",
   "language": "python",
   "name": "python3"
  },
  "language_info": {
   "codemirror_mode": {
    "name": "ipython",
    "version": 3
   },
   "file_extension": ".py",
   "mimetype": "text/x-python",
   "name": "python",
   "nbconvert_exporter": "python",
   "pygments_lexer": "ipython3",
   "version": "3.7.7"
  }
 },
 "nbformat": 4,
 "nbformat_minor": 1
}