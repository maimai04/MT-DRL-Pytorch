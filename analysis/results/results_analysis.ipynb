{
 "cells": [
  {
   "cell_type": "code",
   "execution_count": 1,
   "metadata": {},
   "outputs": [
    {
     "name": "stdout",
     "output_type": "stream",
     "text": [
      "no crisis measure selected.\n"
     ]
    }
   ],
   "source": [
    "import numpy as np\n",
    "import pandas as pd\n",
    "import os\n",
    "import zipfile\n",
    "import matplotlib.pyplot as plt\n",
    "import glob\n",
    "from config.config import *\n",
    "from preprocessing.preprocessors import *\n",
    "from analysis.analysis_functions import *\n",
    "import re"
   ]
  },
  {
   "cell_type": "code",
   "execution_count": 2,
   "metadata": {
    "pycharm": {
     "name": "#%%\n"
    }
   },
   "outputs": [
    {
     "data": {
      "text/plain": [
       "'C:\\\\Users\\\\Andy\\\\PycharmProjects\\\\finrlpaper1\\\\Deep-Reinforcement-Learning-for-Automated-Stock-Trading-Ensemble-Strategy-ICAIF-2020'"
      ]
     },
     "execution_count": 2,
     "metadata": {},
     "output_type": "execute_result"
    }
   ],
   "source": [
    "os.chdir('C:\\\\Users\\\\Andy\\\\PycharmProjects\\\\finrlpaper1\\\\Deep-Reinforcement-Learning-for-Automated-Stock-Trading-Ensemble-Strategy-ICAIF-2020\\\\')\n",
    "cwd_ = os.getcwd() # get current working directory\n",
    "cwd_"
   ]
  },
  {
   "cell_type": "markdown",
   "metadata": {},
   "source": [
    "### SETTINGS"
   ]
  },
  {
   "cell_type": "code",
   "execution_count": 3,
   "metadata": {},
   "outputs": [],
   "source": [
    "class a_settings: # settings class only for analysis of results\n",
    "    ### get all data saved from one run\n",
    "    episodes_endings = [126, 189, 252, 315, 378, 441, 504, 567, 630, 693, 756, 819, 882, 945, 1008, 1071, 1134, 1197]\n",
    "\n",
    "class a_paths: \n",
    "    results_dir = \"results\"\n",
    "    datapath = \"data/preprocessed/done_data.csv\"\n",
    "    indexpath = \"data/raw/DJI.csv\"\n",
    "    # path where analysis results are saved\n",
    "    save_path = os.path.join(\"analysis\", \"results\")\n",
    "    file_extension = '.csv'\n",
    "\n",
    "class a_temp:\n",
    "    #run_of_choice = \"04-10-2021_03-22-17_ppo__fm2\"\n",
    "    run_of_choice = \"04-16-2021_09-36-11_ppo__fm3\"\n",
    "    strategy_mode = \"ppo\"\n",
    "    sample = \"trade\"\n",
    "    n_seeds = 5"
   ]
  },
  {
   "cell_type": "code",
   "execution_count": 4,
   "metadata": {},
   "outputs": [],
   "source": [
    "pd.set_option('display.float_format', '{:.2f}'.format)\n",
    "pd.set_option('display.max_columns', 100)\n",
    "pd.set_option('display.max_rows', 100)"
   ]
  },
  {
   "cell_type": "markdown",
   "metadata": {},
   "source": [
    "### Import preprocessed data & raw index data (DJIA 30)"
   ]
  },
  {
   "cell_type": "code",
   "execution_count": 5,
   "metadata": {},
   "outputs": [
    {
     "data": {
      "text/html": [
       "<div>\n",
       "<style scoped>\n",
       "    .dataframe tbody tr th:only-of-type {\n",
       "        vertical-align: middle;\n",
       "    }\n",
       "\n",
       "    .dataframe tbody tr th {\n",
       "        vertical-align: top;\n",
       "    }\n",
       "\n",
       "    .dataframe thead th {\n",
       "        text-align: right;\n",
       "    }\n",
       "</style>\n",
       "<table border=\"1\" class=\"dataframe\">\n",
       "  <thead>\n",
       "    <tr style=\"text-align: right;\">\n",
       "      <th></th>\n",
       "      <th>datadate</th>\n",
       "      <th>tic</th>\n",
       "      <th>adjcp</th>\n",
       "    </tr>\n",
       "  </thead>\n",
       "  <tbody>\n",
       "    <tr>\n",
       "      <th>0</th>\n",
       "      <td>20090102</td>\n",
       "      <td>AAPL</td>\n",
       "      <td>12.96</td>\n",
       "    </tr>\n",
       "    <tr>\n",
       "      <th>1</th>\n",
       "      <td>20090102</td>\n",
       "      <td>AXP</td>\n",
       "      <td>19.33</td>\n",
       "    </tr>\n",
       "    <tr>\n",
       "      <th>2</th>\n",
       "      <td>20090102</td>\n",
       "      <td>BA</td>\n",
       "      <td>45.25</td>\n",
       "    </tr>\n",
       "  </tbody>\n",
       "</table>\n",
       "</div>"
      ],
      "text/plain": [
       "   datadate   tic  adjcp\n",
       "0  20090102  AAPL  12.96\n",
       "1  20090102   AXP  19.33\n",
       "2  20090102    BA  45.25"
      ]
     },
     "execution_count": 5,
     "metadata": {},
     "output_type": "execute_result"
    }
   ],
   "source": [
    "data = load_dataset(file_path=a_paths.datapath,\n",
    "                    col_subset=[\"datadate\", \"tic\", \"adjcp\"])\n",
    "data.head(3)"
   ]
  },
  {
   "cell_type": "code",
   "execution_count": 6,
   "metadata": {},
   "outputs": [
    {
     "data": {
      "text/html": [
       "<div>\n",
       "<style scoped>\n",
       "    .dataframe tbody tr th:only-of-type {\n",
       "        vertical-align: middle;\n",
       "    }\n",
       "\n",
       "    .dataframe tbody tr th {\n",
       "        vertical-align: top;\n",
       "    }\n",
       "\n",
       "    .dataframe thead th {\n",
       "        text-align: right;\n",
       "    }\n",
       "</style>\n",
       "<table border=\"1\" class=\"dataframe\">\n",
       "  <thead>\n",
       "    <tr style=\"text-align: right;\">\n",
       "      <th></th>\n",
       "      <th>datadate</th>\n",
       "      <th>adjcp</th>\n",
       "    </tr>\n",
       "  </thead>\n",
       "  <tbody>\n",
       "    <tr>\n",
       "      <th>0</th>\n",
       "      <td>2009-01-02</td>\n",
       "      <td>9034.69</td>\n",
       "    </tr>\n",
       "    <tr>\n",
       "      <th>1</th>\n",
       "      <td>2009-01-05</td>\n",
       "      <td>8952.89</td>\n",
       "    </tr>\n",
       "    <tr>\n",
       "      <th>2</th>\n",
       "      <td>2009-01-06</td>\n",
       "      <td>9015.10</td>\n",
       "    </tr>\n",
       "  </tbody>\n",
       "</table>\n",
       "</div>"
      ],
      "text/plain": [
       "    datadate   adjcp\n",
       "0 2009-01-02 9034.69\n",
       "1 2009-01-05 8952.89\n",
       "2 2009-01-06 9015.10"
      ]
     },
     "execution_count": 6,
     "metadata": {},
     "output_type": "execute_result"
    }
   ],
   "source": [
    "dow30 = load_dataset(file_path=a_paths.indexpath,\n",
    "                    col_subset=None) \n",
    "dow30.reset_index(inplace=True)\n",
    "dow30.rename(columns={\"Adj Close\": \"adjcp\", \"Date\":\"datadate\"}, inplace=True)\n",
    "dow30[\"datadate\"] = pd.to_datetime(dow30[\"datadate\"])\n",
    "dow30 = dow30[[\"datadate\", \"adjcp\"]]\n",
    "dow30.head(3)"
   ]
  },
  {
   "cell_type": "code",
   "execution_count": 7,
   "metadata": {},
   "outputs": [],
   "source": [
    "all_data_dict = {\"data\": data, \"dow30\": dow30}"
   ]
  },
  {
   "cell_type": "code",
   "execution_count": 8,
   "metadata": {},
   "outputs": [
    {
     "data": {
      "text/plain": [
       "dtype('int64')"
      ]
     },
     "execution_count": 8,
     "metadata": {},
     "output_type": "execute_result"
    }
   ],
   "source": [
    "data.datadate.dtype"
   ]
  },
  {
   "cell_type": "code",
   "execution_count": 9,
   "metadata": {
    "pycharm": {
     "name": "#%%\n"
    }
   },
   "outputs": [
    {
     "data": {
      "text/plain": [
       "dtype('<M8[ns]')"
      ]
     },
     "execution_count": 9,
     "metadata": {},
     "output_type": "execute_result"
    }
   ],
   "source": [
    "dow30.datadate.dtype"
   ]
  },
  {
   "cell_type": "markdown",
   "metadata": {
    "pycharm": {
     "name": "#%% md\n"
    }
   },
   "source": [
    "#### Get dates, tickers and episodes end iteration numbers"
   ]
  },
  {
   "cell_type": "code",
   "execution_count": 10,
   "metadata": {
    "pycharm": {
     "name": "#%%\n"
    }
   },
   "outputs": [
    {
     "name": "stdout",
     "output_type": "stream",
     "text": [
      "tickers:  ['AAPL' 'AXP' 'BA' 'CAT' 'CSCO' 'CVX' 'DD' 'DIS' 'GS' 'HD' 'IBM' 'INTC'\n",
      " 'JNJ' 'JPM' 'KO' 'MCD' 'MMM' 'MRK' 'MSFT' 'NKE' 'PFE' 'PG' 'RTX' 'TRV'\n",
      " 'UNH' 'V' 'VZ' 'WBA' 'WMT' 'XOM']\n",
      "\n",
      "validation dates: \n"
     ]
    },
    {
     "data": {
      "text/plain": [
       "array([[20151002],\n",
       "       [20151005],\n",
       "       [20151006],\n",
       "       ...,\n",
       "       [20200702],\n",
       "       [20200706],\n",
       "       [20200707]], dtype=int64)"
      ]
     },
     "execution_count": 10,
     "metadata": {},
     "output_type": "execute_result"
    }
   ],
   "source": [
    "# get tickers\n",
    "tickers = data.tic.unique()\n",
    "print(\"tickers: \", tickers)\n",
    "# get trades dates for validation\n",
    "unique_trade_dates_validation = pd.read_csv(os.path.join(a_paths.results_dir,\n",
    "                                                         \"04-15-2021_23-12-43_ppo__fm3\",\n",
    "                                                         \"unique_trade_dates_validation.csv\"))#, index_col=0)\n",
    "unique_trade_dates_validation = np.array(unique_trade_dates_validation)\n",
    "print(\"\\nvalidation dates: \")\n",
    "unique_trade_dates_validation"
   ]
  },
  {
   "cell_type": "code",
   "execution_count": 11,
   "metadata": {},
   "outputs": [],
   "source": [
    "#unique_trade_dates_validation = data[(data.datadate > settings.STARTDATE_VALIDATION) &\n",
    "#                                    (data.datadate <= settings.ENDDATE_VALIDATION)].datadate.unique()\n",
    "#unique_trade_dates_validation"
   ]
  },
  {
   "cell_type": "code",
   "execution_count": 12,
   "metadata": {},
   "outputs": [
    {
     "name": "stdout",
     "output_type": "stream",
     "text": [
      "trade start: 20160104, trade end: 20200707\n"
     ]
    }
   ],
   "source": [
    "trade_start = unique_trade_dates_validation[126-63][0]\n",
    "trade_end = unique_trade_dates_validation[1197][0]\n",
    "print(f\"trade start: {trade_start}, trade end: {trade_end}\")"
   ]
  },
  {
   "cell_type": "code",
   "execution_count": 13,
   "metadata": {},
   "outputs": [
    {
     "data": {
      "text/plain": [
       "array([20160104, 20160105, 20160106, ..., 20200702, 20200706, 20200707],\n",
       "      dtype=int64)"
      ]
     },
     "execution_count": 13,
     "metadata": {},
     "output_type": "execute_result"
    }
   ],
   "source": [
    "trade_dates = data[(data.datadate>=trade_start)&(data.datadate<=trade_end)].datadate.unique()\n",
    "trade_dates"
   ]
  },
  {
   "cell_type": "markdown",
   "metadata": {},
   "source": [
    "### get subset of data and dow30 based on trade dates"
   ]
  },
  {
   "cell_type": "code",
   "execution_count": 14,
   "metadata": {},
   "outputs": [
    {
     "name": "stderr",
     "output_type": "stream",
     "text": [
      "C:\\Users\\Andy\\PycharmProjects\\finrlpaper1\\Deep-Reinforcement-Learning-for-Automated-Stock-Trading-Ensemble-Strategy-ICAIF-2020\\finrlpaperv4\\Lib\\site-packages\\ipykernel_launcher.py:2: SettingWithCopyWarning: \n",
      "A value is trying to be set on a copy of a slice from a DataFrame.\n",
      "Try using .loc[row_indexer,col_indexer] = value instead\n",
      "\n",
      "See the caveats in the documentation: https://pandas.pydata.org/pandas-docs/stable/user_guide/indexing.html#returning-a-view-versus-a-copy\n",
      "  \n"
     ]
    },
    {
     "data": {
      "text/html": [
       "<div>\n",
       "<style scoped>\n",
       "    .dataframe tbody tr th:only-of-type {\n",
       "        vertical-align: middle;\n",
       "    }\n",
       "\n",
       "    .dataframe tbody tr th {\n",
       "        vertical-align: top;\n",
       "    }\n",
       "\n",
       "    .dataframe thead th {\n",
       "        text-align: right;\n",
       "    }\n",
       "</style>\n",
       "<table border=\"1\" class=\"dataframe\">\n",
       "  <thead>\n",
       "    <tr style=\"text-align: right;\">\n",
       "      <th></th>\n",
       "      <th>tic</th>\n",
       "      <th>adjcp</th>\n",
       "    </tr>\n",
       "    <tr>\n",
       "      <th>datadate</th>\n",
       "      <th></th>\n",
       "      <th></th>\n",
       "    </tr>\n",
       "  </thead>\n",
       "  <tbody>\n",
       "    <tr>\n",
       "      <th>2016-01-04</th>\n",
       "      <td>AAPL</td>\n",
       "      <td>105.35</td>\n",
       "    </tr>\n",
       "    <tr>\n",
       "      <th>2016-01-04</th>\n",
       "      <td>AXP</td>\n",
       "      <td>67.59</td>\n",
       "    </tr>\n",
       "    <tr>\n",
       "      <th>2016-01-04</th>\n",
       "      <td>BA</td>\n",
       "      <td>140.50</td>\n",
       "    </tr>\n",
       "    <tr>\n",
       "      <th>2016-01-04</th>\n",
       "      <td>CAT</td>\n",
       "      <td>67.99</td>\n",
       "    </tr>\n",
       "    <tr>\n",
       "      <th>2016-01-04</th>\n",
       "      <td>CSCO</td>\n",
       "      <td>26.41</td>\n",
       "    </tr>\n",
       "    <tr>\n",
       "      <th>...</th>\n",
       "      <td>...</td>\n",
       "      <td>...</td>\n",
       "    </tr>\n",
       "    <tr>\n",
       "      <th>2020-07-07</th>\n",
       "      <td>V</td>\n",
       "      <td>194.20</td>\n",
       "    </tr>\n",
       "    <tr>\n",
       "      <th>2020-07-07</th>\n",
       "      <td>VZ</td>\n",
       "      <td>55.04</td>\n",
       "    </tr>\n",
       "    <tr>\n",
       "      <th>2020-07-07</th>\n",
       "      <td>WBA</td>\n",
       "      <td>42.22</td>\n",
       "    </tr>\n",
       "    <tr>\n",
       "      <th>2020-07-07</th>\n",
       "      <td>WMT</td>\n",
       "      <td>126.95</td>\n",
       "    </tr>\n",
       "    <tr>\n",
       "      <th>2020-07-07</th>\n",
       "      <td>XOM</td>\n",
       "      <td>43.24</td>\n",
       "    </tr>\n",
       "  </tbody>\n",
       "</table>\n",
       "<p>34050 rows × 2 columns</p>\n",
       "</div>"
      ],
      "text/plain": [
       "             tic  adjcp\n",
       "datadate               \n",
       "2016-01-04  AAPL 105.35\n",
       "2016-01-04   AXP  67.59\n",
       "2016-01-04    BA 140.50\n",
       "2016-01-04   CAT  67.99\n",
       "2016-01-04  CSCO  26.41\n",
       "...          ...    ...\n",
       "2020-07-07     V 194.20\n",
       "2020-07-07    VZ  55.04\n",
       "2020-07-07   WBA  42.22\n",
       "2020-07-07   WMT 126.95\n",
       "2020-07-07   XOM  43.24\n",
       "\n",
       "[34050 rows x 2 columns]"
      ]
     },
     "execution_count": 14,
     "metadata": {},
     "output_type": "execute_result"
    }
   ],
   "source": [
    "data_tradedates = data[(data.datadate>=trade_start)&(data.datadate<=trade_end)]\n",
    "data_tradedates[\"datadate\"] =  pd.to_datetime(data_tradedates[\"datadate\"], format='%Y%m%d')\n",
    "data_tradedates.set_index('datadate', inplace=True)\n",
    "data_tradedates"
   ]
  },
  {
   "cell_type": "code",
   "execution_count": 15,
   "metadata": {},
   "outputs": [
    {
     "data": {
      "text/html": [
       "<div>\n",
       "<style scoped>\n",
       "    .dataframe tbody tr th:only-of-type {\n",
       "        vertical-align: middle;\n",
       "    }\n",
       "\n",
       "    .dataframe tbody tr th {\n",
       "        vertical-align: top;\n",
       "    }\n",
       "\n",
       "    .dataframe thead th {\n",
       "        text-align: right;\n",
       "    }\n",
       "</style>\n",
       "<table border=\"1\" class=\"dataframe\">\n",
       "  <thead>\n",
       "    <tr style=\"text-align: right;\">\n",
       "      <th></th>\n",
       "      <th>adjcp</th>\n",
       "    </tr>\n",
       "    <tr>\n",
       "      <th>datadate</th>\n",
       "      <th></th>\n",
       "    </tr>\n",
       "  </thead>\n",
       "  <tbody>\n",
       "    <tr>\n",
       "      <th>2016-01-04</th>\n",
       "      <td>17148.94</td>\n",
       "    </tr>\n",
       "    <tr>\n",
       "      <th>2016-01-05</th>\n",
       "      <td>17158.66</td>\n",
       "    </tr>\n",
       "    <tr>\n",
       "      <th>2016-01-06</th>\n",
       "      <td>16906.51</td>\n",
       "    </tr>\n",
       "    <tr>\n",
       "      <th>2016-01-07</th>\n",
       "      <td>16514.10</td>\n",
       "    </tr>\n",
       "    <tr>\n",
       "      <th>2016-01-08</th>\n",
       "      <td>16346.45</td>\n",
       "    </tr>\n",
       "    <tr>\n",
       "      <th>...</th>\n",
       "      <td>...</td>\n",
       "    </tr>\n",
       "    <tr>\n",
       "      <th>2020-06-30</th>\n",
       "      <td>25812.88</td>\n",
       "    </tr>\n",
       "    <tr>\n",
       "      <th>2020-07-01</th>\n",
       "      <td>25734.97</td>\n",
       "    </tr>\n",
       "    <tr>\n",
       "      <th>2020-07-02</th>\n",
       "      <td>25827.36</td>\n",
       "    </tr>\n",
       "    <tr>\n",
       "      <th>2020-07-06</th>\n",
       "      <td>26287.03</td>\n",
       "    </tr>\n",
       "    <tr>\n",
       "      <th>2020-07-07</th>\n",
       "      <td>25890.18</td>\n",
       "    </tr>\n",
       "  </tbody>\n",
       "</table>\n",
       "<p>1135 rows × 1 columns</p>\n",
       "</div>"
      ],
      "text/plain": [
       "              adjcp\n",
       "datadate           \n",
       "2016-01-04 17148.94\n",
       "2016-01-05 17158.66\n",
       "2016-01-06 16906.51\n",
       "2016-01-07 16514.10\n",
       "2016-01-08 16346.45\n",
       "...             ...\n",
       "2020-06-30 25812.88\n",
       "2020-07-01 25734.97\n",
       "2020-07-02 25827.36\n",
       "2020-07-06 26287.03\n",
       "2020-07-07 25890.18\n",
       "\n",
       "[1135 rows x 1 columns]"
      ]
     },
     "execution_count": 15,
     "metadata": {},
     "output_type": "execute_result"
    }
   ],
   "source": [
    "dow30_tradedates = dow30[(dow30.datadate>=\"2016-01-04\")&(dow30.datadate<=\"2020-07-07\")]\n",
    "#dow30_tradedates[\"datadate\"] =  pd.to_datetime(dow30_tradedates[\"datadate\"], format='%Y%m%d')\n",
    "dow30_tradedates.set_index('datadate', inplace=True)\n",
    "dow30_tradedates"
   ]
  },
  {
   "cell_type": "code",
   "execution_count": 16,
   "metadata": {},
   "outputs": [],
   "source": [
    "all_data_dict.update({\"data_tradedates\": data_tradedates, \"dow30_tradedates\": dow30_tradedates})"
   ]
  },
  {
   "cell_type": "code",
   "execution_count": 17,
   "metadata": {},
   "outputs": [
    {
     "data": {
      "text/plain": [
       "['data', 'dow30', 'data_tradedates', 'dow30_tradedates']"
      ]
     },
     "execution_count": 17,
     "metadata": {},
     "output_type": "execute_result"
    }
   ],
   "source": [
    "list(all_data_dict.keys())"
   ]
  },
  {
   "cell_type": "markdown",
   "metadata": {},
   "source": [
    "### get data for one run"
   ]
  },
  {
   "cell_type": "code",
   "execution_count": 18,
   "metadata": {},
   "outputs": [],
   "source": [
    "all_seed_folders = get_all_fs(f_path=os.path.join(a_paths.results_dir, a_temp.run_of_choice), \n",
    "                              string_condition=\"*Seed*\")\n",
    "run_ppo__fm2_dict = create_run_dict(all_seed_folder_paths=all_seed_folders, \n",
    "                                    seed_string_condition=f\"agent(.*)\")"
   ]
  },
  {
   "cell_type": "code",
   "execution_count": 19,
   "metadata": {},
   "outputs": [
    {
     "data": {
      "text/plain": [
       "dict_keys(['buy_trades', 'cash_value', 'datadates', 'exercised_actions', 'last_state', 'number_asset_holdings', 'policy_actions', 'portfolio_value', 'rewards', 'sell_trades', 'state_memory', 'transaction_cost'])"
      ]
     },
     "execution_count": 19,
     "metadata": {},
     "output_type": "execute_result"
    }
   ],
   "source": [
    "run_ppo__fm2_dict[\"Seed80923\"].keys()"
   ]
  },
  {
   "cell_type": "code",
   "execution_count": 20,
   "metadata": {},
   "outputs": [
    {
     "name": "stdout",
     "output_type": "stream",
     "text": [
      "dict_keys(['Seed11112', 'Seed223445', 'Seed23', 'Seed80923'])\n",
      "\n",
      "dict_keys(['buy_trades', 'cash_value', 'datadates', 'exercised_actions', 'last_state', 'number_asset_holdings', 'policy_actions', 'portfolio_value', 'rewards', 'sell_trades', 'state_memory', 'transaction_cost'])\n",
      "\n",
      "dict_keys(['train', 'validation', 'trade'])\n",
      "\n",
      "['results\\\\04-16-2021_09-36-11_ppo__fm3\\\\agentSeed11112\\\\buy_trades\\\\buy_trades_train_ppo_i1008.csv', 'results\\\\04-16-2021_09-36-11_ppo__fm3\\\\agentSeed11112\\\\buy_trades\\\\buy_trades_train_ppo_i1071.csv']\n"
     ]
    }
   ],
   "source": [
    "print(run_ppo__fm2_dict.keys())\n",
    "print(\"\")\n",
    "print(run_ppo__fm2_dict[\"Seed11112\"].keys())\n",
    "print(\"\")\n",
    "print(run_ppo__fm2_dict[\"Seed11112\"][\"buy_trades\"].keys())\n",
    "print(\"\")\n",
    "print(run_ppo__fm2_dict[\"Seed11112\"][\"buy_trades\"][\"train\"][0:2])"
   ]
  },
  {
   "cell_type": "code",
   "execution_count": 21,
   "metadata": {},
   "outputs": [],
   "source": [
    "# results to be loaded as pandas df based on the path in the dict\n",
    "load_list = [\"portfolio_value\", \"cash_value\", \"rewards\", \"policy_actions\", \n",
    "             \"exercised_actions\", \"number_asset_holdings\", \"transaction_cost\"]\n",
    "dicty, fp = load_combine_results(dictionary=run_ppo__fm2_dict.copy(), load_list=load_list, \n",
    "                                 mode=\"trade\", combine_mode=\"within_seed\", \n",
    "                                 sorting=True, sorting_condition=\"_i(.*).csv\")\n",
    "#dicty"
   ]
  },
  {
   "cell_type": "code",
   "execution_count": null,
   "metadata": {},
   "outputs": [],
   "source": [
    "\n",
    "dicty, fp = load_combine_results(dictionary=run_ppo__fm2_dict.copy(), load_list=load_list, \n",
    "                                 mode=\"trade\", combine_mode=\"within_seed\", \n",
    "                                 sorting=True, sorting_condition=\"_i(.*).csv\")"
   ]
  },
  {
   "cell_type": "code",
   "execution_count": 58,
   "metadata": {},
   "outputs": [
    {
     "name": "stdout",
     "output_type": "stream",
     "text": [
      "portfolio_value\n",
      "Seed11112\n",
      "Seed223445\n",
      "Seed23\n",
      "Seed80923\n",
      "cash_value\n",
      "Seed11112\n",
      "Seed223445\n",
      "Seed23\n",
      "Seed80923\n",
      "rewards\n",
      "Seed11112\n",
      "Seed223445\n",
      "Seed23\n",
      "Seed80923\n",
      "policy_actions\n",
      "Seed11112\n",
      "Seed223445\n",
      "Seed23\n",
      "Seed80923\n",
      "exercised_actions\n",
      "Seed11112\n",
      "Seed223445\n",
      "Seed23\n",
      "Seed80923\n",
      "number_asset_holdings\n",
      "Seed11112\n",
      "Seed223445\n",
      "Seed23\n",
      "Seed80923\n",
      "transaction_cost\n",
      "Seed11112\n",
      "Seed223445\n",
      "Seed23\n",
      "Seed80923\n"
     ]
    }
   ],
   "source": [
    "from functools import reduce\n",
    "dict_ = dicty.copy()\n",
    "dic = {}\n",
    "mode = \"trade\"\n",
    "for result_elem in load_list:\n",
    "    #print(result_elem)\n",
    "    temp_list = []\n",
    "    for seed_key in dict_:\n",
    "        #print(seed_key)\n",
    "        seed_df = dict_[seed_key][result_elem][mode]\n",
    "        seed_df.rename(columns={result_elem: result_elem+\"_\"+seed_key}, inplace=True)\n",
    "        #seed_df.set_index(\"datadate\", inplace=True)\n",
    "        temp_list.append(seed_df)\n",
    "    #df_conc = pd.concat(temp_list, axis=1, ignore_index=True)\n",
    "    df_conc = reduce(lambda left, right: pd.merge(left, right, on = 'datadate'), temp_list)\n",
    "    dic.update({result_elem: df_conc})"
   ]
  },
  {
   "cell_type": "code",
   "execution_count": 60,
   "metadata": {},
   "outputs": [
    {
     "data": {
      "text/plain": [
       "{'portfolio_value':      datadate  portfolio_value_Seed11112  portfolio_value_Seed223445  \\\n",
       " 0    20160104                 1000000.00                  1000000.00   \n",
       " 1    20160105                 1000253.97                   999681.27   \n",
       " 2    20160106                  998334.47                   998010.52   \n",
       " 3    20160107                  995372.86                   993550.40   \n",
       " 4    20160108                  993086.46                   991137.53   \n",
       " ..        ...                        ...                         ...   \n",
       " 121  20160627                 1071815.32                  1046022.08   \n",
       " 122  20160628                 1081951.43                  1060083.74   \n",
       " 123  20160629                 1101309.47                  1081585.76   \n",
       " 124  20160630                 1115901.48                  1094518.42   \n",
       " 125  20160701                 1116149.45                  1094005.76   \n",
       " \n",
       "      portfolio_value_Seed23  portfolio_value_Seed80923  \n",
       " 0                1000000.00                 1000000.00  \n",
       " 1                 999474.50                  999864.30  \n",
       " 2                 995466.04                  998108.52  \n",
       " 3                 988415.53                  994130.11  \n",
       " 4                 985224.36                  992551.48  \n",
       " ..                      ...                        ...  \n",
       " 121              1053678.72                 1045195.76  \n",
       " 122              1068279.05                 1052615.46  \n",
       " 123              1080632.83                 1072913.73  \n",
       " 124              1092658.64                 1087758.45  \n",
       " 125              1098334.63                 1088722.75  \n",
       " \n",
       " [126 rows x 5 columns],\n",
       " 'cash_value':      datadate  cash_value_Seed11112  cash_value_Seed223445  cash_value_Seed23  \\\n",
       " 0    20160104            1000000.00             1000000.00         1000000.00   \n",
       " 1    20160105             936411.45              910587.94          866319.85   \n",
       " 2    20160106             839712.78              859415.84          778719.96   \n",
       " 3    20160107             857349.82              782695.99          682963.90   \n",
       " 4    20160108             803369.68              740130.71          604516.81   \n",
       " ..        ...                   ...                    ...                ...   \n",
       " 121  20160627                  0.32                  12.66               0.25   \n",
       " 122  20160628                 19.70                  25.46              10.64   \n",
       " 123  20160629                  5.20                  15.22               0.87   \n",
       " 124  20160630                 30.77                   8.38               6.33   \n",
       " 125  20160701                  8.67                   9.43              12.57   \n",
       " \n",
       "      cash_value_Seed80923  \n",
       " 0              1000000.00  \n",
       " 1               944147.98  \n",
       " 2               891158.13  \n",
       " 3               848226.50  \n",
       " 4               799021.45  \n",
       " ..                    ...  \n",
       " 121                 29.99  \n",
       " 122                 11.64  \n",
       " 123                 11.21  \n",
       " 124                 14.32  \n",
       " 125                  5.01  \n",
       " \n",
       " [126 rows x 5 columns],\n",
       " 'rewards':      datadate  rewards_Seed11112  rewards_Seed223445  rewards_Seed23  \\\n",
       " 0    20160104               0.00                0.00            0.00   \n",
       " 1    20160105             253.97             -318.73         -525.50   \n",
       " 2    20160106           -1919.50            -1670.75        -4008.46   \n",
       " 3    20160107           -2961.61            -4460.11        -7050.52   \n",
       " 4    20160108           -2286.40            -2412.87        -3191.17   \n",
       " ..        ...                ...                 ...             ...   \n",
       " 121  20160627          -15166.13           -12877.43       -14854.90   \n",
       " 122  20160628           10136.11            14061.66        14600.34   \n",
       " 123  20160629           19358.04            21502.02        12353.78   \n",
       " 124  20160630           14592.01            12932.66        12025.80   \n",
       " 125  20160701             247.97             -512.66         5675.99   \n",
       " \n",
       "      rewards_Seed80923  \n",
       " 0                 0.00  \n",
       " 1              -135.70  \n",
       " 2             -1755.78  \n",
       " 3             -3978.41  \n",
       " 4             -1578.63  \n",
       " ..                 ...  \n",
       " 121          -23067.35  \n",
       " 122            7419.70  \n",
       " 123           20298.27  \n",
       " 124           14844.72  \n",
       " 125             964.30  \n",
       " \n",
       " [126 rows x 5 columns],\n",
       " 'policy_actions':      datadate                           policy_actions_Seed11112  \\\n",
       " 0    20160104  [ -51.11267      4.560467   100.         -49.6...   \n",
       " 1    20160105  [  31.56067   -59.11129    25.875002  -74.6263...   \n",
       " 2    20160106  [ -41.327267    78.41353    -56.77047    100. ...   \n",
       " 3    20160107  [  59.70141    11.246138 -100.        -89.5675...   \n",
       " 4    20160108  [-100.         91.76367  -100.       -100.    ...   \n",
       " ..        ...                                                ...   \n",
       " 121  20160627  [  60.19398     39.66166      7.570786   100. ...   \n",
       " 122  20160628  [ 100.        -48.790462  100.        100.    ...   \n",
       " 123  20160629  [-100.          -2.1260335  -34.694473    54.8...   \n",
       " 124  20160630  [ -15.42005    -17.000761     2.1369405  100. ...   \n",
       " 125  20160701  [ 100.        -94.65309    47.785538  -20.5403...   \n",
       " \n",
       "                              policy_actions_Seed223445  \\\n",
       " 0    [ 100.           7.6047     -11.318981   100. ...   \n",
       " 1    [-100.         -72.07766     74.037025    17.0...   \n",
       " 2    [-100.       -100.         27.13806   100.    ...   \n",
       " 3    [ -88.58931     51.621143    83.758995   100. ...   \n",
       " 4    [-100.         100.         -25.0669      35.1...   \n",
       " ..                                                 ...   \n",
       " 121  [-1.0000000e+02  1.0000000e+02 -1.0000000e+02 ...   \n",
       " 122  [-100.        -100.         100.          25.9...   \n",
       " 123  [-100.            7.4138346   100.         -10...   \n",
       " 124  [-100.         91.61289    28.718615  100.    ...   \n",
       " 125  [-100.         -18.338144   -17.66376    -48.3...   \n",
       " \n",
       "                                  policy_actions_Seed23  \\\n",
       " 0    [  94.504295   100.         -23.36812      1.1...   \n",
       " 1    [  30.448277  -100.          14.248914     5.4...   \n",
       " 2    [ 100.        -100.        -100.          34.4...   \n",
       " 3    [  -3.7234426   43.11535     79.0187    -100. ...   \n",
       " 4    [-100.        -100.         -58.260952   -52.3...   \n",
       " ..                                                 ...   \n",
       " 121  [-100.        -96.144905  100.        -43.3711...   \n",
       " 122  [  76.51093    36.535637  100.       -100.    ...   \n",
       " 123  [ 100.       -100.        100.         52.6862...   \n",
       " 124  [ 100.        -100.         100.         -47.3...   \n",
       " 125  [ -56.58689     -1.1977315   32.18355    -48.2...   \n",
       " \n",
       "                               policy_actions_Seed80923  \n",
       " 0    [ -33.035763   29.022825 -100.        -19.1066...  \n",
       " 1    [  77.308426  100.        -10.010552   91.0099...  \n",
       " 2    [ -11.416298   68.77045    47.099308   57.3546...  \n",
       " 3    [ 100.          63.54169   -100.         100. ...  \n",
       " 4    [ -41.84428     69.467155  -100.         100. ...  \n",
       " ..                                                 ...  \n",
       " 121  [ -49.68922  -100.        -69.255875  -95.2018...  \n",
       " 122  [-100.        -27.128738  -24.750057   89.7125...  \n",
       " 123  [  -0.98651946 -100.          100.          10...  \n",
       " 124  [ -75.431175   -43.317818   100.          30.8...  \n",
       " 125  [-100.         -100.           41.581707    -3...  \n",
       " \n",
       " [126 rows x 5 columns],\n",
       " 'exercised_actions':      datadate                        exercised_actions_Seed11112  \\\n",
       " 0    20160104  [0, 5.0, 100.0, 0, 0, 13.0, 0, 0, 0, 0, 0, 0, ...   \n",
       " 1    20160105  [32.0, -5.0, 26.0, 0, 0, -13.0, 100.0, 100.0, ...   \n",
       " 2    20160106  [-32.0, 78.0, -57.0, 100.0, 0, 100.0, -100.0, ...   \n",
       " 3    20160107  [60.0, 11.0, -69.0, -90.0, 53.0, -87.0, 0, 83....   \n",
       " 4    20160108  [-60.0, 92.0, 0, -10.0, 100.0, 77.0, 96.0, 100...   \n",
       " ..        ...                                                ...   \n",
       " 121  20160627  [0.0, 0.0, 0.0, 100.0, 1.0, -30.0, -2.0, 0, 10...   \n",
       " 122  20160628  [100.0, -49.0, 100.0, 100.0, -75.0, 40.0, 0, 0...   \n",
       " 123  20160629  [-100.0, -2.0, -35.0, 55.0, 100.0, 56.0, 0, 0,...   \n",
       " 124  20160630  [-15.0, -17.0, 0.0, 0.0, -100.0, -6.0, 0, 0, 0...   \n",
       " 125  20160701  [0, 0, 0, 0, 0, 0, 0, 0, 0, 0, 0, 0, 0, 0, 0, ...   \n",
       " \n",
       "                           exercised_actions_Seed223445  \\\n",
       " 0    [100.0, 8.0, 0, 100.0, 0, 0, 0, 73.0, 29.0, 10...   \n",
       " 1    [-100.0, -8.0, 74.0, 17.0, 0, 0, 3.0, 95.0, 16...   \n",
       " 2    [0, 0, 27.0, 100.0, 45.0, 4.0, 100.0, 71.0, 77...   \n",
       " 3    [0, 52.0, 84.0, 100.0, 33.0, 5.0, 100.0, -73.0...   \n",
       " 4    [0, 100.0, -25.0, 35.0, -78.0, -9.0, -39.0, 10...   \n",
       " ..                                                 ...   \n",
       " 121  [0, 12.0, 0, 0.0, 0.0, 0, -0.0, 0.0, -88.0, 10...   \n",
       " 122  [0, -100.0, 0.0, 0.0, 1.0, 0, 0.0, 0.0, -80.0,...   \n",
       " 123  [0, 0.0, 100.0, -100.0, -1.0, 0.0, -100.0, 0.0...   \n",
       " 124  [0, 0.0, 0.0, 8.0, 0, 0, -63.0, 0.0, -100.0, 0...   \n",
       " 125  [0, 0, 0, 0, 0, 0, 0, 0, 0, 0, 0, 0, 0, 0, 0, ...   \n",
       " \n",
       "                               exercised_actions_Seed23  \\\n",
       " 0    [95.0, 100.0, 0, 1.0, 0, 100.0, 80.0, 62.0, 0,...   \n",
       " 1    [30.0, -100.0, 14.0, 5.0, 0, 96.0, 100.0, 16.0...   \n",
       " 2    [100.0, 0, -14.0, 34.0, 78.0, -67.0, 100.0, 10...   \n",
       " 3    [-4.0, 43.0, 79.0, -40.0, 48.0, 14.0, 100.0, 3...   \n",
       " 4    [-100.0, -43.0, -58.0, 0, -77.0, 100.0, 100.0,...   \n",
       " ..                                                 ...   \n",
       " 121  [-100.0, -34.0, 64.0, -3.0, 0, 0.0, 0.0, -78.0...   \n",
       " 122  [0.0, 0.0, 0.0, 0, 1.0, 0, 0.0, 100.0, 0.0, 0....   \n",
       " 123  [0.0, 0, 2.0, 0.0, -1.0, 0.0, 0.0, 1.0, 0.0, -...   \n",
       " 124  [5.0, 0, 0.0, 0, 0.0, 0.0, 0.0, 0.0, 0, 0.0, 0...   \n",
       " 125  [0, 0, 0, 0, 0, 0, 0, 0, 0, 0, 0, 0, 0, 0, 0, ...   \n",
       " \n",
       "                            exercised_actions_Seed80923  \n",
       " 0    [0, 29.0, 0, 0, 0, 0, 19.0, 0, 76.0, 0, 100.0,...  \n",
       " 1    [77.0, 100.0, 0, 91.0, 0, 0, 100.0, 0, -31.0, ...  \n",
       " 2    [-11.0, 69.0, 47.0, 57.0, 27.0, 0, 100.0, 0, 1...  \n",
       " 3    [100.0, 64.0, -47.0, 100.0, 13.0, 0, 8.0, 0, -...  \n",
       " 4    [-42.0, 69.0, 0, 100.0, -40.0, 0, 43.0, 0, 100...  \n",
       " ..                                                 ...  \n",
       " 121  [0, 0, -69.0, -95.0, 100.0, 0, 100.0, -52.0, 0...  \n",
       " 122  [0, 0, -25.0, 50.0, 100.0, 0, 100.0, -79.0, 0,...  \n",
       " 123  [0, 0, 47.0, 0.0, 0.0, 0, -45.0, -41.0, 0.0, 0...  \n",
       " 124  [0, 0, 100.0, 0.0, 100.0, 0, -13.0, -1.0, 0.0,...  \n",
       " 125  [0, 0, 0, 0, 0, 0, 0, 0, 0, 0, 0, 0, 0, 0, 0, ...  \n",
       " \n",
       " [126 rows x 5 columns],\n",
       " 'number_asset_holdings':      datadate                    number_asset_holdings_Seed11112  \\\n",
       " 0    20160104                                                  0   \n",
       " 1    20160105  [0, 5.0, 100.0, 0, 0, 13.0, 0, 0, 0, 0, 0, 0, ...   \n",
       " 2    20160106  [32.0, 0.0, 126.0, 0, 0, 0.0, 100.0, 100.0, 0,...   \n",
       " 3    20160107  [0.0, 78.0, 69.0, 100.0, 0, 100.0, 0.0, 112.0,...   \n",
       " 4    20160108  [60.0, 89.0, 0.0, 10.0, 53.0, 13.0, 0.0, 195.0...   \n",
       " ..        ...                                                ...   \n",
       " 121  20160627  [828.0, 310.0, 137.0, 1957.0, 408.0, 902.0, 2....   \n",
       " 122  20160628  [828.0, 310.0, 137.0, 2057.0, 409.0, 872.0, 0....   \n",
       " 123  20160629  [928.0, 261.0, 237.0, 2157.0, 334.0, 912.0, 0....   \n",
       " 124  20160630  [828.0, 259.0, 202.0, 2212.0, 434.0, 968.0, 0....   \n",
       " 125  20160701  [813.0, 242.0, 202.0, 2212.0, 334.0, 962.0, 0....   \n",
       " \n",
       "                       number_asset_holdings_Seed223445  \\\n",
       " 0                                                    0   \n",
       " 1    [100.0, 8.0, 0, 100.0, 0, 0, 0, 73.0, 29.0, 10...   \n",
       " 2    [0.0, 0.0, 74.0, 117.0, 0, 0, 3.0, 168.0, 45.0...   \n",
       " 3    [0.0, 0.0, 101.0, 217.0, 45.0, 4.0, 103.0, 239...   \n",
       " 4    [0.0, 52.0, 185.0, 317.0, 78.0, 9.0, 203.0, 16...   \n",
       " ..                                                 ...   \n",
       " 121  [0.0, 889.0, 0.0, 566.0, 0.0, 0.0, 357.0, 0.0,...   \n",
       " 122  [0.0, 901.0, 0.0, 566.0, 0.0, 0.0, 357.0, 0.0,...   \n",
       " 123  [0.0, 801.0, 0.0, 566.0, 1.0, 0.0, 357.0, 0.0,...   \n",
       " 124  [0.0, 801.0, 100.0, 466.0, 0.0, 0.0, 257.0, 0....   \n",
       " 125  [0.0, 801.0, 100.0, 474.0, 0.0, 0.0, 194.0, 0....   \n",
       " \n",
       "                           number_asset_holdings_Seed23  \\\n",
       " 0                                                    0   \n",
       " 1    [95.0, 100.0, 0, 1.0, 0, 100.0, 80.0, 62.0, 0,...   \n",
       " 2    [125.0, 0.0, 14.0, 6.0, 0, 196.0, 180.0, 78.0,...   \n",
       " 3    [225.0, 0.0, 0.0, 40.0, 78.0, 129.0, 280.0, 17...   \n",
       " 4    [221.0, 43.0, 79.0, 0.0, 126.0, 143.0, 380.0, ...   \n",
       " ..                                                 ...   \n",
       " 121  [343.0, 34.0, 1498.0, 3.0, 0.0, 0.0, 44.0, 219...   \n",
       " 122  [243.0, 0.0, 1562.0, 0.0, 0.0, 0.0, 44.0, 2113...   \n",
       " 123  [243.0, 0.0, 1562.0, 0.0, 1.0, 0.0, 44.0, 2213...   \n",
       " 124  [243.0, 0.0, 1564.0, 0.0, 0.0, 0.0, 44.0, 2214...   \n",
       " 125  [248.0, 0.0, 1564.0, 0.0, 0.0, 0.0, 44.0, 2214...   \n",
       " \n",
       "                        number_asset_holdings_Seed80923  \n",
       " 0                                                    0  \n",
       " 1    [0, 29.0, 0, 0, 0, 0, 19.0, 0, 76.0, 0, 100.0,...  \n",
       " 2    [77.0, 129.0, 0, 91.0, 0, 0, 119.0, 0, 45.0, 5...  \n",
       " 3    [66.0, 198.0, 47.0, 148.0, 27.0, 0, 219.0, 0, ...  \n",
       " 4    [166.0, 262.0, 0.0, 248.0, 40.0, 0, 227.0, 0, ...  \n",
       " ..                                                 ...  \n",
       " 121  [0.0, 0.0, 1518.0, 728.0, 2212.0, 0.0, 983.0, ...  \n",
       " 122  [0.0, 0.0, 1449.0, 633.0, 2312.0, 0.0, 1083.0,...  \n",
       " 123  [0.0, 0.0, 1424.0, 683.0, 2412.0, 0.0, 1183.0,...  \n",
       " 124  [0.0, 0.0, 1471.0, 683.0, 2412.0, 0.0, 1138.0,...  \n",
       " 125  [0.0, 0.0, 1571.0, 683.0, 2512.0, 0.0, 1125.0,...  \n",
       " \n",
       " [126 rows x 5 columns],\n",
       " 'transaction_cost':      datadate  transaction_cost_Seed11112  transaction_cost_Seed223445  \\\n",
       " 0    20160104                       63.53                        89.32   \n",
       " 1    20160105                      125.44                       111.36   \n",
       " 2    20160106                      114.83                       126.48   \n",
       " 3    20160107                      150.37                       129.32   \n",
       " 4    20160108                      135.29                       131.07   \n",
       " ..        ...                         ...                          ...   \n",
       " 121  20160627                       56.61                        46.66   \n",
       " 122  20160628                       66.24                        62.68   \n",
       " 123  20160629                       80.51                       103.79   \n",
       " 124  20160630                       20.31                        71.82   \n",
       " 125  20160701                        0.00                         0.00   \n",
       " \n",
       "      transaction_cost_Seed23  transaction_cost_Seed80923  \n",
       " 0                     133.55                       55.80  \n",
       " 1                     140.84                       93.14  \n",
       " 2                     126.14                       93.63  \n",
       " 3                     155.48                       97.29  \n",
       " 4                     146.22                      126.40  \n",
       " ..                       ...                         ...  \n",
       " 121                    47.90                       45.81  \n",
       " 122                    24.65                       91.69  \n",
       " 123                    30.64                       67.25  \n",
       " 124                     0.96                      112.94  \n",
       " 125                     0.00                        0.00  \n",
       " \n",
       " [126 rows x 5 columns]}"
      ]
     },
     "execution_count": 60,
     "metadata": {},
     "output_type": "execute_result"
    }
   ],
   "source": [
    "dic\n",
    "#temp_list"
   ]
  },
  {
   "cell_type": "code",
   "execution_count": 61,
   "metadata": {},
   "outputs": [
    {
     "data": {
      "text/html": [
       "<div>\n",
       "<style scoped>\n",
       "    .dataframe tbody tr th:only-of-type {\n",
       "        vertical-align: middle;\n",
       "    }\n",
       "\n",
       "    .dataframe tbody tr th {\n",
       "        vertical-align: top;\n",
       "    }\n",
       "\n",
       "    .dataframe thead th {\n",
       "        text-align: right;\n",
       "    }\n",
       "</style>\n",
       "<table border=\"1\" class=\"dataframe\">\n",
       "  <thead>\n",
       "    <tr style=\"text-align: right;\">\n",
       "      <th></th>\n",
       "      <th>datadate</th>\n",
       "      <th>transaction_cost_Seed11112</th>\n",
       "      <th>transaction_cost_Seed223445</th>\n",
       "      <th>transaction_cost_Seed23</th>\n",
       "      <th>transaction_cost_Seed80923</th>\n",
       "    </tr>\n",
       "  </thead>\n",
       "  <tbody>\n",
       "    <tr>\n",
       "      <th>0</th>\n",
       "      <td>20160104</td>\n",
       "      <td>63.53</td>\n",
       "      <td>89.32</td>\n",
       "      <td>133.55</td>\n",
       "      <td>55.80</td>\n",
       "    </tr>\n",
       "    <tr>\n",
       "      <th>1</th>\n",
       "      <td>20160105</td>\n",
       "      <td>125.44</td>\n",
       "      <td>111.36</td>\n",
       "      <td>140.84</td>\n",
       "      <td>93.14</td>\n",
       "    </tr>\n",
       "    <tr>\n",
       "      <th>2</th>\n",
       "      <td>20160106</td>\n",
       "      <td>114.83</td>\n",
       "      <td>126.48</td>\n",
       "      <td>126.14</td>\n",
       "      <td>93.63</td>\n",
       "    </tr>\n",
       "    <tr>\n",
       "      <th>3</th>\n",
       "      <td>20160107</td>\n",
       "      <td>150.37</td>\n",
       "      <td>129.32</td>\n",
       "      <td>155.48</td>\n",
       "      <td>97.29</td>\n",
       "    </tr>\n",
       "    <tr>\n",
       "      <th>4</th>\n",
       "      <td>20160108</td>\n",
       "      <td>135.29</td>\n",
       "      <td>131.07</td>\n",
       "      <td>146.22</td>\n",
       "      <td>126.40</td>\n",
       "    </tr>\n",
       "    <tr>\n",
       "      <th>...</th>\n",
       "      <td>...</td>\n",
       "      <td>...</td>\n",
       "      <td>...</td>\n",
       "      <td>...</td>\n",
       "      <td>...</td>\n",
       "    </tr>\n",
       "    <tr>\n",
       "      <th>121</th>\n",
       "      <td>20160627</td>\n",
       "      <td>56.61</td>\n",
       "      <td>46.66</td>\n",
       "      <td>47.90</td>\n",
       "      <td>45.81</td>\n",
       "    </tr>\n",
       "    <tr>\n",
       "      <th>122</th>\n",
       "      <td>20160628</td>\n",
       "      <td>66.24</td>\n",
       "      <td>62.68</td>\n",
       "      <td>24.65</td>\n",
       "      <td>91.69</td>\n",
       "    </tr>\n",
       "    <tr>\n",
       "      <th>123</th>\n",
       "      <td>20160629</td>\n",
       "      <td>80.51</td>\n",
       "      <td>103.79</td>\n",
       "      <td>30.64</td>\n",
       "      <td>67.25</td>\n",
       "    </tr>\n",
       "    <tr>\n",
       "      <th>124</th>\n",
       "      <td>20160630</td>\n",
       "      <td>20.31</td>\n",
       "      <td>71.82</td>\n",
       "      <td>0.96</td>\n",
       "      <td>112.94</td>\n",
       "    </tr>\n",
       "    <tr>\n",
       "      <th>125</th>\n",
       "      <td>20160701</td>\n",
       "      <td>0.00</td>\n",
       "      <td>0.00</td>\n",
       "      <td>0.00</td>\n",
       "      <td>0.00</td>\n",
       "    </tr>\n",
       "  </tbody>\n",
       "</table>\n",
       "<p>126 rows × 5 columns</p>\n",
       "</div>"
      ],
      "text/plain": [
       "     datadate  transaction_cost_Seed11112  transaction_cost_Seed223445  \\\n",
       "0    20160104                       63.53                        89.32   \n",
       "1    20160105                      125.44                       111.36   \n",
       "2    20160106                      114.83                       126.48   \n",
       "3    20160107                      150.37                       129.32   \n",
       "4    20160108                      135.29                       131.07   \n",
       "..        ...                         ...                          ...   \n",
       "121  20160627                       56.61                        46.66   \n",
       "122  20160628                       66.24                        62.68   \n",
       "123  20160629                       80.51                       103.79   \n",
       "124  20160630                       20.31                        71.82   \n",
       "125  20160701                        0.00                         0.00   \n",
       "\n",
       "     transaction_cost_Seed23  transaction_cost_Seed80923  \n",
       "0                     133.55                       55.80  \n",
       "1                     140.84                       93.14  \n",
       "2                     126.14                       93.63  \n",
       "3                     155.48                       97.29  \n",
       "4                     146.22                      126.40  \n",
       "..                       ...                         ...  \n",
       "121                    47.90                       45.81  \n",
       "122                    24.65                       91.69  \n",
       "123                    30.64                       67.25  \n",
       "124                     0.96                      112.94  \n",
       "125                     0.00                        0.00  \n",
       "\n",
       "[126 rows x 5 columns]"
      ]
     },
     "execution_count": 61,
     "metadata": {},
     "output_type": "execute_result"
    }
   ],
   "source": [
    "dic[\"transaction_cost\"]"
   ]
  },
  {
   "cell_type": "code",
   "execution_count": 22,
   "metadata": {},
   "outputs": [
    {
     "name": "stdout",
     "output_type": "stream",
     "text": [
      "portfolio_value\n",
      "Seed11112\n",
      "Seed223445\n",
      "Seed80923\n",
      "cash_value\n",
      "Seed11112\n",
      "Seed223445\n",
      "Seed80923\n",
      "portfolio_value\n"
     ]
    },
    {
     "ename": "KeyError",
     "evalue": "'cash_value'",
     "output_type": "error",
     "traceback": [
      "\u001b[1;31m---------------------------------------------------------------------------\u001b[0m",
      "\u001b[1;31mKeyError\u001b[0m                                  Traceback (most recent call last)",
      "\u001b[1;32m~\\PycharmProjects\\finrlpaper1\\Deep-Reinforcement-Learning-for-Automated-Stock-Trading-Ensemble-Strategy-ICAIF-2020\\finrlpaperv4\\Lib\\site-packages\\pandas\\core\\indexes\\base.py\u001b[0m in \u001b[0;36mget_loc\u001b[1;34m(self, key, method, tolerance)\u001b[0m\n\u001b[0;32m   2645\u001b[0m             \u001b[1;32mtry\u001b[0m\u001b[1;33m:\u001b[0m\u001b[1;33m\u001b[0m\u001b[1;33m\u001b[0m\u001b[0m\n\u001b[1;32m-> 2646\u001b[1;33m                 \u001b[1;32mreturn\u001b[0m \u001b[0mself\u001b[0m\u001b[1;33m.\u001b[0m\u001b[0m_engine\u001b[0m\u001b[1;33m.\u001b[0m\u001b[0mget_loc\u001b[0m\u001b[1;33m(\u001b[0m\u001b[0mkey\u001b[0m\u001b[1;33m)\u001b[0m\u001b[1;33m\u001b[0m\u001b[1;33m\u001b[0m\u001b[0m\n\u001b[0m\u001b[0;32m   2647\u001b[0m             \u001b[1;32mexcept\u001b[0m \u001b[0mKeyError\u001b[0m\u001b[1;33m:\u001b[0m\u001b[1;33m\u001b[0m\u001b[1;33m\u001b[0m\u001b[0m\n",
      "\u001b[1;32mpandas\\_libs\\index.pyx\u001b[0m in \u001b[0;36mpandas._libs.index.IndexEngine.get_loc\u001b[1;34m()\u001b[0m\n",
      "\u001b[1;32mpandas\\_libs\\index.pyx\u001b[0m in \u001b[0;36mpandas._libs.index.IndexEngine.get_loc\u001b[1;34m()\u001b[0m\n",
      "\u001b[1;32mpandas\\_libs\\index_class_helper.pxi\u001b[0m in \u001b[0;36mpandas._libs.index.Int64Engine._check_type\u001b[1;34m()\u001b[0m\n",
      "\u001b[1;31mKeyError\u001b[0m: 'cash_value'",
      "\nDuring handling of the above exception, another exception occurred:\n",
      "\u001b[1;31mKeyError\u001b[0m                                  Traceback (most recent call last)",
      "\u001b[1;32m<ipython-input-22-609bc187dc2d>\u001b[0m in \u001b[0;36m<module>\u001b[1;34m\u001b[0m\n\u001b[0;32m      1\u001b[0m dicty2, _ = load_combine_results(dictionary=dicty.copy(), load_list=load_list, \n\u001b[0;32m      2\u001b[0m                                  \u001b[0mmode\u001b[0m\u001b[1;33m=\u001b[0m\u001b[1;34m\"trade\"\u001b[0m\u001b[1;33m,\u001b[0m \u001b[0mcombine_mode\u001b[0m\u001b[1;33m=\u001b[0m\u001b[1;34m\"across_seeds\"\u001b[0m\u001b[1;33m,\u001b[0m\u001b[1;33m\u001b[0m\u001b[1;33m\u001b[0m\u001b[0m\n\u001b[1;32m----> 3\u001b[1;33m                                  sorting=False, sorting_condition=\"_i(.*).csv\")\n\u001b[0m\u001b[0;32m      4\u001b[0m \u001b[0mdicty2\u001b[0m\u001b[1;33m\u001b[0m\u001b[1;33m\u001b[0m\u001b[0m\n",
      "\u001b[1;32m~\\PycharmProjects\\finrlpaper1\\Deep-Reinforcement-Learning-for-Automated-Stock-Trading-Ensemble-Strategy-ICAIF-2020\\analysis\\analysis_functions.py\u001b[0m in \u001b[0;36mload_combine_results\u001b[1;34m(dictionary, load_list, mode, combine_mode, sorting, sorting_condition)\u001b[0m\n\u001b[0;32m     96\u001b[0m             \u001b[1;32mfor\u001b[0m \u001b[0mseed_key\u001b[0m \u001b[1;32min\u001b[0m \u001b[0mdict_\u001b[0m\u001b[1;33m:\u001b[0m\u001b[1;33m\u001b[0m\u001b[1;33m\u001b[0m\u001b[0m\n\u001b[0;32m     97\u001b[0m                 \u001b[0mprint\u001b[0m\u001b[1;33m(\u001b[0m\u001b[0mseed_key\u001b[0m\u001b[1;33m)\u001b[0m\u001b[1;33m\u001b[0m\u001b[1;33m\u001b[0m\u001b[0m\n\u001b[1;32m---> 98\u001b[1;33m                 \u001b[0mtemp_list\u001b[0m\u001b[1;33m.\u001b[0m\u001b[0mappend\u001b[0m\u001b[1;33m(\u001b[0m\u001b[0mdict_\u001b[0m\u001b[1;33m[\u001b[0m\u001b[0mseed_key\u001b[0m\u001b[1;33m]\u001b[0m\u001b[1;33m[\u001b[0m\u001b[0mresult_elem\u001b[0m\u001b[1;33m]\u001b[0m\u001b[1;33m[\u001b[0m\u001b[0mmode\u001b[0m\u001b[1;33m]\u001b[0m\u001b[1;33m)\u001b[0m\u001b[1;33m\u001b[0m\u001b[1;33m\u001b[0m\u001b[0m\n\u001b[0m\u001b[0;32m     99\u001b[0m             \u001b[0mdf_conc\u001b[0m \u001b[1;33m=\u001b[0m \u001b[0mpd\u001b[0m\u001b[1;33m.\u001b[0m\u001b[0mconcat\u001b[0m\u001b[1;33m(\u001b[0m\u001b[0mtemp_list\u001b[0m\u001b[1;33m,\u001b[0m \u001b[0maxis\u001b[0m\u001b[1;33m=\u001b[0m\u001b[1;36m1\u001b[0m\u001b[1;33m,\u001b[0m \u001b[0mignore_index\u001b[0m\u001b[1;33m=\u001b[0m\u001b[1;32mTrue\u001b[0m\u001b[1;33m)\u001b[0m\u001b[1;33m\u001b[0m\u001b[1;33m\u001b[0m\u001b[0m\n\u001b[0;32m    100\u001b[0m             \u001b[0mdict_\u001b[0m\u001b[1;33m.\u001b[0m\u001b[0mupdate\u001b[0m\u001b[1;33m(\u001b[0m\u001b[1;33m{\u001b[0m\u001b[0mresult_elem\u001b[0m\u001b[1;33m:\u001b[0m \u001b[0mdf_conc\u001b[0m\u001b[1;33m}\u001b[0m\u001b[1;33m)\u001b[0m\u001b[1;33m\u001b[0m\u001b[1;33m\u001b[0m\u001b[0m\n",
      "\u001b[1;32m~\\PycharmProjects\\finrlpaper1\\Deep-Reinforcement-Learning-for-Automated-Stock-Trading-Ensemble-Strategy-ICAIF-2020\\finrlpaperv4\\Lib\\site-packages\\pandas\\core\\frame.py\u001b[0m in \u001b[0;36m__getitem__\u001b[1;34m(self, key)\u001b[0m\n\u001b[0;32m   2798\u001b[0m             \u001b[1;32mif\u001b[0m \u001b[0mself\u001b[0m\u001b[1;33m.\u001b[0m\u001b[0mcolumns\u001b[0m\u001b[1;33m.\u001b[0m\u001b[0mnlevels\u001b[0m \u001b[1;33m>\u001b[0m \u001b[1;36m1\u001b[0m\u001b[1;33m:\u001b[0m\u001b[1;33m\u001b[0m\u001b[1;33m\u001b[0m\u001b[0m\n\u001b[0;32m   2799\u001b[0m                 \u001b[1;32mreturn\u001b[0m \u001b[0mself\u001b[0m\u001b[1;33m.\u001b[0m\u001b[0m_getitem_multilevel\u001b[0m\u001b[1;33m(\u001b[0m\u001b[0mkey\u001b[0m\u001b[1;33m)\u001b[0m\u001b[1;33m\u001b[0m\u001b[1;33m\u001b[0m\u001b[0m\n\u001b[1;32m-> 2800\u001b[1;33m             \u001b[0mindexer\u001b[0m \u001b[1;33m=\u001b[0m \u001b[0mself\u001b[0m\u001b[1;33m.\u001b[0m\u001b[0mcolumns\u001b[0m\u001b[1;33m.\u001b[0m\u001b[0mget_loc\u001b[0m\u001b[1;33m(\u001b[0m\u001b[0mkey\u001b[0m\u001b[1;33m)\u001b[0m\u001b[1;33m\u001b[0m\u001b[1;33m\u001b[0m\u001b[0m\n\u001b[0m\u001b[0;32m   2801\u001b[0m             \u001b[1;32mif\u001b[0m \u001b[0mis_integer\u001b[0m\u001b[1;33m(\u001b[0m\u001b[0mindexer\u001b[0m\u001b[1;33m)\u001b[0m\u001b[1;33m:\u001b[0m\u001b[1;33m\u001b[0m\u001b[1;33m\u001b[0m\u001b[0m\n\u001b[0;32m   2802\u001b[0m                 \u001b[0mindexer\u001b[0m \u001b[1;33m=\u001b[0m \u001b[1;33m[\u001b[0m\u001b[0mindexer\u001b[0m\u001b[1;33m]\u001b[0m\u001b[1;33m\u001b[0m\u001b[1;33m\u001b[0m\u001b[0m\n",
      "\u001b[1;32m~\\PycharmProjects\\finrlpaper1\\Deep-Reinforcement-Learning-for-Automated-Stock-Trading-Ensemble-Strategy-ICAIF-2020\\finrlpaperv4\\Lib\\site-packages\\pandas\\core\\indexes\\range.py\u001b[0m in \u001b[0;36mget_loc\u001b[1;34m(self, key, method, tolerance)\u001b[0m\n\u001b[0;32m    351\u001b[0m             \u001b[1;32mexcept\u001b[0m \u001b[0mValueError\u001b[0m\u001b[1;33m:\u001b[0m\u001b[1;33m\u001b[0m\u001b[1;33m\u001b[0m\u001b[0m\n\u001b[0;32m    352\u001b[0m                 \u001b[1;32mraise\u001b[0m \u001b[0mKeyError\u001b[0m\u001b[1;33m(\u001b[0m\u001b[0mkey\u001b[0m\u001b[1;33m)\u001b[0m\u001b[1;33m\u001b[0m\u001b[1;33m\u001b[0m\u001b[0m\n\u001b[1;32m--> 353\u001b[1;33m         \u001b[1;32mreturn\u001b[0m \u001b[0msuper\u001b[0m\u001b[1;33m(\u001b[0m\u001b[1;33m)\u001b[0m\u001b[1;33m.\u001b[0m\u001b[0mget_loc\u001b[0m\u001b[1;33m(\u001b[0m\u001b[0mkey\u001b[0m\u001b[1;33m,\u001b[0m \u001b[0mmethod\u001b[0m\u001b[1;33m=\u001b[0m\u001b[0mmethod\u001b[0m\u001b[1;33m,\u001b[0m \u001b[0mtolerance\u001b[0m\u001b[1;33m=\u001b[0m\u001b[0mtolerance\u001b[0m\u001b[1;33m)\u001b[0m\u001b[1;33m\u001b[0m\u001b[1;33m\u001b[0m\u001b[0m\n\u001b[0m\u001b[0;32m    354\u001b[0m \u001b[1;33m\u001b[0m\u001b[0m\n\u001b[0;32m    355\u001b[0m     \u001b[1;33m@\u001b[0m\u001b[0mAppender\u001b[0m\u001b[1;33m(\u001b[0m\u001b[0m_index_shared_docs\u001b[0m\u001b[1;33m[\u001b[0m\u001b[1;34m\"get_indexer\"\u001b[0m\u001b[1;33m]\u001b[0m\u001b[1;33m)\u001b[0m\u001b[1;33m\u001b[0m\u001b[1;33m\u001b[0m\u001b[0m\n",
      "\u001b[1;32m~\\PycharmProjects\\finrlpaper1\\Deep-Reinforcement-Learning-for-Automated-Stock-Trading-Ensemble-Strategy-ICAIF-2020\\finrlpaperv4\\Lib\\site-packages\\pandas\\core\\indexes\\base.py\u001b[0m in \u001b[0;36mget_loc\u001b[1;34m(self, key, method, tolerance)\u001b[0m\n\u001b[0;32m   2646\u001b[0m                 \u001b[1;32mreturn\u001b[0m \u001b[0mself\u001b[0m\u001b[1;33m.\u001b[0m\u001b[0m_engine\u001b[0m\u001b[1;33m.\u001b[0m\u001b[0mget_loc\u001b[0m\u001b[1;33m(\u001b[0m\u001b[0mkey\u001b[0m\u001b[1;33m)\u001b[0m\u001b[1;33m\u001b[0m\u001b[1;33m\u001b[0m\u001b[0m\n\u001b[0;32m   2647\u001b[0m             \u001b[1;32mexcept\u001b[0m \u001b[0mKeyError\u001b[0m\u001b[1;33m:\u001b[0m\u001b[1;33m\u001b[0m\u001b[1;33m\u001b[0m\u001b[0m\n\u001b[1;32m-> 2648\u001b[1;33m                 \u001b[1;32mreturn\u001b[0m \u001b[0mself\u001b[0m\u001b[1;33m.\u001b[0m\u001b[0m_engine\u001b[0m\u001b[1;33m.\u001b[0m\u001b[0mget_loc\u001b[0m\u001b[1;33m(\u001b[0m\u001b[0mself\u001b[0m\u001b[1;33m.\u001b[0m\u001b[0m_maybe_cast_indexer\u001b[0m\u001b[1;33m(\u001b[0m\u001b[0mkey\u001b[0m\u001b[1;33m)\u001b[0m\u001b[1;33m)\u001b[0m\u001b[1;33m\u001b[0m\u001b[1;33m\u001b[0m\u001b[0m\n\u001b[0m\u001b[0;32m   2649\u001b[0m         \u001b[0mindexer\u001b[0m \u001b[1;33m=\u001b[0m \u001b[0mself\u001b[0m\u001b[1;33m.\u001b[0m\u001b[0mget_indexer\u001b[0m\u001b[1;33m(\u001b[0m\u001b[1;33m[\u001b[0m\u001b[0mkey\u001b[0m\u001b[1;33m]\u001b[0m\u001b[1;33m,\u001b[0m \u001b[0mmethod\u001b[0m\u001b[1;33m=\u001b[0m\u001b[0mmethod\u001b[0m\u001b[1;33m,\u001b[0m \u001b[0mtolerance\u001b[0m\u001b[1;33m=\u001b[0m\u001b[0mtolerance\u001b[0m\u001b[1;33m)\u001b[0m\u001b[1;33m\u001b[0m\u001b[1;33m\u001b[0m\u001b[0m\n\u001b[0;32m   2650\u001b[0m         \u001b[1;32mif\u001b[0m \u001b[0mindexer\u001b[0m\u001b[1;33m.\u001b[0m\u001b[0mndim\u001b[0m \u001b[1;33m>\u001b[0m \u001b[1;36m1\u001b[0m \u001b[1;32mor\u001b[0m \u001b[0mindexer\u001b[0m\u001b[1;33m.\u001b[0m\u001b[0msize\u001b[0m \u001b[1;33m>\u001b[0m \u001b[1;36m1\u001b[0m\u001b[1;33m:\u001b[0m\u001b[1;33m\u001b[0m\u001b[1;33m\u001b[0m\u001b[0m\n",
      "\u001b[1;32mpandas\\_libs\\index.pyx\u001b[0m in \u001b[0;36mpandas._libs.index.IndexEngine.get_loc\u001b[1;34m()\u001b[0m\n",
      "\u001b[1;32mpandas\\_libs\\index.pyx\u001b[0m in \u001b[0;36mpandas._libs.index.IndexEngine.get_loc\u001b[1;34m()\u001b[0m\n",
      "\u001b[1;32mpandas\\_libs\\index_class_helper.pxi\u001b[0m in \u001b[0;36mpandas._libs.index.Int64Engine._check_type\u001b[1;34m()\u001b[0m\n",
      "\u001b[1;31mKeyError\u001b[0m: 'cash_value'"
     ]
    }
   ],
   "source": [
    "dicty2, _ = load_combine_results(dictionary=dicty.copy(), load_list=load_list, \n",
    "                                 mode=\"trade\", combine_mode=\"across_seeds\",\n",
    "                                 sorting=False, sorting_condition=\"_i(.*).csv\")\n",
    "dicty2"
   ]
  },
  {
   "cell_type": "code",
   "execution_count": 24,
   "metadata": {},
   "outputs": [
    {
     "ename": "NameError",
     "evalue": "name 'dicty2' is not defined",
     "output_type": "error",
     "traceback": [
      "\u001b[1;31m---------------------------------------------------------------------------\u001b[0m",
      "\u001b[1;31mNameError\u001b[0m                                 Traceback (most recent call last)",
      "\u001b[1;32m<ipython-input-24-f1e0deb01fa4>\u001b[0m in \u001b[0;36m<module>\u001b[1;34m\u001b[0m\n\u001b[1;32m----> 1\u001b[1;33m \u001b[0mdicty2\u001b[0m\u001b[1;33m\u001b[0m\u001b[1;33m\u001b[0m\u001b[0m\n\u001b[0m",
      "\u001b[1;31mNameError\u001b[0m: name 'dicty2' is not defined"
     ]
    }
   ],
   "source": [
    "dicty2"
   ]
  },
  {
   "cell_type": "code",
   "execution_count": null,
   "metadata": {},
   "outputs": [],
   "source": [
    "# https://www.freecodecamp.org/news/how-to-combine-multiple-csv-files-with-8-lines-of-code-265183e0854/\n",
    "# https://stackoverflow.com/questions/6633678/finding-words-after-keyword-in-python\n",
    "# fill seed dicts with portfolio values dfs for each iteration\n",
    "\n",
    "\n",
    "def prepare_results(seedrun_dirnames_list=[dirname1, dirname2, dirname3, dirname4, dirname5], \n",
    "                    dictionary=portfolio_value_dicts,#={\"seed5\": seed5_dict, \n",
    "                                               #seed23\": seed23_dict,\n",
    "                                               #\"seed11112\": seed11112_dict, \n",
    "                                              # \"seed80923\": seed80923_dict, \n",
    "                                               #\"seed223445\": seed223445_dict},\n",
    "                    seednames=seedrun_names,\n",
    "                    targetname=\"end_portfolio_value_nextDayOpening_\", \n",
    "                    sample=\"trade\", \n",
    "                    strategy_mode=\"ppo\", \n",
    "                    episodes_endings=[126, 189, 252, 315, 378, 441, 504, 567, 630, \n",
    "                                   693, 756, 819, 882, 945, 1008, 1071, 1134, 1197], \n",
    "                    extension='.csv',\n",
    "                    n_seeds=5, \n",
    "                    filesformat=\"1Col\",\n",
    "                    multicol_names=tickers,\n",
    "                    exercised_policy=False,\n",
    "                    pf_value=True):\n",
    "    \n",
    "    ##### get results from directory and put them into dict as a list of dfs\n",
    "    #####-------------------------------------------------------------------\n",
    "    run = 1 \n",
    "    filenames_list = []   \n",
    "    #combine all filenames in a list\n",
    "    colnames = []\n",
    "    \n",
    "    for (seed_dirname, key) in zip(seedrun_dirnames_list, portfolio_value_dicts.keys()):\n",
    "        #print(key)\n",
    "        #print(seed_dirname\n",
    "\n",
    "        # get all filenames for portfolio value for the different episodes\n",
    "        subdir_path = os.path.join(seed_dirname, subdir_target)\n",
    "        #all_filenames = glob.glob(os.path.join(subdir_path, \"*{}_{}_i*.{}\".format(sample, strategy_mode, extension)))\n",
    "\n",
    "        iteration_files_list = []\n",
    "\n",
    "        if run==1: # do it only once since always the same names for each seed\n",
    "            for episode in episodes_endings:\n",
    "                main_filename = targetname+sample+\"_\"+strategy_mode+\"_i\"+str(episode)\n",
    "                #print(main_filename)\n",
    "                filenames_list.append(main_filename)\n",
    "\n",
    "            #print(filenames_list)\n",
    "\n",
    "        for filename in filenames_list:\n",
    "\n",
    "            # get shortname for iteration\n",
    "            shortname = re.search('(?<={}_)(.*)'.format(re_starting_point), filename)\n",
    "            shortname = shortname.group(1)# + shortname.group(2)\n",
    "            if run==1: colnames.append(shortname) #are same for each seed\n",
    "\n",
    "            # get file and save to dict with shortname for iteration\n",
    "            df = pd.read_csv(os.path.join(subdir_path,filename+extension), index_col=0)\n",
    "            \n",
    "            if run == 1 and exercised_policy==True: \n",
    "                df\n",
    "                #print(df) # for debug manually\n",
    "                #print(\"df shape; \", len(df))\n",
    "                \n",
    "            if filesformat==\"MultiCol\" and exercised_policy==False: \n",
    "                # if we have multiple columns, we name them based on multicol_names\n",
    "                mystring = str(key)+\"_\"\n",
    "                df.columns = [mystring + s for s in multicol_names]\n",
    "            \n",
    "            iteration_files_list.append(df)\n",
    "\n",
    "        dictionary[key].update({sample: iteration_files_list})\n",
    "\n",
    "        run+=1\n",
    "        \n",
    "    dicttemp = dictionary.copy()\n",
    "        \n",
    "    ##### combine data to df; \n",
    "    ##### first all iterations in one times series, then all seed time series in one df\n",
    "    #####-------------------------------------------------------------------------------\n",
    "    df_list2 = []\n",
    "    for key in list(dictionary.keys())[:n_seeds]:\n",
    "        #print(key)\n",
    "\n",
    "        #print(dictionary[key])\n",
    "        df_list1 = dictionary[key][sample] # the list of all time series dfs for each iteration (18 in total),\n",
    "                                            # each of different length\n",
    "        # delete first entry in all but the first df (because it is also the endig of the previous df, hence double) \n",
    "        #print(df_list1)\n",
    "        if pf_value==True:\n",
    "            e = 1\n",
    "\n",
    "            for elem in df_list1[1:]:\n",
    "                #print(elem)\n",
    "                tempdf = elem\n",
    "                tempdf = tempdf.iloc[1:]\n",
    "\n",
    "                #if filesformat==\"MultiCol\": \n",
    "                    # if we have multiple columns, we name them based on multicol_names\n",
    "                    #mystring = str(key)+\"_\"\n",
    "                    #tempdf.columns = [mystring + s for s in multicol_names]\n",
    "\n",
    "                df_list1[e] = tempdf\n",
    "                #print(tempdf)\n",
    "                e+=1\n",
    "\n",
    "        df = pd.concat(df_list1, axis=0).reset_index(drop=True) # combine all elements in list to one df, with one \n",
    "        # or multiple columns (in case of actions or number of holdings)\n",
    "        #df.columns = colnames[i]\n",
    "        dictionary[key][sample] = df # insert df into where the list was previously\n",
    "        #print(df)\n",
    "        # append this df to another list\n",
    "        df_list2.append(df)\n",
    "    # combine all elements in df_list2 to one df again, but this time to multiple cols (one for each seed)\n",
    "    # and save under a newly generated key in the dictionary\n",
    "    \n",
    "    df = pd.concat(df_list2, axis=1)\n",
    "    dictionary.update({\"all_seeds_\"+sample : df})\n",
    "    if filesformat==\"1Col\": dictionary[\"all_seeds_\"+sample].columns = seednames\n",
    "\n",
    "\n",
    "    return [dictionary, colnames, dicttemp]"
   ]
  },
  {
   "cell_type": "code",
   "execution_count": null,
   "metadata": {},
   "outputs": [],
   "source": [
    "# all directories names for this run\n",
    "dirname1 = \"04-10-2021_03-22-17_agentSeed5_ppo__fm2\"\n",
    "dirname2 = \"04-10-2021_03-22-17_agentSeed23_ppo__fm2\"\n",
    "dirname3 = \"04-10-2021_03-22-17_agentSeed11112_ppo__fm2\"\n",
    "dirname4 = \"04-10-2021_03-22-17_agentSeed80923_ppo__fm2\"\n",
    "dirname5 = \"04-10-2021_03-22-17_agentSeed223445_ppo__fm2\"\n",
    "# create a list for the directories names\n",
    "seedrun_dirnames_list = [dirname1, dirname2, dirname3, dirname4, dirname5]\n",
    "seedrun_names = [\"seed5\", \"seed23\", \"seed11112\", \"seed80923\", \"seed223445\"]\n",
    "#seed5_dict, seed23_dict, seed11112_dict, seed80923_dict, seed223445_dict = {},{},{},{},{}\n",
    "#seed_dict_names = [\"seed5_dict\", \"seed23_dict\", \"seed11112_dict\", \"seed80923_dict\", \"seed223445_dict\"]"
   ]
  },
  {
   "cell_type": "markdown",
   "metadata": {},
   "source": [
    "##### Functions"
   ]
  },
  {
   "cell_type": "code",
   "execution_count": null,
   "metadata": {},
   "outputs": [],
   "source": [
    "extension = '.csv'\n",
    "sample = \"trade\"\n",
    "strategy_mode = \"ppo\"\n",
    "n_seeds = 5\n",
    "# summarizing dict, will be changed later\n",
    "#DICT_PPO_NOTURB_F1_32217 = paths.SUBDIR_NAMES\n",
    "#DICT_PPO_NOTURB_F1_32217"
   ]
  },
  {
   "cell_type": "markdown",
   "metadata": {},
   "source": [
    "##### Functions"
   ]
  },
  {
   "cell_type": "code",
   "execution_count": null,
   "metadata": {},
   "outputs": [],
   "source": [
    "def makeplot(dataset,\n",
    "             results_data,\n",
    "             #x_colnames=\"datadate\", \n",
    "             y_colnames_list=seedrun_names,\n",
    "             title1='Portfolio Value trading period from ',\n",
    "             title2='Stock Price trading period from',\n",
    "             startdate=20160101,\n",
    "             enddate=20200817,\n",
    "             ylabel1=\"Portfolio Value incl. Cash\",\n",
    "             ylabel2=\"Stock Price\",\n",
    "             xlabel=\"Date\",\n",
    "             n_plots=2,\n",
    "             figsize_l=20,\n",
    "             figsize_r=20):\n",
    "\n",
    "    if n_plots == 2:\n",
    "        fig, (ax1, ax2) = plt.subplots(2, 1, figsize=(figsize_l, figsize_r))\n",
    "        # make a little extra space between the subplots\n",
    "        fig.subplots_adjust(hspace=0.5)\n",
    "\n",
    "        for colname in y_colnames_list:\n",
    "            #ax1.plot(results_data[x_colnames], results_data[colname], label=colname)\n",
    "            ax1.plot(results_data.index, results_data[colname], label=colname)\n",
    "\n",
    "        #ax1.ticklabel_format(style='plain')\n",
    "        ax1.set_title(title1+\" \"+str(startdate)+\" until \"+str(enddate)+\".\")\n",
    "        ax1.set_xlabel(xlabel, fontsize=16)\n",
    "        ax1.set_ylabel(ylabel1, fontsize=16)\n",
    "        #ax1.set_ylim(bottom=0, top=15000)\n",
    "        ax1.legend(loc=\"best\")\n",
    "\n",
    "        for ticker in tickers:\n",
    "            ax2.plot(dataset[dataset.tic==ticker].adjcp, label=ticker)\n",
    "        #ax2.ticklabel_format(style='plain')\n",
    "        ax2.set_title(title2+\"_\"+str(startdate)+\" until \"+str(enddate)+\".\")\n",
    "        ax2.set_xlabel(xlabel, fontsize=16)\n",
    "        ax2.set_ylabel(ylabel2, fontsize=16)\n",
    "        #ax2.set_ylim(bottom=0, top=15000)\n",
    "        ax2.legend(loc=\"best\")\n",
    "        \n",
    "    elif n_plots == 1:\n",
    "        fig, ax1 = plt.subplots(1, 1, figsize=(figsize_l, figsize_r))\n",
    "        # make a little extra space between the subplots\n",
    "        fig.subplots_adjust(hspace=0.5)\n",
    "\n",
    "        for colname in y_colnames_list:\n",
    "            #ax1.plot(results_data[x_colnames], results_data[colname], label=colname)\n",
    "            ax1.plot(results_data.index, results_data[colname], label=colname)\n",
    "\n",
    "        #ax1.ticklabel_format(style='plain')\n",
    "        ax1.set_title(title1+\" \"+str(startdate)+\" until \"+str(enddate)+\".\")\n",
    "        ax1.set_xlabel(xlabel, fontsize=16)\n",
    "        ax1.set_ylabel(ylabel1, fontsize=16)\n",
    "        #ax1.set_ylim(bottom=0, top=15000)\n",
    "        ax1.legend(loc=\"best\")\n",
    "        \n",
    "    elif n_plots == \"twin\":\n",
    "        fig, (ax1, ax2) = plt.subplots(2, 1, figsize=(figsize_l, figsize_r))\n",
    "        # make a little extra space between the subplots\n",
    "        fig.subplots_adjust(hspace=0.5)\n",
    "\n",
    "        for colname in y_colnames_list:\n",
    "            #ax1.plot(results_data[x_colnames], results_data[colname], label=colname)\n",
    "            ax1.plot(results_data.index, results_data[colname], label=colname)\n",
    "\n",
    "        #ax1.ticklabel_format(style='plain')\n",
    "        ax1.set_title(title1+\" \"+str(startdate)+\" until \"+str(enddate)+\".\")\n",
    "        ax1.set_xlabel(xlabel, fontsize=16)\n",
    "        ax1.set_ylabel(ylabel1, fontsize=16)\n",
    "        #ax1.set_ylim(bottom=0, top=15000)\n",
    "        ax1.legend(loc=\"best\")\n",
    "\n",
    "        for colname in y_colnames_list:\n",
    "            ax2.plot(dataset.index, dataset[colname], label=colname)\n",
    "\n",
    "        #ax1.ticklabel_format(style='plain')\n",
    "        ax2.set_title(title2+\" \"+str(startdate)+\" until \"+str(enddate)+\".\")\n",
    "        ax2.set_xlabel(xlabel, fontsize=16)\n",
    "        ax2.set_ylabel(ylabel2, fontsize=16)\n",
    "        #ax2.set_ylim(bottom=0, top=15000)\n",
    "        ax2.legend(loc=\"best\")    \n",
    "        \n",
    "    elif n_plots == \"results_and_index\":\n",
    "        fig, (ax1, ax2) = plt.subplots(2, 1, figsize=(figsize_l, figsize_r))\n",
    "        # make a little extra space between the subplots\n",
    "        fig.subplots_adjust(hspace=0.5)\n",
    "\n",
    "        for colname in y_colnames_list:\n",
    "            #ax1.plot(results_data[x_colnames], results_data[colname], label=colname)\n",
    "            ax1.plot(results_data.index, results_data[colname], label=colname)\n",
    "\n",
    "        #ax1.ticklabel_format(style='plain')\n",
    "        ax1.set_title(title1+\" \"+str(startdate)+\" until \"+str(enddate)+\".\")\n",
    "        ax1.set_xlabel(xlabel, fontsize=16)\n",
    "        ax1.set_ylabel(ylabel1, fontsize=16)\n",
    "        #ax1.set_ylim(bottom=0, top=15000)\n",
    "        ax1.legend(loc=\"best\")\n",
    "\n",
    "        ax2.plot(dataset.index, dataset.adjcp, label=\"adjcp\")\n",
    "        #ax1.ticklabel_format(style='plain')\n",
    "        ax2.set_title(title2+\" \"+str(startdate)+\" until \"+str(enddate)+\".\")\n",
    "        ax2.set_xlabel(xlabel, fontsize=16)\n",
    "        ax2.set_ylabel(ylabel2, fontsize=16)\n",
    "        #ax2.set_ylim(bottom=0, top=15000)\n",
    "        ax2.legend(loc=\"best\")    "
   ]
  },
  {
   "cell_type": "markdown",
   "metadata": {},
   "source": [
    "### Portfolio value"
   ]
  },
  {
   "cell_type": "code",
   "execution_count": null,
   "metadata": {},
   "outputs": [],
   "source": [
    "subdir_target = \"portfolio_value\"\n",
    "re_starting_point = \"Opening\"\n",
    "\n",
    "portfolio_value_dicts = {\"seed5\": {}, \"seed23\": {},\n",
    "                         \"seed11112\": {}, \"seed80923\": {}, \n",
    "                         \"seed223445\": {}}\n",
    "\n",
    "targetname = \"end_portfolio_value_nextDayOpening_\"\n",
    "\n",
    "# will be: \n",
    "# portfolio_value_dicts = {\"seed5\": seed5_dict = {\"trade\": list(iterations csvs), \"train: ,...\"}, \n",
    "#                          \"seed23\": seed23_dict = {\"trade\": list(iterations csvs), \"train: ,...\"}}"
   ]
  },
  {
   "cell_type": "markdown",
   "metadata": {},
   "source": [
    "#### get results data"
   ]
  },
  {
   "cell_type": "code",
   "execution_count": null,
   "metadata": {},
   "outputs": [],
   "source": [
    "#portfolio_value_dicts[\"seed5\"][\"trade\"]\n",
    "portfolio_value_dict_, colnames, dt = prepare_results(seedrun_dirnames_list=seedrun_dirnames_list, \n",
    "                                                      dictionary=portfolio_value_dicts,\n",
    "                                                      seednames=seedrun_names,\n",
    "                                                      targetname=\"end_portfolio_value_nextDayOpening_\", \n",
    "                                                      sample=\"trade\", \n",
    "                                                      strategy_mode=\"ppo\", \n",
    "                                                      episodes_ends=[126, 189, 252, 315, 378, 441, 504, 567, \n",
    "                                                                     630, 693, 756, 819, 882, 945, 1008, \n",
    "                                                                     1071, 1134, 1197], \n",
    "                                                      extension='.csv',\n",
    "                                                      n_seeds=5, \n",
    "                                                      filesformat=\"1Col\",\n",
    "                                                      multicol_names=tickers,\n",
    "                                                      exercised_policy=False,\n",
    "                                                      pf_value=True)\n",
    "#print(pfval_dict)\n",
    "#print(\"\")\n",
    "#print(colnames)"
   ]
  },
  {
   "cell_type": "code",
   "execution_count": null,
   "metadata": {},
   "outputs": [],
   "source": [
    "#colnames\n",
    "#dt\n",
    "#portfolio_value_dict_[\"seed5\"][\"trade\"]#.iloc[0:20]"
   ]
  },
  {
   "cell_type": "code",
   "execution_count": null,
   "metadata": {},
   "outputs": [],
   "source": [
    "#portfolio_value_dict_[\"all_seeds_trade\"]"
   ]
  },
  {
   "cell_type": "code",
   "execution_count": null,
   "metadata": {},
   "outputs": [],
   "source": [
    "# we know; row 64 is the last time point of the validation dataset, \n",
    "# which ends at:  20200707 (settings.ENDDATE_VALIDATION)\n",
    "# iteration 1197 = date 20200707"
   ]
  },
  {
   "cell_type": "markdown",
   "metadata": {},
   "source": [
    "#### combine results with dates"
   ]
  },
  {
   "cell_type": "code",
   "execution_count": null,
   "metadata": {},
   "outputs": [],
   "source": [
    "results_data = portfolio_value_dict_[\"all_seeds_trade\"]\n",
    "# combine trade dates with our results\n",
    "results_data[\"datadate\"] = trade_dates\n",
    "results_data[\"datadate\"] =  pd.to_datetime(results_data[\"datadate\"], format='%Y%m%d')\n",
    "\n",
    "results_data.set_index('datadate', inplace=True)\n",
    "results_data"
   ]
  },
  {
   "cell_type": "code",
   "execution_count": null,
   "metadata": {},
   "outputs": [],
   "source": [
    "results_data['seed223445']"
   ]
  },
  {
   "cell_type": "markdown",
   "metadata": {},
   "source": [
    "#### plot results"
   ]
  },
  {
   "cell_type": "code",
   "execution_count": null,
   "metadata": {},
   "outputs": [],
   "source": [
    "makeplot(dataset=dow30_tradedates, \n",
    "         results_data=results_data,\n",
    "         y_colnames_list=seedrun_names,\n",
    "         title1='Portfolio Value trading period from ',\n",
    "         title2='Index Value trading period from',\n",
    "         startdate=20160101,\n",
    "         enddate=20200817,\n",
    "         ylabel1=\"Portfolio Value incl. Cash\",\n",
    "         ylabel2=\"Index Value\",\n",
    "         xlabel=\"Date\",\n",
    "         n_plots=\"results_and_index\",\n",
    "         figsize_l=10,\n",
    "         figsize_r=10)"
   ]
  },
  {
   "cell_type": "markdown",
   "metadata": {},
   "source": [
    "### Cash value"
   ]
  },
  {
   "cell_type": "code",
   "execution_count": null,
   "metadata": {},
   "outputs": [],
   "source": [
    "subdir_target = \"cash_value\"\n",
    "re_starting_point = \"value\"\n",
    "\n",
    "cash_value_dicts = {\"seed5\": {}, \"seed23\": {},\n",
    "                         \"seed11112\": {}, \"seed80923\": {}, \n",
    "                         \"seed223445\": {}}\n",
    "\n",
    "targetname = \"cash_value_\""
   ]
  },
  {
   "cell_type": "code",
   "execution_count": null,
   "metadata": {},
   "outputs": [],
   "source": [
    "cash_value_dicts"
   ]
  },
  {
   "cell_type": "code",
   "execution_count": null,
   "metadata": {},
   "outputs": [],
   "source": [
    "cash_value_dict_, _, _ = prepare_results(seedrun_dirnames_list=[dirname1, dirname2, dirname3, dirname4, dirname5], \n",
    "                        dictionary=cash_value_dicts,#={\"seed5\": seed5_dict, \n",
    "                                               #seed23\": seed23_dict,\n",
    "                                               #\"seed11112\": seed11112_dict, \n",
    "                                              # \"seed80923\": seed80923_dict, \n",
    "                                               #\"seed223445\": seed223445_dict},\n",
    "                        seednames=seedrun_names,\n",
    "                        targetname=targetname, \n",
    "                        sample=\"trade\", \n",
    "                        strategy_mode=\"ppo\", \n",
    "                        episodes_ends=[126, 189, 252, 315, 378, 441, 504, 567, 630, \n",
    "                                       693, 756, 819, 882, 945, 1008, 1071, 1134, 1197], \n",
    "                        extension='.csv',\n",
    "                           n_seeds=5)\n",
    "# output = [dictionary, colnames, dicttemp]"
   ]
  },
  {
   "cell_type": "code",
   "execution_count": null,
   "metadata": {},
   "outputs": [],
   "source": [
    "#cash_value_dict_"
   ]
  },
  {
   "cell_type": "code",
   "execution_count": null,
   "metadata": {},
   "outputs": [],
   "source": [
    "cash_data = cash_value_dict_[\"all_seeds_trade\"]\n",
    "# combine trade dates with our results\n",
    "cash_data[\"datadate\"] = trade_dates\n",
    "cash_data[\"datadate\"] =  pd.to_datetime(cash_data[\"datadate\"], format='%Y%m%d')\n",
    "\n",
    "cash_data.set_index('datadate', inplace=True)\n",
    "cash_data"
   ]
  },
  {
   "cell_type": "code",
   "execution_count": null,
   "metadata": {},
   "outputs": [],
   "source": [
    "#makeplot(dataset=results_data, \n",
    "#         results_data=cash_data,\n",
    "#         y_colnames_list=seedrun_names,\n",
    "#         title1='Cash Value trading period from ',\n",
    "#         title2='Stock Price trading period from',\n",
    "#         startdate=20160101,\n",
    "#         enddate=20200817,\n",
    "#         ylabel1=\"Cash Value\",\n",
    "#         ylabel2=\"Portfolio Value\",\n",
    "#         xlabel=\"Date\",\n",
    "#         n_plots=1)"
   ]
  },
  {
   "cell_type": "markdown",
   "metadata": {},
   "source": [
    "### Subtraction:  Pf incl. Cash - Cash to get Asset-only value over time"
   ]
  },
  {
   "cell_type": "code",
   "execution_count": null,
   "metadata": {},
   "outputs": [],
   "source": [
    "asset_only_data = results_data-cash_data\n",
    "asset_only_data"
   ]
  },
  {
   "cell_type": "code",
   "execution_count": null,
   "metadata": {},
   "outputs": [],
   "source": [
    "makeplot(dataset=dataset_tradedates, \n",
    "         results_data=asset_only_data,\n",
    "         y_colnames_list=seedrun_names,\n",
    "         title1='Portfolio Value (Asset Only) trading period from ',\n",
    "         title2='Stock Price trading period from',\n",
    "         startdate=20160101,\n",
    "         enddate=20200817,\n",
    "         ylabel1=\"Portfolio Value (Asset Only)\",\n",
    "         ylabel2=\"Stock Price\",\n",
    "         xlabel=\"Date\",\n",
    "         n_plots=2)"
   ]
  },
  {
   "cell_type": "markdown",
   "metadata": {},
   "source": [
    "### Policy vs. exercised policy"
   ]
  },
  {
   "cell_type": "code",
   "execution_count": null,
   "metadata": {},
   "outputs": [],
   "source": [
    "subdir_target = \"policy_actions\"\n",
    "re_starting_point = \"actions\"\n",
    "policyActions_dicts = {\"seed5\": {}, \"seed23\": {},\n",
    "                         \"seed11112\": {}, \"seed80923\": {}, \n",
    "                         \"seed223445\": {}}\n",
    "\n",
    "targetname_policyActions = \"policy_actions_\""
   ]
  },
  {
   "cell_type": "code",
   "execution_count": null,
   "metadata": {},
   "outputs": [],
   "source": [
    "policyActions_dict_, _, dt = prepare_results(seedrun_dirnames_list=seedrun_dirnames_list, \n",
    "                                            dictionary=policyActions_dicts,#={\"seed5\": seed5_dict, \n",
    "                                               #seed23\": seed23_dict,\n",
    "                                               #\"seed11112\": seed11112_dict, \n",
    "                                              # \"seed80923\": seed80923_dict, \n",
    "                                               #\"seed223445\": seed223445_dict},\n",
    "                                            seednames=seedrun_names,\n",
    "                                            targetname=targetname_policyActions, \n",
    "                                            sample=\"trade\", \n",
    "                                            strategy_mode=\"ppo\", \n",
    "                                            episodes_ends=[126, 189, 252, 315, 378, 441, 504, 567, 630, \n",
    "                                                           693, 756, 819, 882, 945, 1008, 1071, 1134, 1197], \n",
    "                                            extension='.csv',\n",
    "                                            n_seeds=5,\n",
    "                                            filesformat=\"MultiCol\",\n",
    "                                            multicol_names=tickers)\n",
    "# output = [dictionary, colnames, dicttemp]"
   ]
  },
  {
   "cell_type": "code",
   "execution_count": null,
   "metadata": {},
   "outputs": [],
   "source": [
    "#policyActions_dict_"
   ]
  },
  {
   "cell_type": "code",
   "execution_count": null,
   "metadata": {},
   "outputs": [],
   "source": [
    "subdir_target = \"exercised_actions\"\n",
    "re_starting_point = \"actions\"\n",
    "ExercisedActions_dicts = {\"seed5\": {}, \"seed23\": {},\n",
    "                         \"seed11112\": {}, \"seed80923\": {}, \n",
    "                         \"seed223445\": {}}\n",
    "\n",
    "targetname_ExercisedActions = \"exercised_actions_\""
   ]
  },
  {
   "cell_type": "code",
   "execution_count": null,
   "metadata": {},
   "outputs": [],
   "source": [
    "ExercisedActions_dict_, _, dt = prepare_results(seedrun_dirnames_list=seedrun_dirnames_list, \n",
    "                                            dictionary=ExercisedActions_dicts,#={\"seed5\": seed5_dict, \n",
    "                                               #seed23\": seed23_dict,\n",
    "                                               #\"seed11112\": seed11112_dict, \n",
    "                                              # \"seed80923\": seed80923_dict, \n",
    "                                               #\"seed223445\": seed223445_dict},\n",
    "                                            seednames=seedrun_names,\n",
    "                                            targetname=targetname_ExercisedActions, \n",
    "                                            sample=\"trade\", \n",
    "                                            strategy_mode=\"ppo\", \n",
    "                                            episodes_ends=[126, 189, 252, 315, 378, 441, 504, 567, 630, \n",
    "                                                           693, 756, 819, 882, 945, 1008, 1071, 1134, 1197], \n",
    "                                            extension='.csv',\n",
    "                                            n_seeds=5,\n",
    "                                            filesformat=\"MultiCol\",\n",
    "                                            multicol_names=tickers)"
   ]
  },
  {
   "cell_type": "code",
   "execution_count": null,
   "metadata": {},
   "outputs": [],
   "source": [
    "makeplot(dataset=dataset_tradedates, \n",
    "         results_data=asset_only_data,\n",
    "         y_colnames_list=seedrun_names,\n",
    "         title1='Portfolio Value (Asset Only) trading period from ',\n",
    "         title2='Stock Price trading period from',\n",
    "         startdate=20160101,\n",
    "         enddate=20200817,\n",
    "         ylabel1=\"Portfolio Value (Asset Only)\",\n",
    "         ylabel2=\"Stock Price\",\n",
    "         xlabel=\"Date\",\n",
    "         n_plots=\"twin\")"
   ]
  }
 ],
 "metadata": {
  "kernelspec": {
   "display_name": "Python 3",
   "language": "python",
   "name": "python3"
  },
  "language_info": {
   "codemirror_mode": {
    "name": "ipython",
    "version": 3
   },
   "file_extension": ".py",
   "mimetype": "text/x-python",
   "name": "python",
   "nbconvert_exporter": "python",
   "pygments_lexer": "ipython3",
   "version": "3.7.7"
  }
 },
 "nbformat": 4,
 "nbformat_minor": 1
}
