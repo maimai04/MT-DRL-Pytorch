{
 "cells": [
  {
   "cell_type": "code",
   "execution_count": 51,
   "metadata": {
    "pycharm": {
     "is_executing": true
    }
   },
   "outputs": [],
   "source": [
    "import numpy as np\n",
    "import pandas as pd\n",
    "import os\n",
    "import zipfile\n",
    "import matplotlib.pyplot as plt\n",
    "import glob\n",
    "import re\n",
    "import shap\n",
    "\n",
    "from config.config import *\n",
    "#from analysis.analysis_functions import *\n",
    "from model.CustomActorCriticNets import *"
   ]
  },
  {
   "cell_type": "code",
   "execution_count": 73,
   "metadata": {},
   "outputs": [],
   "source": [
    "backdf = pd.read_csv(\"data/preprocessed/US_stocks_WDB.csv\", index_col=0)\n",
    "backdf = backdf[(backdf[\"datadate\"]>= 20000101)&(backdf[\"datadate\"]<=20081231)]\n",
    "backdf[\"datadate\"] = pd.to_datetime(backdf[\"datadate\"], format='%Y%m%d')"
   ]
  },
  {
   "cell_type": "code",
   "execution_count": 75,
   "metadata": {},
   "outputs": [
    {
     "data": {
      "image/png": "[encoded data removed]",
      "text/plain": [
       "<Figure size 432x288 with 1 Axes>"
      ]
     },
     "metadata": {
      "needs_background": "light"
     },
     "output_type": "display_data"
    }
   ],
   "source": [
    "backdf.set_index(\"datadate\")[\"adjcp\"].plot()\n",
    "plt.show()"
   ]
  },
  {
   "cell_type": "code",
   "execution_count": 79,
   "metadata": {},
   "outputs": [
    {
     "data": {
      "text/html": [
       "<div>\n",
       "<style scoped>\n",
       "    .dataframe tbody tr th:only-of-type {\n",
       "        vertical-align: middle;\n",
       "    }\n",
       "\n",
       "    .dataframe tbody tr th {\n",
       "        vertical-align: top;\n",
       "    }\n",
       "\n",
       "    .dataframe thead th {\n",
       "        text-align: right;\n",
       "    }\n",
       "</style>\n",
       "<table border=\"1\" class=\"dataframe\">\n",
       "  <thead>\n",
       "    <tr style=\"text-align: right;\">\n",
       "      <th></th>\n",
       "      <th>datadate</th>\n",
       "      <th>tic</th>\n",
       "      <th>adjcp</th>\n",
       "      <th>high</th>\n",
       "      <th>low</th>\n",
       "      <th>volume</th>\n",
       "      <th>macd</th>\n",
       "      <th>rsi_30</th>\n",
       "      <th>cci_30</th>\n",
       "      <th>dx_30</th>\n",
       "      <th>ret_vola_7d</th>\n",
       "      <th>return_daily</th>\n",
       "      <th>log_return_daily</th>\n",
       "      <th>ret_vola_21d</th>\n",
       "      <th>ret_vola_63d</th>\n",
       "    </tr>\n",
       "  </thead>\n",
       "  <tbody>\n",
       "    <tr>\n",
       "      <th>1263</th>\n",
       "      <td>2000-01-03</td>\n",
       "      <td>AAPL</td>\n",
       "      <td>0.999442</td>\n",
       "      <td>1.004464</td>\n",
       "      <td>0.907924</td>\n",
       "      <td>4783300.0</td>\n",
       "      <td>0.020676</td>\n",
       "      <td>61.890875</td>\n",
       "      <td>96.374508</td>\n",
       "      <td>29.030634</td>\n",
       "      <td>0.041159</td>\n",
       "      <td>0.088754</td>\n",
       "      <td>0.085034</td>\n",
       "      <td>0.037706</td>\n",
       "      <td>0.039918</td>\n",
       "    </tr>\n",
       "    <tr>\n",
       "      <th>7921</th>\n",
       "      <td>2000-01-03</td>\n",
       "      <td>AMGN</td>\n",
       "      <td>62.937500</td>\n",
       "      <td>70.000000</td>\n",
       "      <td>62.875000</td>\n",
       "      <td>22916100.0</td>\n",
       "      <td>4.433505</td>\n",
       "      <td>67.222606</td>\n",
       "      <td>219.105316</td>\n",
       "      <td>48.280407</td>\n",
       "      <td>0.055611</td>\n",
       "      <td>0.047867</td>\n",
       "      <td>0.046756</td>\n",
       "      <td>0.040388</td>\n",
       "      <td>0.033829</td>\n",
       "    </tr>\n",
       "    <tr>\n",
       "      <th>14579</th>\n",
       "      <td>2000-01-03</td>\n",
       "      <td>AXP</td>\n",
       "      <td>52.416667</td>\n",
       "      <td>54.833333</td>\n",
       "      <td>52.000000</td>\n",
       "      <td>1887700.0</td>\n",
       "      <td>0.758946</td>\n",
       "      <td>52.521632</td>\n",
       "      <td>25.502417</td>\n",
       "      <td>0.885386</td>\n",
       "      <td>0.027691</td>\n",
       "      <td>-0.054135</td>\n",
       "      <td>-0.055656</td>\n",
       "      <td>0.021863</td>\n",
       "      <td>0.024413</td>\n",
       "    </tr>\n",
       "    <tr>\n",
       "      <th>21238</th>\n",
       "      <td>2000-01-03</td>\n",
       "      <td>BA</td>\n",
       "      <td>40.562500</td>\n",
       "      <td>41.687500</td>\n",
       "      <td>39.812500</td>\n",
       "      <td>2637100.0</td>\n",
       "      <td>0.091544</td>\n",
       "      <td>48.242056</td>\n",
       "      <td>29.946176</td>\n",
       "      <td>3.613303</td>\n",
       "      <td>0.020398</td>\n",
       "      <td>-0.021116</td>\n",
       "      <td>-0.021342</td>\n",
       "      <td>0.021983</td>\n",
       "      <td>0.023994</td>\n",
       "    </tr>\n",
       "    <tr>\n",
       "      <th>27896</th>\n",
       "      <td>2000-01-03</td>\n",
       "      <td>CAT</td>\n",
       "      <td>24.312500</td>\n",
       "      <td>24.500000</td>\n",
       "      <td>23.843750</td>\n",
       "      <td>2527500.0</td>\n",
       "      <td>-0.376621</td>\n",
       "      <td>47.627127</td>\n",
       "      <td>90.674827</td>\n",
       "      <td>5.006491</td>\n",
       "      <td>0.019601</td>\n",
       "      <td>0.033201</td>\n",
       "      <td>0.032661</td>\n",
       "      <td>0.023378</td>\n",
       "      <td>0.027229</td>\n",
       "    </tr>\n",
       "    <tr>\n",
       "      <th>...</th>\n",
       "      <td>...</td>\n",
       "      <td>...</td>\n",
       "      <td>...</td>\n",
       "      <td>...</td>\n",
       "      <td>...</td>\n",
       "      <td>...</td>\n",
       "      <td>...</td>\n",
       "      <td>...</td>\n",
       "      <td>...</td>\n",
       "      <td>...</td>\n",
       "      <td>...</td>\n",
       "      <td>...</td>\n",
       "      <td>...</td>\n",
       "      <td>...</td>\n",
       "      <td>...</td>\n",
       "    </tr>\n",
       "    <tr>\n",
       "      <th>162231</th>\n",
       "      <td>2008-12-31</td>\n",
       "      <td>UNH</td>\n",
       "      <td>26.600000</td>\n",
       "      <td>27.310000</td>\n",
       "      <td>26.200000</td>\n",
       "      <td>5584527.0</td>\n",
       "      <td>1.442635</td>\n",
       "      <td>56.427712</td>\n",
       "      <td>110.663290</td>\n",
       "      <td>17.178618</td>\n",
       "      <td>0.029984</td>\n",
       "      <td>-0.016272</td>\n",
       "      <td>-0.016406</td>\n",
       "      <td>0.035291</td>\n",
       "      <td>0.067584</td>\n",
       "    </tr>\n",
       "    <tr>\n",
       "      <th>168890</th>\n",
       "      <td>2008-12-31</td>\n",
       "      <td>VZ</td>\n",
       "      <td>33.900000</td>\n",
       "      <td>34.340000</td>\n",
       "      <td>33.030000</td>\n",
       "      <td>16346630.0</td>\n",
       "      <td>0.640586</td>\n",
       "      <td>54.322490</td>\n",
       "      <td>75.765996</td>\n",
       "      <td>11.874759</td>\n",
       "      <td>0.011994</td>\n",
       "      <td>0.020163</td>\n",
       "      <td>0.019962</td>\n",
       "      <td>0.022704</td>\n",
       "      <td>0.044480</td>\n",
       "    </tr>\n",
       "    <tr>\n",
       "      <th>175549</th>\n",
       "      <td>2008-12-31</td>\n",
       "      <td>WBA</td>\n",
       "      <td>24.670000</td>\n",
       "      <td>24.850000</td>\n",
       "      <td>23.940000</td>\n",
       "      <td>6572553.0</td>\n",
       "      <td>-0.161143</td>\n",
       "      <td>47.095138</td>\n",
       "      <td>-11.160032</td>\n",
       "      <td>2.717726</td>\n",
       "      <td>0.025650</td>\n",
       "      <td>0.030493</td>\n",
       "      <td>0.030037</td>\n",
       "      <td>0.024113</td>\n",
       "      <td>0.041749</td>\n",
       "    </tr>\n",
       "    <tr>\n",
       "      <th>182207</th>\n",
       "      <td>2008-12-31</td>\n",
       "      <td>WMT</td>\n",
       "      <td>56.060000</td>\n",
       "      <td>56.330000</td>\n",
       "      <td>54.770000</td>\n",
       "      <td>13881800.0</td>\n",
       "      <td>0.249687</td>\n",
       "      <td>51.466857</td>\n",
       "      <td>55.213376</td>\n",
       "      <td>7.794387</td>\n",
       "      <td>0.009468</td>\n",
       "      <td>0.018347</td>\n",
       "      <td>0.018181</td>\n",
       "      <td>0.016539</td>\n",
       "      <td>0.032379</td>\n",
       "    </tr>\n",
       "    <tr>\n",
       "      <th>188865</th>\n",
       "      <td>2008-12-31</td>\n",
       "      <td>XOM</td>\n",
       "      <td>79.830000</td>\n",
       "      <td>80.590000</td>\n",
       "      <td>78.290000</td>\n",
       "      <td>30026390.0</td>\n",
       "      <td>0.481328</td>\n",
       "      <td>52.503771</td>\n",
       "      <td>64.792535</td>\n",
       "      <td>1.752764</td>\n",
       "      <td>0.007017</td>\n",
       "      <td>0.015778</td>\n",
       "      <td>0.015655</td>\n",
       "      <td>0.024345</td>\n",
       "      <td>0.056135</td>\n",
       "    </tr>\n",
       "  </tbody>\n",
       "</table>\n",
       "<p>61101 rows × 15 columns</p>\n",
       "</div>"
      ],
      "text/plain": [
       "         datadate   tic      adjcp       high        low      volume  \\\n",
       "1263   2000-01-03  AAPL   0.999442   1.004464   0.907924   4783300.0   \n",
       "7921   2000-01-03  AMGN  62.937500  70.000000  62.875000  22916100.0   \n",
       "14579  2000-01-03   AXP  52.416667  54.833333  52.000000   1887700.0   \n",
       "21238  2000-01-03    BA  40.562500  41.687500  39.812500   2637100.0   \n",
       "27896  2000-01-03   CAT  24.312500  24.500000  23.843750   2527500.0   \n",
       "...           ...   ...        ...        ...        ...         ...   \n",
       "162231 2008-12-31   UNH  26.600000  27.310000  26.200000   5584527.0   \n",
       "168890 2008-12-31    VZ  33.900000  34.340000  33.030000  16346630.0   \n",
       "175549 2008-12-31   WBA  24.670000  24.850000  23.940000   6572553.0   \n",
       "182207 2008-12-31   WMT  56.060000  56.330000  54.770000  13881800.0   \n",
       "188865 2008-12-31   XOM  79.830000  80.590000  78.290000  30026390.0   \n",
       "\n",
       "            macd     rsi_30      cci_30      dx_30  ret_vola_7d  return_daily  \\\n",
       "1263    0.020676  61.890875   96.374508  29.030634     0.041159      0.088754   \n",
       "7921    4.433505  67.222606  219.105316  48.280407     0.055611      0.047867   \n",
       "14579   0.758946  52.521632   25.502417   0.885386     0.027691     -0.054135   \n",
       "21238   0.091544  48.242056   29.946176   3.613303     0.020398     -0.021116   \n",
       "27896  -0.376621  47.627127   90.674827   5.006491     0.019601      0.033201   \n",
       "...          ...        ...         ...        ...          ...           ...   \n",
       "162231  1.442635  56.427712  110.663290  17.178618     0.029984     -0.016272   \n",
       "168890  0.640586  54.322490   75.765996  11.874759     0.011994      0.020163   \n",
       "175549 -0.161143  47.095138  -11.160032   2.717726     0.025650      0.030493   \n",
       "182207  0.249687  51.466857   55.213376   7.794387     0.009468      0.018347   \n",
       "188865  0.481328  52.503771   64.792535   1.752764     0.007017      0.015778   \n",
       "\n",
       "        log_return_daily  ret_vola_21d  ret_vola_63d  \n",
       "1263            0.085034      0.037706      0.039918  \n",
       "7921            0.046756      0.040388      0.033829  \n",
       "14579          -0.055656      0.021863      0.024413  \n",
       "21238          -0.021342      0.021983      0.023994  \n",
       "27896           0.032661      0.023378      0.027229  \n",
       "...                  ...           ...           ...  \n",
       "162231         -0.016406      0.035291      0.067584  \n",
       "168890          0.019962      0.022704      0.044480  \n",
       "175549          0.030037      0.024113      0.041749  \n",
       "182207          0.018181      0.016539      0.032379  \n",
       "188865          0.015655      0.024345      0.056135  \n",
       "\n",
       "[61101 rows x 15 columns]"
      ]
     },
     "execution_count": 79,
     "metadata": {},
     "output_type": "execute_result"
    }
   ],
   "source": [
    "backdf[backdf.datadate>=\"2000-01-01\"]"
   ]
  },
  {
   "cell_type": "code",
   "execution_count": 93,
   "metadata": {},
   "outputs": [
    {
     "data": {
      "text/plain": [
       "1264   -0.084310\n",
       "1265    0.014634\n",
       "1266   -0.086538\n",
       "1267    0.047368\n",
       "1268   -0.017588\n",
       "          ...   \n",
       "3521   -0.015513\n",
       "3522    0.009055\n",
       "3523    0.009323\n",
       "3524   -0.003695\n",
       "3525   -0.010893\n",
       "Name: adjcp, Length: 2262, dtype: float64"
      ]
     },
     "execution_count": 93,
     "metadata": {},
     "output_type": "execute_result"
    }
   ],
   "source": [
    "DFF = backdf[backdf.tic==\"AAPL\"][\"adjcp\"].pct_change(1)[1:]\n",
    "DFF"
   ]
  },
  {
   "cell_type": "code",
   "execution_count": 119,
   "metadata": {},
   "outputs": [
    {
     "data": {
      "text/plain": [
       "1405    0.0\n",
       "1464    0.0\n",
       "1470    0.0\n",
       "1499    0.0\n",
       "1513    0.0\n",
       "1515    0.0\n",
       "1530    0.0\n",
       "1541    0.0\n",
       "1551    0.0\n",
       "1682    0.0\n",
       "1698    0.0\n",
       "1728    0.0\n",
       "1748    0.0\n",
       "1864    0.0\n",
       "1929    0.0\n",
       "2017    0.0\n",
       "2042    0.0\n",
       "2221    0.0\n",
       "2321    0.0\n",
       "2342    0.0\n",
       "2370    0.0\n",
       "2615    0.0\n",
       "2857    0.0\n",
       "3290    0.0\n",
       "Name: adjcp, dtype: float64"
      ]
     },
     "execution_count": 119,
     "metadata": {},
     "output_type": "execute_result"
    }
   ],
   "source": [
    "DFF[DFF== 0]"
   ]
  },
  {
   "cell_type": "code",
   "execution_count": 103,
   "metadata": {},
   "outputs": [],
   "source": [
    "DFF1 = DFF[DFF < np.mean(DFF)]"
   ]
  },
  {
   "cell_type": "code",
   "execution_count": 105,
   "metadata": {},
   "outputs": [
    {
     "data": {
      "text/plain": [
       "1264   -0.084310\n",
       "1266   -0.086538\n",
       "1268   -0.017588\n",
       "1269   -0.051151\n",
       "1270   -0.059973\n",
       "          ...   \n",
       "3516   -0.065703\n",
       "3519   -0.047333\n",
       "3521   -0.015513\n",
       "3524   -0.003695\n",
       "3525   -0.010893\n",
       "Name: adjcp, Length: 1160, dtype: float64"
      ]
     },
     "execution_count": 105,
     "metadata": {},
     "output_type": "execute_result"
    }
   ],
   "source": [
    "DFF1"
   ]
  },
  {
   "cell_type": "code",
   "execution_count": 106,
   "metadata": {},
   "outputs": [
    {
     "data": {
      "text/plain": [
       "0.001072271752910615"
      ]
     },
     "execution_count": 106,
     "metadata": {},
     "output_type": "execute_result"
    }
   ],
   "source": [
    "mean = np.mean(DFF)\n",
    "mean"
   ]
  },
  {
   "cell_type": "code",
   "execution_count": 107,
   "metadata": {},
   "outputs": [
    {
     "data": {
      "text/plain": [
       "1264   -0.085383\n",
       "1266   -0.087611\n",
       "1268   -0.018660\n",
       "1269   -0.052223\n",
       "1270   -0.061045\n",
       "          ...   \n",
       "3516   -0.066775\n",
       "3519   -0.048406\n",
       "3521   -0.016585\n",
       "3524   -0.004767\n",
       "3525   -0.011966\n",
       "Name: adjcp, Length: 1160, dtype: float64"
      ]
     },
     "execution_count": 107,
     "metadata": {},
     "output_type": "execute_result"
    }
   ],
   "source": [
    "DFF1-mean"
   ]
  },
  {
   "cell_type": "code",
   "execution_count": 117,
   "metadata": {},
   "outputs": [
    {
     "data": {
      "text/plain": [
       "1405    0.0\n",
       "1464    0.0\n",
       "1470    0.0\n",
       "1499    0.0\n",
       "1513    0.0\n",
       "1515    0.0\n",
       "1530    0.0\n",
       "1541    0.0\n",
       "1551    0.0\n",
       "1682    0.0\n",
       "1698    0.0\n",
       "1728    0.0\n",
       "1748    0.0\n",
       "1864    0.0\n",
       "1929    0.0\n",
       "2017    0.0\n",
       "2042    0.0\n",
       "2221    0.0\n",
       "2321    0.0\n",
       "2342    0.0\n",
       "2370    0.0\n",
       "2615    0.0\n",
       "2857    0.0\n",
       "3290    0.0\n",
       "Name: adjcp, dtype: float64"
      ]
     },
     "execution_count": 117,
     "metadata": {},
     "output_type": "execute_result"
    }
   ],
   "source": [
    "DFF[DFF==0]"
   ]
  },
  {
   "cell_type": "code",
   "execution_count": 115,
   "metadata": {},
   "outputs": [
    {
     "name": "stderr",
     "output_type": "stream",
     "text": [
      "divide by zero encountered in log\n",
      "invalid value encountered in log\n"
     ]
    },
    {
     "data": {
      "text/plain": [
       "1264         NaN\n",
       "1265         NaN\n",
       "1266         NaN\n",
       "1267         NaN\n",
       "1268   -1.067567\n",
       "          ...   \n",
       "3521         NaN\n",
       "3522   -0.029207\n",
       "3523         NaN\n",
       "3524   -1.081260\n",
       "3525         NaN\n",
       "Name: adjcp, Length: 2262, dtype: float64"
      ]
     },
     "execution_count": 115,
     "metadata": {},
     "output_type": "execute_result"
    }
   ],
   "source": [
    "np.log(DFF/DFF.shift(-1))"
   ]
  },
  {
   "cell_type": "code",
   "execution_count": 109,
   "metadata": {},
   "outputs": [
    {
     "data": {
      "text/plain": [
       "0.0011374001746637902"
      ]
     },
     "execution_count": 109,
     "metadata": {},
     "output_type": "execute_result"
    }
   ],
   "source": [
    "np.mean((mean-DFF1)**2)"
   ]
  },
  {
   "cell_type": "code",
   "execution_count": null,
   "metadata": {},
   "outputs": [],
   "source": [
    " df[\"daily_ret\"][df[\"daily_ret\"]<df[\"daily_ret\"].mean()].values"
   ]
  },
  {
   "cell_type": "code",
   "execution_count": null,
   "metadata": {},
   "outputs": [],
   "source": []
  },
  {
   "cell_type": "code",
   "execution_count": null,
   "outputs": [],
   "source": [],
   "metadata": {
    "collapsed": false,
    "pycharm": {
     "name": "#%%\n"
    }
   }
  },
  {
   "cell_type": "code",
   "execution_count": null,
   "outputs": [],
   "source": [
    "abspath = r\"C:\\Users\\Andy\\PycharmProjects\\finrlpaper2\\MT-DRL-Pytorch\"\n",
    "os.chdir(abspath)\n",
    "cwd_ = os.getcwd() # get current working directory\n",
    "cwd_"
   ],
   "metadata": {
    "collapsed": false,
    "pycharm": {
     "name": "#%%\n"
    }
   }
  },
  {
   "cell_type": "code",
   "execution_count": null,
   "outputs": [],
   "source": [
    "results_path = \"results\"\n",
    "run_path = os.path.join(results_path, \"07-09-2021_04-00-06_ppoCustomBase_fm2_st\")\n",
    "seed = 0\n",
    "seed_path = os.path.join(run_path, \"agentSeed0\")\n",
    "\n",
    "states = pd.read_csv(os.path.join(\"results\", \"07-09-2021_04-00-06_ppoCustomBase_fm2_st\", \"randomSeed0\", \"state_memory\", \"state_memory_train_ppoCustomBase_ep21_totalSteps_63_finalStateCounter_2.csv\"), index_col=0)\n",
    "bg = torch.as_tensor(np.array(states.drop(columns=\"datadate\")), dtype=torch.float)[0:40]\n",
    "tg = torch.as_tensor(np.array(states.drop(columns=\"datadate\")), dtype=torch.float)[40:]"
   ],
   "metadata": {
    "collapsed": false,
    "pycharm": {
     "name": "#%%\n"
    }
   }
  },
  {
   "cell_type": "code",
   "execution_count": null,
   "outputs": [],
   "source": [
    "bg_minusone = torch.as_tensor(np.array(states.drop(columns=\"datadate\")), dtype=torch.float)[0:-1]\n",
    "tg_one = torch.as_tensor(np.array(states.drop(columns=\"datadate\")), dtype=torch.float)[-1:]"
   ],
   "metadata": {
    "collapsed": false,
    "pycharm": {
     "name": "#%%\n"
    }
   }
  },
  {
   "cell_type": "code",
   "execution_count": null,
   "outputs": [],
   "source": [
    "tg_one[0][0]"
   ],
   "metadata": {
    "collapsed": false,
    "pycharm": {
     "name": "#%%\n"
    }
   }
  },
  {
   "cell_type": "code",
   "execution_count": null,
   "outputs": [],
   "source": [
    "bg_minusone.shape"
   ],
   "metadata": {
    "collapsed": false,
    "pycharm": {
     "name": "#%%\n"
    }
   }
  },
  {
   "cell_type": "code",
   "execution_count": null,
   "outputs": [],
   "source": [
    "tg_one.shape"
   ],
   "metadata": {
    "collapsed": false,
    "pycharm": {
     "name": "#%%\n"
    }
   }
  },
  {
   "cell_type": "code",
   "execution_count": null,
   "outputs": [],
   "source": [
    "brain = BrainActorCritic(observations_size=27*7+27+1, actions_num=27)\n",
    "brain.load_state_dict(torch.load(os.path.join(\"trained_models\", \"07-09-2021_04-00-06_ppoCustomBase_rew_addPFVal_fm2_st\", \"randomSeed0\",\"ppoCustomBase_trainTimesteps_128_ep21_trainBeginning_5221_trainEnding_5284\")))"
   ],
   "metadata": {
    "collapsed": false,
    "pycharm": {
     "name": "#%%\n"
    }
   }
  },
  {
   "cell_type": "code",
   "execution_count": null,
   "outputs": [],
   "source": [
    "explainer = shap.DeepExplainer(brain, bg_minusone, choose_output_idx=0)"
   ],
   "metadata": {
    "collapsed": false,
    "pycharm": {
     "name": "#%%\n"
    }
   }
  },
  {
   "cell_type": "code",
   "execution_count": null,
   "outputs": [],
   "source": [
    "shap_values = explainer.shap_values(tg)"
   ],
   "metadata": {
    "collapsed": false,
    "pycharm": {
     "name": "#%%\n"
    }
   }
  },
  {
   "cell_type": "code",
   "execution_count": null,
   "outputs": [],
   "source": [
    "shap_values_one = explainer.shap_values(tg_one)"
   ],
   "metadata": {
    "collapsed": false,
    "pycharm": {
     "name": "#%%\n"
    }
   }
  },
  {
   "cell_type": "code",
   "execution_count": null,
   "outputs": [],
   "source": [
    "print(len(shap_values_one)) # number of actions (outputs) for which shap values were predicted\n",
    "print(len(shap_values_one[0])) # for each actions vector, there are 24 observations (that were passed as examples to\n",
    "# shap explainer), so for each of these there are values for each of the 217 input values\n",
    "print(len(shap_values_one[0][0])) # 217 input values\n",
    "print(shap_values_one[0][0][0])\n",
    "# so shap values are predicted for each action (output node) and within there are predictions for ecah input sample\n",
    "# and within the input sample for each fetaure passed to the model\n",
    "print(explainer.expected_value)"
   ],
   "metadata": {
    "collapsed": false,
    "pycharm": {
     "name": "#%%\n"
    }
   }
  },
  {
   "cell_type": "code",
   "execution_count": null,
   "outputs": [],
   "source": [
    "len(explainer.expected_value)"
   ],
   "metadata": {
    "collapsed": false,
    "pycharm": {
     "name": "#%%\n"
    }
   }
  },
  {
   "cell_type": "code",
   "execution_count": null,
   "outputs": [],
   "source": [
    "len(shap_values_one[0])"
   ],
   "metadata": {
    "collapsed": false,
    "pycharm": {
     "name": "#%%\n"
    }
   }
  },
  {
   "cell_type": "code",
   "execution_count": null,
   "outputs": [],
   "source": [
    "shap.summary_plot(shap_values = shap_values[0][0],\n",
    "                  features = tg_one\n",
    "                  )"
   ],
   "metadata": {
    "collapsed": false,
    "pycharm": {
     "name": "#%%\n"
    }
   }
  },
  {
   "cell_type": "code",
   "execution_count": null,
   "metadata": {},
   "outputs": [],
   "source": [
    "shap.force_plot(explainer.expected_value[0], shap_values_one[0][0], tg_one)"
   ]
  },
  {
   "cell_type": "code",
   "execution_count": 2,
   "metadata": {},
   "outputs": [
    {
     "data": {
      "text/plain": [
       "'C:\\\\Users\\\\Andy\\\\PycharmProjects\\\\finrlpaper2\\\\MT-DRL-Pytorch'"
      ]
     },
     "execution_count": 2,
     "metadata": {},
     "output_type": "execute_result"
    }
   ],
   "source": [
    "abspath = r\"C:\\Users\\Andy\\PycharmProjects\\finrlpaper2\\MT-DRL-Pytorch\"\n",
    "os.chdir(abspath)\n",
    "cwd_ = os.getcwd() # get current working directory\n",
    "cwd_"
   ]
  },
  {
   "cell_type": "code",
   "execution_count": 3,
   "metadata": {
    "pycharm": {
     "name": "#%%\n"
    }
   },
   "outputs": [],
   "source": [
    "results_path = \"results\"\n",
    "run_path = os.path.join(results_path, \"07-09-2021_04-00-06_ppoCustomBase_fm2_st\")\n",
    "seed = 0\n",
    "seed_path = os.path.join(run_path, \"agentSeed0\")\n",
    "\n",
    "states = pd.read_csv(os.path.join(\"results\", \"07-09-2021_04-00-06_ppoCustomBase_fm2_st\", \"randomSeed0\", \"state_memory\", \"state_memory_train_ppoCustomBase_ep21_totalSteps_63_finalStateCounter_2.csv\"), index_col=0)\n",
    "bg = torch.as_tensor(np.array(states.drop(columns=\"datadate\")), dtype=torch.float)[0:40]\n",
    "tg = torch.as_tensor(np.array(states.drop(columns=\"datadate\")), dtype=torch.float)[40:]"
   ]
  },
  {
   "cell_type": "code",
   "execution_count": 19,
   "metadata": {},
   "outputs": [],
   "source": [
    "bg_minusone = torch.as_tensor(np.array(states.drop(columns=\"datadate\")), dtype=torch.float)[0:-1]\n",
    "tg_one = torch.as_tensor(np.array(states.drop(columns=\"datadate\")), dtype=torch.float)[-1:]"
   ]
  },
  {
   "cell_type": "code",
   "execution_count": 31,
   "metadata": {},
   "outputs": [
    {
     "data": {
      "text/plain": [
       "tensor(39846.9180)"
      ]
     },
     "execution_count": 31,
     "metadata": {},
     "output_type": "execute_result"
    }
   ],
   "source": [
    "tg_one[0][0]"
   ]
  },
  {
   "cell_type": "code",
   "execution_count": 20,
   "metadata": {},
   "outputs": [
    {
     "data": {
      "text/plain": [
       "torch.Size([63, 217])"
      ]
     },
     "execution_count": 20,
     "metadata": {},
     "output_type": "execute_result"
    }
   ],
   "source": [
    "bg_minusone.shape"
   ]
  },
  {
   "cell_type": "code",
   "execution_count": 21,
   "metadata": {},
   "outputs": [
    {
     "data": {
      "text/plain": [
       "torch.Size([1, 217])"
      ]
     },
     "execution_count": 21,
     "metadata": {},
     "output_type": "execute_result"
    }
   ],
   "source": [
    "tg_one.shape"
   ]
  },
  {
   "cell_type": "code",
   "execution_count": 22,
   "metadata": {},
   "outputs": [
    {
     "data": {
      "text/plain": [
       "<All keys matched successfully>"
      ]
     },
     "execution_count": 22,
     "metadata": {},
     "output_type": "execute_result"
    }
   ],
   "source": [
    "brain = BrainActorCritic(observations_size=27*7+27+1, actions_num=27)\n",
    "brain.load_state_dict(torch.load(os.path.join(\"trained_models\", \"07-09-2021_04-00-06_ppoCustomBase_rew_addPFVal_fm2_st\", \"randomSeed0\",\"ppoCustomBase_trainTimesteps_128_ep21_trainBeginning_5221_trainEnding_5284\")))"
   ]
  },
  {
   "cell_type": "code",
   "execution_count": 23,
   "metadata": {},
   "outputs": [
    {
     "name": "stdout",
     "output_type": "stream",
     "text": [
      "manual device setting to cpu\n"
     ]
    }
   ],
   "source": [
    "explainer = shap.DeepExplainer(brain, bg_minusone, choose_output_idx=0)"
   ]
  },
  {
   "cell_type": "code",
   "execution_count": 27,
   "metadata": {},
   "outputs": [],
   "source": [
    "shap_values = explainer.shap_values(tg)"
   ]
  },
  {
   "cell_type": "code",
   "execution_count": 33,
   "metadata": {},
   "outputs": [],
   "source": [
    "shap_values_one = explainer.shap_values(tg_one)"
   ]
  },
  {
   "cell_type": "code",
   "execution_count": 34,
   "metadata": {},
   "outputs": [
    {
     "name": "stdout",
     "output_type": "stream",
     "text": [
      "27\n",
      "1\n",
      "217\n",
      "-0.00027177081210538745\n",
      "[-0.22008479  0.08239274  0.3203949  -0.14406383 -0.11197822  0.12157014\n",
      " -0.01726682  0.3194537  -0.06413664  0.13375722  0.02483165 -0.40680727\n",
      "  0.07405768  0.32040083  0.2636773  -0.12568444 -0.32062644  0.25290367\n",
      " -0.10833761 -0.22954248 -0.0881638  -0.2813219  -0.30760846  0.05873528\n",
      " -0.08670276 -0.28587237 -0.06167864]\n"
     ]
    }
   ],
   "source": [
    "print(len(shap_values_one)) # number of actions (outputs) for which shap values were predicted\n",
    "print(len(shap_values_one[0])) # for each actions vector, there are 24 observations (that were passed as examples to\n",
    "# shap explainer), so for each of these there are values for each of the 217 input values\n",
    "print(len(shap_values_one[0][0])) # 217 input values\n",
    "print(shap_values_one[0][0][0])\n",
    "# so shap values are predicted for each action (output node) and within there are predictions for ecah input sample\n",
    "# and within the input sample for each fetaure passed to the model\n",
    "print(explainer.expected_value)"
   ]
  },
  {
   "cell_type": "code",
   "execution_count": 39,
   "metadata": {},
   "outputs": [
    {
     "data": {
      "text/plain": [
       "27"
      ]
     },
     "execution_count": 39,
     "metadata": {},
     "output_type": "execute_result"
    }
   ],
   "source": [
    "len(explainer.expected_value)"
   ]
  },
  {
   "cell_type": "code",
   "execution_count": 50,
   "metadata": {},
   "outputs": [
    {
     "data": {
      "text/plain": [
       "1"
      ]
     },
     "execution_count": 50,
     "metadata": {},
     "output_type": "execute_result"
    }
   ],
   "source": [
    "len(shap_values_one[0])"
   ]
  },
  {
   "cell_type": "code",
   "execution_count": 47,
   "metadata": {},
   "outputs": [
    {
     "ename": "AssertionError",
     "evalue": "Summary plots need a matrix of shap_values, not a vector.",
     "output_type": "error",
     "traceback": [
      "\u001B[1;31m---------------------------------------------------------------------------\u001B[0m",
      "\u001B[1;31mAssertionError\u001B[0m                            Traceback (most recent call last)",
      "\u001B[1;32m<ipython-input-47-b3d134677958>\u001B[0m in \u001B[0;36m<module>\u001B[1;34m\u001B[0m\n\u001B[0;32m      1\u001B[0m shap.summary_plot(shap_values = shap_values[0][0],\n\u001B[1;32m----> 2\u001B[1;33m                   \u001B[0mfeatures\u001B[0m \u001B[1;33m=\u001B[0m \u001B[0mtg_one\u001B[0m\u001B[1;33m\u001B[0m\u001B[1;33m\u001B[0m\u001B[0m\n\u001B[0m\u001B[0;32m      3\u001B[0m                   )\n",
      "\u001B[1;32mc:\\users\\andy\\pycharmprojects\\finrlpaper2\\mt-drl-pytorch\\finrlpapervenv\\lib\\site-packages\\shap\\plots\\_beeswarm.py\u001B[0m in \u001B[0;36msummary_legacy\u001B[1;34m(shap_values, features, feature_names, max_display, plot_type, color, axis_color, title, alpha, show, sort, color_bar, plot_size, layered_violin_max_num_bins, class_names, class_inds, color_bar_label, cmap, auto_size_plot, use_log_scale)\u001B[0m\n\u001B[0;32m    464\u001B[0m         \u001B[1;32mif\u001B[0m \u001B[0mplot_type\u001B[0m \u001B[1;32mis\u001B[0m \u001B[1;32mNone\u001B[0m\u001B[1;33m:\u001B[0m\u001B[1;33m\u001B[0m\u001B[1;33m\u001B[0m\u001B[0m\n\u001B[0;32m    465\u001B[0m             \u001B[0mplot_type\u001B[0m \u001B[1;33m=\u001B[0m \u001B[1;34m\"dot\"\u001B[0m \u001B[1;31m# default for single output explanations\u001B[0m\u001B[1;33m\u001B[0m\u001B[1;33m\u001B[0m\u001B[0m\n\u001B[1;32m--> 466\u001B[1;33m         \u001B[1;32massert\u001B[0m \u001B[0mlen\u001B[0m\u001B[1;33m(\u001B[0m\u001B[0mshap_values\u001B[0m\u001B[1;33m.\u001B[0m\u001B[0mshape\u001B[0m\u001B[1;33m)\u001B[0m \u001B[1;33m!=\u001B[0m \u001B[1;36m1\u001B[0m\u001B[1;33m,\u001B[0m \u001B[1;34m\"Summary plots need a matrix of shap_values, not a vector.\"\u001B[0m\u001B[1;33m\u001B[0m\u001B[1;33m\u001B[0m\u001B[0m\n\u001B[0m\u001B[0;32m    467\u001B[0m \u001B[1;33m\u001B[0m\u001B[0m\n\u001B[0;32m    468\u001B[0m     \u001B[1;31m# default color:\u001B[0m\u001B[1;33m\u001B[0m\u001B[1;33m\u001B[0m\u001B[1;33m\u001B[0m\u001B[0m\n",
      "\u001B[1;31mAssertionError\u001B[0m: Summary plots need a matrix of shap_values, not a vector."
     ]
    }
   ],
   "source": [
    "shap.summary_plot(shap_values = shap_values[0][0],\n",
    "                  features = tg_one\n",
    "                  )"
   ]
  },
  {
   "cell_type": "code",
   "execution_count": 45,
   "metadata": {},
   "outputs": [
    {
     "ename": "Exception",
     "evalue": "Length of features is not equal to the length of shap_values!",
     "output_type": "error",
     "traceback": [
      "\u001B[1;31m---------------------------------------------------------------------------\u001B[0m",
      "\u001B[1;31mException\u001B[0m                                 Traceback (most recent call last)",
      "\u001B[1;32m<ipython-input-45-e1c3a2dc3280>\u001B[0m in \u001B[0;36m<module>\u001B[1;34m\u001B[0m\n\u001B[1;32m----> 1\u001B[1;33m \u001B[0mshap\u001B[0m\u001B[1;33m.\u001B[0m\u001B[0mforce_plot\u001B[0m\u001B[1;33m(\u001B[0m\u001B[0mexplainer\u001B[0m\u001B[1;33m.\u001B[0m\u001B[0mexpected_value\u001B[0m\u001B[1;33m[\u001B[0m\u001B[1;36m0\u001B[0m\u001B[1;33m]\u001B[0m\u001B[1;33m,\u001B[0m \u001B[0mshap_values_one\u001B[0m\u001B[1;33m[\u001B[0m\u001B[1;36m0\u001B[0m\u001B[1;33m]\u001B[0m\u001B[1;33m[\u001B[0m\u001B[1;36m0\u001B[0m\u001B[1;33m]\u001B[0m\u001B[1;33m,\u001B[0m \u001B[0mtg_one\u001B[0m\u001B[1;33m)\u001B[0m\u001B[1;33m\u001B[0m\u001B[1;33m\u001B[0m\u001B[0m\n\u001B[0m",
      "\u001B[1;32mc:\\users\\andy\\pycharmprojects\\finrlpaper2\\mt-drl-pytorch\\finrlpapervenv\\lib\\site-packages\\shap\\plots\\_force.py\u001B[0m in \u001B[0;36mforce\u001B[1;34m(base_value, shap_values, features, feature_names, out_names, link, plot_cmap, matplotlib, show, figsize, ordering_keys, ordering_keys_time_format, text_rotation, contribution_threshold)\u001B[0m\n\u001B[0;32m    142\u001B[0m                 \u001B[0mmsg\u001B[0m \u001B[1;33m+=\u001B[0m \u001B[1;34m\" You might be using an old format shap_values array with the base value \"\u001B[0m\u001B[0;31m \u001B[0m\u001B[0;31m\\\u001B[0m\u001B[1;33m\u001B[0m\u001B[1;33m\u001B[0m\u001B[0m\n\u001B[0;32m    143\u001B[0m                        \u001B[1;34m\"as the last column. In this case just pass the array without the last column.\"\u001B[0m\u001B[1;33m\u001B[0m\u001B[1;33m\u001B[0m\u001B[0m\n\u001B[1;32m--> 144\u001B[1;33m             \u001B[1;32mraise\u001B[0m \u001B[0mException\u001B[0m\u001B[1;33m(\u001B[0m\u001B[0mmsg\u001B[0m\u001B[1;33m)\u001B[0m\u001B[1;33m\u001B[0m\u001B[1;33m\u001B[0m\u001B[0m\n\u001B[0m\u001B[0;32m    145\u001B[0m \u001B[1;33m\u001B[0m\u001B[0m\n\u001B[0;32m    146\u001B[0m         \u001B[0minstance\u001B[0m \u001B[1;33m=\u001B[0m \u001B[0mInstance\u001B[0m\u001B[1;33m(\u001B[0m\u001B[0mnp\u001B[0m\u001B[1;33m.\u001B[0m\u001B[0mzeros\u001B[0m\u001B[1;33m(\u001B[0m\u001B[1;33m(\u001B[0m\u001B[1;36m1\u001B[0m\u001B[1;33m,\u001B[0m \u001B[0mlen\u001B[0m\u001B[1;33m(\u001B[0m\u001B[0mfeature_names\u001B[0m\u001B[1;33m)\u001B[0m\u001B[1;33m)\u001B[0m\u001B[1;33m)\u001B[0m\u001B[1;33m,\u001B[0m \u001B[0mfeatures\u001B[0m\u001B[1;33m)\u001B[0m\u001B[1;33m\u001B[0m\u001B[1;33m\u001B[0m\u001B[0m\n",
      "\u001B[1;31mException\u001B[0m: Length of features is not equal to the length of shap_values!"
     ]
    }
   ],
   "source": [
    "shap.force_plot(explainer.expected_value[0], shap_values_one[0][0], tg_one)"
   ]
  },
  {
   "cell_type": "code",
   "execution_count": 57,
   "metadata": {},
   "outputs": [
    {
     "ename": "TypeError",
     "evalue": "Object of type Tensor is not JSON serializable",
     "output_type": "error",
     "traceback": [
      "\u001B[1;31m---------------------------------------------------------------------------\u001B[0m",
      "\u001B[1;31mTypeError\u001B[0m                                 Traceback (most recent call last)",
      "\u001B[1;32mc:\\users\\andy\\pycharmprojects\\finrlpaper2\\mt-drl-pytorch\\finrlpapervenv\\lib\\site-packages\\IPython\\core\\formatters.py\u001B[0m in \u001B[0;36m__call__\u001B[1;34m(self, obj)\u001B[0m\n\u001B[0;32m    343\u001B[0m             \u001B[0mmethod\u001B[0m \u001B[1;33m=\u001B[0m \u001B[0mget_real_method\u001B[0m\u001B[1;33m(\u001B[0m\u001B[0mobj\u001B[0m\u001B[1;33m,\u001B[0m \u001B[0mself\u001B[0m\u001B[1;33m.\u001B[0m\u001B[0mprint_method\u001B[0m\u001B[1;33m)\u001B[0m\u001B[1;33m\u001B[0m\u001B[1;33m\u001B[0m\u001B[0m\n\u001B[0;32m    344\u001B[0m             \u001B[1;32mif\u001B[0m \u001B[0mmethod\u001B[0m \u001B[1;32mis\u001B[0m \u001B[1;32mnot\u001B[0m \u001B[1;32mNone\u001B[0m\u001B[1;33m:\u001B[0m\u001B[1;33m\u001B[0m\u001B[1;33m\u001B[0m\u001B[0m\n\u001B[1;32m--> 345\u001B[1;33m                 \u001B[1;32mreturn\u001B[0m \u001B[0mmethod\u001B[0m\u001B[1;33m(\u001B[0m\u001B[1;33m)\u001B[0m\u001B[1;33m\u001B[0m\u001B[1;33m\u001B[0m\u001B[0m\n\u001B[0m\u001B[0;32m    346\u001B[0m             \u001B[1;32mreturn\u001B[0m \u001B[1;32mNone\u001B[0m\u001B[1;33m\u001B[0m\u001B[1;33m\u001B[0m\u001B[0m\n\u001B[0;32m    347\u001B[0m         \u001B[1;32melse\u001B[0m\u001B[1;33m:\u001B[0m\u001B[1;33m\u001B[0m\u001B[1;33m\u001B[0m\u001B[0m\n",
      "\u001B[1;32mc:\\users\\andy\\pycharmprojects\\finrlpaper2\\mt-drl-pytorch\\finrlpapervenv\\lib\\site-packages\\shap\\plots\\_force.py\u001B[0m in \u001B[0;36m_repr_html_\u001B[1;34m(self)\u001B[0m\n\u001B[0;32m    481\u001B[0m \u001B[1;33m\u001B[0m\u001B[0m\n\u001B[0;32m    482\u001B[0m     \u001B[1;32mdef\u001B[0m \u001B[0m_repr_html_\u001B[0m\u001B[1;33m(\u001B[0m\u001B[0mself\u001B[0m\u001B[1;33m)\u001B[0m\u001B[1;33m:\u001B[0m\u001B[1;33m\u001B[0m\u001B[1;33m\u001B[0m\u001B[0m\n\u001B[1;32m--> 483\u001B[1;33m         \u001B[1;32mreturn\u001B[0m \u001B[0mself\u001B[0m\u001B[1;33m.\u001B[0m\u001B[0mhtml\u001B[0m\u001B[1;33m(\u001B[0m\u001B[1;33m)\u001B[0m\u001B[1;33m\u001B[0m\u001B[1;33m\u001B[0m\u001B[0m\n\u001B[0m",
      "\u001B[1;32mc:\\users\\andy\\pycharmprojects\\finrlpaper2\\mt-drl-pytorch\\finrlpapervenv\\lib\\site-packages\\shap\\plots\\_force.py\u001B[0m in \u001B[0;36mhtml\u001B[1;34m(self)\u001B[0m\n\u001B[0;32m    478\u001B[0m     \u001B[0mdocument\u001B[0m\u001B[1;33m.\u001B[0m\u001B[0mgetElementById\u001B[0m\u001B[1;33m(\u001B[0m\u001B[1;34m'{id}'\u001B[0m\u001B[1;33m)\u001B[0m\u001B[1;33m\u001B[0m\u001B[1;33m\u001B[0m\u001B[0m\n\u001B[0;32m    479\u001B[0m   );\n\u001B[1;32m--> 480\u001B[1;33m </script>\"\"\".format(err_msg=err_msg, data=json.dumps(self.data), id=id_generator())\n\u001B[0m\u001B[0;32m    481\u001B[0m \u001B[1;33m\u001B[0m\u001B[0m\n\u001B[0;32m    482\u001B[0m     \u001B[1;32mdef\u001B[0m \u001B[0m_repr_html_\u001B[0m\u001B[1;33m(\u001B[0m\u001B[0mself\u001B[0m\u001B[1;33m)\u001B[0m\u001B[1;33m:\u001B[0m\u001B[1;33m\u001B[0m\u001B[1;33m\u001B[0m\u001B[0m\n",
      "\u001B[1;32m~\\AppData\\Local\\Programs\\Python\\Python37\\Lib\\json\\__init__.py\u001B[0m in \u001B[0;36mdumps\u001B[1;34m(obj, skipkeys, ensure_ascii, check_circular, allow_nan, cls, indent, separators, default, sort_keys, **kw)\u001B[0m\n\u001B[0;32m    229\u001B[0m         \u001B[0mcls\u001B[0m \u001B[1;32mis\u001B[0m \u001B[1;32mNone\u001B[0m \u001B[1;32mand\u001B[0m \u001B[0mindent\u001B[0m \u001B[1;32mis\u001B[0m \u001B[1;32mNone\u001B[0m \u001B[1;32mand\u001B[0m \u001B[0mseparators\u001B[0m \u001B[1;32mis\u001B[0m \u001B[1;32mNone\u001B[0m \u001B[1;32mand\u001B[0m\u001B[1;33m\u001B[0m\u001B[1;33m\u001B[0m\u001B[0m\n\u001B[0;32m    230\u001B[0m         default is None and not sort_keys and not kw):\n\u001B[1;32m--> 231\u001B[1;33m         \u001B[1;32mreturn\u001B[0m \u001B[0m_default_encoder\u001B[0m\u001B[1;33m.\u001B[0m\u001B[0mencode\u001B[0m\u001B[1;33m(\u001B[0m\u001B[0mobj\u001B[0m\u001B[1;33m)\u001B[0m\u001B[1;33m\u001B[0m\u001B[1;33m\u001B[0m\u001B[0m\n\u001B[0m\u001B[0;32m    232\u001B[0m     \u001B[1;32mif\u001B[0m \u001B[0mcls\u001B[0m \u001B[1;32mis\u001B[0m \u001B[1;32mNone\u001B[0m\u001B[1;33m:\u001B[0m\u001B[1;33m\u001B[0m\u001B[1;33m\u001B[0m\u001B[0m\n\u001B[0;32m    233\u001B[0m         \u001B[0mcls\u001B[0m \u001B[1;33m=\u001B[0m \u001B[0mJSONEncoder\u001B[0m\u001B[1;33m\u001B[0m\u001B[1;33m\u001B[0m\u001B[0m\n",
      "\u001B[1;32m~\\AppData\\Local\\Programs\\Python\\Python37\\Lib\\json\\encoder.py\u001B[0m in \u001B[0;36mencode\u001B[1;34m(self, o)\u001B[0m\n\u001B[0;32m    197\u001B[0m         \u001B[1;31m# exceptions aren't as detailed.  The list call should be roughly\u001B[0m\u001B[1;33m\u001B[0m\u001B[1;33m\u001B[0m\u001B[1;33m\u001B[0m\u001B[0m\n\u001B[0;32m    198\u001B[0m         \u001B[1;31m# equivalent to the PySequence_Fast that ''.join() would do.\u001B[0m\u001B[1;33m\u001B[0m\u001B[1;33m\u001B[0m\u001B[1;33m\u001B[0m\u001B[0m\n\u001B[1;32m--> 199\u001B[1;33m         \u001B[0mchunks\u001B[0m \u001B[1;33m=\u001B[0m \u001B[0mself\u001B[0m\u001B[1;33m.\u001B[0m\u001B[0miterencode\u001B[0m\u001B[1;33m(\u001B[0m\u001B[0mo\u001B[0m\u001B[1;33m,\u001B[0m \u001B[0m_one_shot\u001B[0m\u001B[1;33m=\u001B[0m\u001B[1;32mTrue\u001B[0m\u001B[1;33m)\u001B[0m\u001B[1;33m\u001B[0m\u001B[1;33m\u001B[0m\u001B[0m\n\u001B[0m\u001B[0;32m    200\u001B[0m         \u001B[1;32mif\u001B[0m \u001B[1;32mnot\u001B[0m \u001B[0misinstance\u001B[0m\u001B[1;33m(\u001B[0m\u001B[0mchunks\u001B[0m\u001B[1;33m,\u001B[0m \u001B[1;33m(\u001B[0m\u001B[0mlist\u001B[0m\u001B[1;33m,\u001B[0m \u001B[0mtuple\u001B[0m\u001B[1;33m)\u001B[0m\u001B[1;33m)\u001B[0m\u001B[1;33m:\u001B[0m\u001B[1;33m\u001B[0m\u001B[1;33m\u001B[0m\u001B[0m\n\u001B[0;32m    201\u001B[0m             \u001B[0mchunks\u001B[0m \u001B[1;33m=\u001B[0m \u001B[0mlist\u001B[0m\u001B[1;33m(\u001B[0m\u001B[0mchunks\u001B[0m\u001B[1;33m)\u001B[0m\u001B[1;33m\u001B[0m\u001B[1;33m\u001B[0m\u001B[0m\n",
      "\u001B[1;32m~\\AppData\\Local\\Programs\\Python\\Python37\\Lib\\json\\encoder.py\u001B[0m in \u001B[0;36miterencode\u001B[1;34m(self, o, _one_shot)\u001B[0m\n\u001B[0;32m    255\u001B[0m                 \u001B[0mself\u001B[0m\u001B[1;33m.\u001B[0m\u001B[0mkey_separator\u001B[0m\u001B[1;33m,\u001B[0m \u001B[0mself\u001B[0m\u001B[1;33m.\u001B[0m\u001B[0mitem_separator\u001B[0m\u001B[1;33m,\u001B[0m \u001B[0mself\u001B[0m\u001B[1;33m.\u001B[0m\u001B[0msort_keys\u001B[0m\u001B[1;33m,\u001B[0m\u001B[1;33m\u001B[0m\u001B[1;33m\u001B[0m\u001B[0m\n\u001B[0;32m    256\u001B[0m                 self.skipkeys, _one_shot)\n\u001B[1;32m--> 257\u001B[1;33m         \u001B[1;32mreturn\u001B[0m \u001B[0m_iterencode\u001B[0m\u001B[1;33m(\u001B[0m\u001B[0mo\u001B[0m\u001B[1;33m,\u001B[0m \u001B[1;36m0\u001B[0m\u001B[1;33m)\u001B[0m\u001B[1;33m\u001B[0m\u001B[1;33m\u001B[0m\u001B[0m\n\u001B[0m\u001B[0;32m    258\u001B[0m \u001B[1;33m\u001B[0m\u001B[0m\n\u001B[0;32m    259\u001B[0m def _make_iterencode(markers, _default, _encoder, _indent, _floatstr,\n",
      "\u001B[1;32m~\\AppData\\Local\\Programs\\Python\\Python37\\Lib\\json\\encoder.py\u001B[0m in \u001B[0;36mdefault\u001B[1;34m(self, o)\u001B[0m\n\u001B[0;32m    177\u001B[0m \u001B[1;33m\u001B[0m\u001B[0m\n\u001B[0;32m    178\u001B[0m         \"\"\"\n\u001B[1;32m--> 179\u001B[1;33m         raise TypeError(f'Object of type {o.__class__.__name__} '\n\u001B[0m\u001B[0;32m    180\u001B[0m                         f'is not JSON serializable')\n\u001B[0;32m    181\u001B[0m \u001B[1;33m\u001B[0m\u001B[0m\n",
      "\u001B[1;31mTypeError\u001B[0m: Object of type Tensor is not JSON serializable"
     ]
    },
    {
     "data": {
      "text/plain": [
       "<shap.plots._force.AdditiveForceArrayVisualizer at 0x174a61ea0c8>"
      ]
     },
     "execution_count": 57,
     "metadata": {},
     "output_type": "execute_result"
    }
   ],
   "source": [
    "shap.force_plot(base_value = explainer.expected_value[0],\n",
    "                shap_values = shap_values[0],\n",
    "                features = tg\n",
    "                )"
   ]
  },
  {
   "cell_type": "code",
   "execution_count": 19,
   "metadata": {},
   "outputs": [
    {
     "ename": "AxisError",
     "evalue": "axis 1 is out of bounds for array of dimension 1",
     "output_type": "error",
     "traceback": [
      "\u001B[1;31m---------------------------------------------------------------------------\u001B[0m",
      "\u001B[1;31mAxisError\u001B[0m                                 Traceback (most recent call last)",
      "\u001B[1;32m<ipython-input-19-32cc988f4736>\u001B[0m in \u001B[0;36m<module>\u001B[1;34m\u001B[0m\n\u001B[1;32m----> 1\u001B[1;33m \u001B[0mshap\u001B[0m\u001B[1;33m.\u001B[0m\u001B[0mforce_plot\u001B[0m\u001B[1;33m(\u001B[0m\u001B[0me\u001B[0m\u001B[1;33m.\u001B[0m\u001B[0mexpected_value\u001B[0m\u001B[1;33m[\u001B[0m\u001B[1;36m0\u001B[0m\u001B[1;33m]\u001B[0m\u001B[1;33m,\u001B[0m \u001B[0mnp\u001B[0m\u001B[1;33m.\u001B[0m\u001B[0mconcatenate\u001B[0m\u001B[1;33m(\u001B[0m\u001B[1;33m[\u001B[0m\u001B[0mshap_values\u001B[0m\u001B[1;33m[\u001B[0m\u001B[1;36m0\u001B[0m\u001B[1;33m]\u001B[0m\u001B[1;33m[\u001B[0m\u001B[1;36m0\u001B[0m\u001B[1;33m]\u001B[0m\u001B[1;33m,\u001B[0m \u001B[0mshap_values\u001B[0m\u001B[1;33m[\u001B[0m\u001B[1;36m0\u001B[0m\u001B[1;33m]\u001B[0m\u001B[1;33m[\u001B[0m\u001B[1;36m1\u001B[0m\u001B[1;33m]\u001B[0m\u001B[1;33m]\u001B[0m\u001B[1;33m,\u001B[0m \u001B[0maxis\u001B[0m\u001B[1;33m=\u001B[0m\u001B[1;36m1\u001B[0m\u001B[1;33m)\u001B[0m\u001B[1;33m[\u001B[0m\u001B[0mi\u001B[0m\u001B[1;33m]\u001B[0m\u001B[1;33m)\u001B[0m\u001B[1;33m\u001B[0m\u001B[1;33m\u001B[0m\u001B[0m\n\u001B[0m",
      "\u001B[1;32m<__array_function__ internals>\u001B[0m in \u001B[0;36mconcatenate\u001B[1;34m(*args, **kwargs)\u001B[0m\n",
      "\u001B[1;31mAxisError\u001B[0m: axis 1 is out of bounds for array of dimension 1"
     ]
    }
   ],
   "source": [
    "shap.force_plot(e.expected_value[0], np.concatenate([shap_values[0][0], shap_values[0][1]], axis=1)[i])"
   ]
  },
  {
   "cell_type": "code",
   "execution_count": 34,
   "metadata": {},
   "outputs": [],
   "source": [
    "#shap_values[0][0] # len 217"
   ]
  },
  {
   "cell_type": "code",
   "execution_count": 35,
   "metadata": {},
   "outputs": [
    {
     "data": {
      "text/plain": [
       "array([-1.65704732e-05,  2.89176363e-08,  4.80306319e-08, -2.07583753e-07,\n",
       "        6.45848388e-08,  1.64281175e-08,  2.28817463e-08,  1.05095879e-07,\n",
       "        7.37988586e-08, -1.82065796e-09, -1.11253708e-08,  2.92557871e-07,\n",
       "       -2.24995116e-08, -1.13692636e-07,  9.88864901e-09,  6.16841248e-07,\n",
       "       -3.38305961e-09,  3.47575080e-09, -2.31753674e-08, -2.27608172e-08,\n",
       "        2.55893440e-08,  1.01430517e-08, -8.52931947e-08,  1.74173014e-08,\n",
       "        3.77772196e-08, -7.59329595e-08,  1.27201378e-08, -1.30343043e-08,\n",
       "       -1.27864941e-09,  5.61117153e-10, -4.10396295e-09, -2.03009485e-08,\n",
       "       -2.22615371e-09,  8.04539213e-10,  3.92617050e-09,  4.37058029e-11,\n",
       "        7.90813992e-09,  7.54016072e-10, -2.85481550e-09, -2.50933185e-09,\n",
       "       -1.16848575e-09, -2.52769849e-09,  3.76340875e-10, -4.25851937e-10,\n",
       "        5.73983694e-10,  5.27175303e-10, -7.08070380e-10, -5.80585927e-11,\n",
       "        1.45142998e-09,  5.87567239e-09,  3.75120424e-09,  6.16798890e-10,\n",
       "        1.26352734e-10,  4.45777948e-09, -5.04299880e-10,  3.98765569e-12,\n",
       "        1.65504450e-11,  6.46761724e-12,  2.48659979e-13,  1.61121691e-12,\n",
       "        6.04356951e-13, -3.56906648e-12,  1.61163793e-13, -1.12486127e-12,\n",
       "        2.17766343e-12, -2.54420920e-12,  4.75711137e-12,  2.75886709e-11,\n",
       "        8.74697276e-12, -1.01420556e-11, -1.99784416e-12, -2.96509800e-12,\n",
       "        1.13854863e-11,  1.74768988e-12, -4.30654601e-12,  2.81995607e-12,\n",
       "        1.14263568e-12, -1.62897614e-12, -5.26830912e-13,  1.90985574e-12,\n",
       "       -1.31247823e-13, -5.74479440e-12, -4.52360267e-11, -3.47980260e-12,\n",
       "       -1.38314171e-09, -4.33660086e-09,  2.71195792e-11,  4.06039265e-11,\n",
       "       -1.82897447e-10, -2.90004398e-09,  3.88155552e-09,  7.51318119e-10,\n",
       "       -2.74690426e-09,  1.43741263e-09, -1.36538437e-11,  3.26373734e-10,\n",
       "        1.45340207e-09, -7.04550585e-11,  9.80916903e-10, -2.54562954e-10,\n",
       "       -1.63902589e-11, -4.89776067e-11, -4.10764700e-10, -1.02560294e-09,\n",
       "       -2.26738739e-09, -1.74242537e-10,  2.88942759e-10,  1.64908170e-10,\n",
       "       -2.86024676e-10,  1.00230690e-09, -4.86586993e-10,  8.58707494e-10,\n",
       "       -1.47426182e-09, -1.25803354e-10, -9.03369735e-09, -1.60114821e-09,\n",
       "       -3.22104166e-09,  4.20407265e-09, -1.60659963e-09,  6.53249344e-10,\n",
       "       -2.25845742e-09,  1.99706607e-09, -1.69194173e-10,  1.15071175e-09,\n",
       "       -7.59762642e-10,  1.15417076e-09, -1.94478322e-09, -3.34301642e-10,\n",
       "        5.44784351e-09,  3.36392603e-09, -3.43850237e-09, -2.59579802e-10,\n",
       "        2.19971552e-09, -2.19915286e-09, -2.97634739e-09, -2.66559086e-09,\n",
       "       -3.16303606e-08, -4.43667432e-08,  1.62661706e-08,  1.81639379e-08,\n",
       "       -3.84426606e-08,  1.34469005e-07,  8.82009843e-09,  3.03548866e-08,\n",
       "        8.22799961e-09, -6.04232842e-09,  1.96881249e-08, -1.03211732e-07,\n",
       "        4.36119016e-08,  1.34530094e-08,  1.18932473e-08, -4.70656580e-08,\n",
       "        4.06698092e-10, -9.55625552e-08, -4.38997816e-09, -2.58204089e-08,\n",
       "       -3.26240759e-08,  2.67877431e-09,  1.66356386e-08, -6.16073379e-08,\n",
       "       -3.45805837e-08,  2.09357260e-08, -1.68489915e-08, -5.47751733e-10,\n",
       "       -3.05047498e-09, -4.79099815e-10, -1.17693433e-09,  2.16807772e-09,\n",
       "        4.78344520e-09,  1.71767467e-09,  6.82532786e-09,  8.48666737e-09,\n",
       "        2.67850497e-09,  4.44424941e-09, -2.07954387e-09, -1.37607548e-09,\n",
       "       -1.24054822e-09,  4.08384837e-09,  1.37845935e-09,  7.53526852e-10,\n",
       "       -5.25133548e-10,  1.77939996e-09,  2.06985558e-08, -4.55557059e-09,\n",
       "       -1.54779300e-10, -1.25220689e-09,  2.77561041e-09, -4.69633488e-09,\n",
       "       -4.88405227e-09, -1.54349900e-09, -1.39162717e-02,  1.63009347e-04,\n",
       "        3.27573507e-04,  8.22323200e-04,  4.46416991e-04, -1.26672059e-03,\n",
       "       -2.97909661e-04,  1.97874702e-04, -1.29139211e-04,  9.42783518e-05,\n",
       "        5.08900324e-04,  3.77659220e-04,  6.86257798e-03,  3.18599911e-03,\n",
       "       -3.45642236e-03,  7.61635602e-06, -7.20970740e-04,  2.61088222e-04,\n",
       "       -7.74997461e-04, -5.12180093e-04, -6.04896515e-04, -2.20541912e-03,\n",
       "       -2.28292236e-04, -2.12965577e-04,  4.89365659e-04,  6.03279215e-04,\n",
       "        3.29421222e-04])"
      ]
     },
     "execution_count": 35,
     "metadata": {},
     "output_type": "execute_result"
    }
   ],
   "source": [
    "shap_values[0][1]"
   ]
  },
  {
   "cell_type": "code",
   "execution_count": 25,
   "metadata": {},
   "outputs": [
    {
     "name": "stdout",
     "output_type": "stream",
     "text": [
      "Parameter containing:\n",
      "tensor([[ 0.0211,  0.0204,  0.1280,  ..., -0.0383, -0.0719,  0.0346],\n",
      "        [-0.0690,  0.0577, -0.0210,  ..., -0.0902, -0.0038,  0.1099],\n",
      "        [ 0.1178,  0.0454,  0.0100,  ..., -0.1135,  0.0594, -0.0989],\n",
      "        ...,\n",
      "        [-0.0274, -0.0443,  0.1487,  ..., -0.0851, -0.0518, -0.0388],\n",
      "        [-0.0158,  0.1290,  0.0741,  ...,  0.0167, -0.0017,  0.1001],\n",
      "        [ 0.0057,  0.0110, -0.0343,  ..., -0.0714,  0.0240,  0.0008]],\n",
      "       requires_grad=True)\n",
      "Parameter containing:\n",
      "tensor([-0.0188,  0.0066,  0.0143,  0.0043,  0.0127, -0.0175,  0.0091, -0.0134,\n",
      "        -0.0141,  0.0155,  0.0128, -0.0146,  0.0134,  0.0147, -0.0180,  0.0129,\n",
      "        -0.0108,  0.0064, -0.0083, -0.0166,  0.0035, -0.0165,  0.0216,  0.0125,\n",
      "        -0.0037,  0.0111, -0.0023, -0.0081,  0.0147, -0.0203, -0.0184,  0.0192,\n",
      "        -0.0075, -0.0097, -0.0140,  0.0149, -0.0188, -0.0129,  0.0160, -0.0126,\n",
      "         0.0127, -0.0134, -0.0098,  0.0087, -0.0133,  0.0031,  0.0143, -0.0063,\n",
      "        -0.0150,  0.0127, -0.0128, -0.0158,  0.0153, -0.0165,  0.0226,  0.0127,\n",
      "         0.0122,  0.0125,  0.0120,  0.0169,  0.0147, -0.0069, -0.0119, -0.0005],\n",
      "       requires_grad=True)\n",
      "Parameter containing:\n",
      "tensor([[   910540.3750,   4493313.5000, -20485036.0000,  ...,\n",
      "          15493220.0000,  27248876.0000,  -2743395.2500],\n",
      "        [   910540.3750,   4493313.5000, -20485036.0000,  ...,\n",
      "          15493220.0000,  27248876.0000,  -2743395.2500],\n",
      "        [   910540.3750,   4493313.5000, -20485036.0000,  ...,\n",
      "          15493220.0000,  27248876.0000,  -2743395.2500],\n",
      "        ...,\n",
      "        [  2451756.2500,   4935547.0000, -19941520.0000,  ...,\n",
      "          12149158.0000,  21770660.0000,  -3392177.5000],\n",
      "        [  1298161.7500,   3372517.5000, -14065592.0000,  ...,\n",
      "           7704145.5000,  15873067.0000,  -3036737.7500],\n",
      "        [   379794.5312,   1566752.8750,  -7168396.5000,  ...,\n",
      "           5574150.0000,   8723185.0000,   -805507.3125]], requires_grad=True)\n",
      "Parameter containing:\n",
      "tensor([[ 1.,  1., -1.,  ...,  1.,  1., -1.],\n",
      "        [ 1.,  1., -1.,  ...,  1.,  1., -1.],\n",
      "        [ 1.,  1., -1.,  ...,  1.,  1., -1.],\n",
      "        ...,\n",
      "        [ 1.,  1., -1.,  ...,  1.,  1., -1.],\n",
      "        [ 1.,  1., -1.,  ...,  1.,  1., -1.],\n",
      "        [ 1.,  1., -1.,  ...,  1.,  1., -1.]], requires_grad=True)\n",
      "Parameter containing:\n",
      "tensor([[-0.0091,  0.1048, -0.1127,  ...,  0.1175, -0.0339, -0.1134],\n",
      "        [ 0.1424,  0.1329,  0.0787,  ...,  0.1282,  0.0427,  0.1032],\n",
      "        [-0.0059, -0.3099, -0.0188,  ..., -0.0191, -0.0451, -0.0352],\n",
      "        ...,\n",
      "        [ 0.1852,  0.0325,  0.2116,  ...,  0.1862,  0.0188, -0.0973],\n",
      "        [ 0.0778, -0.0964,  0.1768,  ...,  0.2494, -0.3334, -0.1055],\n",
      "        [ 0.0708, -0.0054, -0.0483,  ...,  0.0430,  0.1132, -0.0732]],\n",
      "       requires_grad=True)\n",
      "Parameter containing:\n",
      "tensor([ 0.0160, -0.0071, -0.0091, -0.0066,  0.0109,  0.0090,  0.0113,  0.0042,\n",
      "        -0.0007, -0.0090, -0.0002,  0.0141,  0.0140,  0.0057,  0.0070,  0.0104,\n",
      "        -0.0094, -0.0166, -0.0020, -0.0006, -0.0211,  0.0097, -0.0229,  0.0100,\n",
      "         0.0038, -0.0042,  0.0181,  0.0033, -0.0108, -0.0136, -0.0062, -0.0092,\n",
      "        -0.0119,  0.0047, -0.0033, -0.0031,  0.0050,  0.0114, -0.0066,  0.0086,\n",
      "         0.0050,  0.0245,  0.0147, -0.0181, -0.0078,  0.0078, -0.0065,  0.0076,\n",
      "        -0.0040,  0.0064,  0.0088,  0.0143,  0.0094,  0.0111, -0.0037, -0.0203,\n",
      "         0.0027,  0.0057, -0.0085,  0.0079, -0.0112, -0.0110, -0.0067,  0.0074],\n",
      "       requires_grad=True)\n",
      "Parameter containing:\n",
      "tensor([[-0.7693,  0.0292,  0.4242,  ...,  0.4701, -0.4730, -0.8619],\n",
      "        [-0.7693,  0.0292,  0.4242,  ...,  0.4701, -0.4730, -0.8619],\n",
      "        [-0.7693,  0.0292,  0.4242,  ...,  0.4701, -0.4730, -0.8619],\n",
      "        ...,\n",
      "        [-0.6577, -0.4271,  0.5877,  ...,  0.4487, -1.0315, -1.5106],\n",
      "        [-0.0582, -0.2022,  0.5971,  ...,  0.6980, -0.8499, -1.4963],\n",
      "        [ 0.4299, -0.2024,  0.7068,  ...,  0.8020,  0.2318,  0.2457]],\n",
      "       requires_grad=True)\n",
      "Parameter containing:\n",
      "tensor([[-0.6465,  0.0292,  0.4005,  ...,  0.4383, -0.4406, -0.6972],\n",
      "        [-0.6465,  0.0292,  0.4005,  ...,  0.4383, -0.4406, -0.6972],\n",
      "        [-0.6465,  0.0292,  0.4005,  ...,  0.4383, -0.4406, -0.6972],\n",
      "        ...,\n",
      "        [-0.5768, -0.4029,  0.5282,  ...,  0.4208, -0.7745, -0.9071],\n",
      "        [-0.0581, -0.1994,  0.5350,  ...,  0.6031, -0.6910, -0.9045],\n",
      "        [ 0.4053, -0.1997,  0.6086,  ...,  0.6652,  0.2277,  0.2408]],\n",
      "       requires_grad=True)\n",
      "Parameter containing:\n",
      "tensor([ 0.0126,  0.0432,  0.0067,  0.0080, -0.0187,  0.0265,  0.0057, -0.0136,\n",
      "        -0.0268,  0.0035,  0.0338, -0.0035, -0.0134,  0.0014,  0.0133, -0.0004,\n",
      "         0.0342, -0.0316,  0.0531,  0.0370, -0.0085, -0.0035, -0.0094, -0.0026,\n",
      "         0.0562,  0.0088, -0.0287], requires_grad=True)\n",
      "Parameter containing:\n",
      "tensor([[-0.0060,  0.0135, -0.0050,  ...,  0.0074,  0.0090,  0.0161],\n",
      "        [-0.0166,  0.0324, -0.0108,  ..., -0.0117,  0.0061,  0.0020],\n",
      "        [ 0.0346, -0.0104,  0.0252,  ...,  0.0156,  0.0112, -0.0123],\n",
      "        ...,\n",
      "        [-0.0112, -0.0031, -0.0110,  ...,  0.0054, -0.0047, -0.0002],\n",
      "        [ 0.0114,  0.0170, -0.0023,  ..., -0.0085, -0.0192,  0.0071],\n",
      "        [ 0.0242, -0.0079, -0.0095,  ..., -0.0062,  0.0131,  0.0230]],\n",
      "       requires_grad=True)\n",
      "Parameter containing:\n",
      "tensor([-0.0108,  0.0097,  0.0154, -0.0079,  0.0028,  0.0134, -0.0058,  0.0214,\n",
      "         0.0026,  0.0127, -0.0014, -0.0167,  0.0039,  0.0177,  0.0152, -0.0098,\n",
      "        -0.0241,  0.0174, -0.0017, -0.0185, -0.0125, -0.0174, -0.0140,  0.0055,\n",
      "        -0.0080, -0.0169, -0.0049], requires_grad=True)\n",
      "Parameter containing:\n",
      "tensor([[-0.1966,  0.1577,  0.2943,  ..., -0.0568, -0.3134, -0.1054],\n",
      "        [-0.1966,  0.1577,  0.2943,  ..., -0.0568, -0.3134, -0.1054],\n",
      "        [-0.1966,  0.1577,  0.2943,  ..., -0.0568, -0.3134, -0.1054],\n",
      "        ...,\n",
      "        [-0.2518,  0.0895,  0.3326,  ..., -0.1021, -0.3388, -0.1186],\n",
      "        [-0.2394,  0.0879,  0.3453,  ..., -0.0872, -0.3562, -0.1044],\n",
      "        [-0.1927,  0.0339,  0.3844,  ..., -0.0639, -0.2972, -0.0350]],\n",
      "       requires_grad=True)\n",
      "Parameter containing:\n",
      "tensor([[-0.1941,  0.1564,  0.2861,  ..., -0.0567, -0.3035, -0.1050],\n",
      "        [-0.1941,  0.1564,  0.2861,  ..., -0.0567, -0.3035, -0.1050],\n",
      "        [-0.1941,  0.1564,  0.2861,  ..., -0.0567, -0.3035, -0.1050],\n",
      "        ...,\n",
      "        [-0.2466,  0.0892,  0.3208,  ..., -0.1017, -0.3264, -0.1181],\n",
      "        [-0.2349,  0.0877,  0.3322,  ..., -0.0870, -0.3419, -0.1040],\n",
      "        [-0.1903,  0.0338,  0.3665,  ..., -0.0638, -0.2888, -0.0350]],\n",
      "       requires_grad=True)\n",
      "Parameter containing:\n",
      "tensor([[ 0.0293, -0.0425, -0.1026, -0.1187,  0.2408,  0.1794,  0.0302,  0.0105,\n",
      "         -0.0233, -0.1265, -0.1230,  0.1128,  0.1941,  0.1488,  0.0555,  0.0264,\n",
      "         -0.1705, -0.0046,  0.1485,  0.1499,  0.0076,  0.1308, -0.1758,  0.0490,\n",
      "          0.0998,  0.0420,  0.3250, -0.1685, -0.2587, -0.0755, -0.0864, -0.1438,\n",
      "         -0.0632,  0.0620,  0.1873, -0.1529,  0.1955,  0.0004, -0.0464,  0.1933,\n",
      "          0.0430, -0.0227,  0.0171, -0.0237, -0.0357,  0.1232, -0.0902,  0.0139,\n",
      "         -0.1963,  0.0547,  0.0894,  0.0822,  0.0738,  0.1149, -0.0093, -0.2016,\n",
      "         -0.1123,  0.1453, -0.1149,  0.1593, -0.2448, -0.0609, -0.0314, -0.1628]],\n",
      "       requires_grad=True)\n",
      "Parameter containing:\n",
      "tensor([0.0106], requires_grad=True)\n"
     ]
    }
   ],
   "source": [
    "for param in brain.parameters():\n",
    "    print(param)"
   ]
  },
  {
   "cell_type": "code",
   "execution_count": null,
   "metadata": {},
   "outputs": [],
   "source": []
  }
 ],
 "metadata": {
  "kernelspec": {
   "display_name": "Python 3",
   "language": "python",
   "name": "python3"
  },
  "language_info": {
   "codemirror_mode": {
    "name": "ipython",
    "version": 3
   },
   "file_extension": ".py",
   "mimetype": "text/x-python",
   "name": "python",
   "nbconvert_exporter": "python",
   "pygments_lexer": "ipython3",
   "version": "3.7.7"
  }
 },
 "nbformat": 4,
 "nbformat_minor": 1
}